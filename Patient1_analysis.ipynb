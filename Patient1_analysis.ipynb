{
 "cells": [
  {
   "cell_type": "code",
   "execution_count": null,
   "id": "045a073a",
   "metadata": {
    "scrolled": false
   },
   "outputs": [],
   "source": [
    "import scanpy as sc\n",
    "import numpy as np\n",
    "import pandas as pd\n",
    "import anndata as ad\n",
    "import matplotlib.pyplot as plt\n",
    "from scipy.io import mmread\n",
    "from sklearn.preprocessing import normalize\n",
    "import anndata as ad\n",
    "import matplotlib as mpl\n",
    "from harmony import harmonize\n",
    "sc.set_figure_params(figsize=(6, 6), frameon=False)\n",
    "sc.settings.n_jobs=8"
   ]
  },
  {
   "cell_type": "markdown",
   "id": "82615a9a",
   "metadata": {},
   "source": [
    "# Read the Data"
   ]
  },
  {
   "cell_type": "code",
   "execution_count": null,
   "id": "ee3dd581",
   "metadata": {
    "scrolled": true
   },
   "outputs": [],
   "source": [
    "HCC_1N = './raw_data/Adjacent/HCC-1N'\n",
    "HCC_2N = './raw_data/Adjacent/HCC-2N'\n",
    "HCC_3N = './raw_data/Adjacent/HCC-3N'\n",
    "HCC_4N = './raw_data/Adjacent/HCC-4N'\n",
    "\n",
    "HCC_1L = './raw_data/Leading_Edge/HCC-1L'\n",
    "HCC_2L = './raw_data/Leading_Edge/HCC-2L'\n",
    "HCC_3L = './raw_data/Leading_Edge/HCC-3L'\n",
    "HCC_4L = './raw_data/Leading_Edge/HCC-4L'\n",
    "\n",
    "HCC_1T = './raw_data/Primary_Tumor/HCC-1T'\n",
    "HCC_2T = './raw_data/Primary_Tumor/HCC-2T'\n",
    "HCC_3T = './raw_data/Primary_Tumor/HCC-3T'\n",
    "HCC_4T = './raw_data/Primary_Tumor/HCC-4T'\n",
    "\n",
    "visium_paths = [HCC_1N, HCC_2N, HCC_3N, HCC_4N, HCC_1L, HCC_2L, HCC_3L, HCC_4L, HCC_1T, HCC_2T, HCC_3T, HCC_4T]\n",
    "visium_names = ['HCC-'+ str(i + 1) + 'N-Adjacent'for i in range(4)] + \\\n",
    "               ['HCC-'+ str(i + 1) + 'L-Leading_Edge'for i in range(4)] + \\\n",
    "               ['HCC-'+ str(i + 1) + 'T-Primary_Tumor'for i in range(4)]"
   ]
  },
  {
   "cell_type": "code",
   "execution_count": null,
   "id": "e56f31ad",
   "metadata": {
    "scrolled": true
   },
   "outputs": [],
   "source": [
    "adata_l = []\n",
    "adata_X = []\n",
    "for i in range(12):\n",
    "    adata = sc.read_visium(visium_paths[i])\n",
    "    adata_l.append(adata)\n",
    "    adata_X.append(adata.X.toarray())"
   ]
  },
  {
   "cell_type": "code",
   "execution_count": null,
   "id": "3e012d6b",
   "metadata": {},
   "outputs": [],
   "source": [
    "adata_T = adata_l[8]\n",
    "adata_L = adata_l[4]\n",
    "adata_N = adata_l[0]"
   ]
  },
  {
   "cell_type": "markdown",
   "id": "33e0fdd2",
   "metadata": {},
   "source": [
    "# Batch Effects Removal"
   ]
  },
  {
   "cell_type": "code",
   "execution_count": null,
   "id": "3117f028",
   "metadata": {
    "scrolled": true
   },
   "outputs": [],
   "source": [
    "#remove batch effects among 4 slides of this patient\n",
    "#prepare for clustering\n",
    "#might take a while\n",
    "def prepare_for_umap(adata, resolution = 0.5, n_top_genes=2000, n_comps=50, batch_effects = False, df_metadata = None):\n",
    "    sc.pp.normalize_total(adata, inplace=True)\n",
    "    print('Finish normalization!')\n",
    "    sc.pp.log1p(adata)\n",
    "    sc.pp.highly_variable_genes(adata, flavor=\"seurat\", n_top_genes=n_top_genes)\n",
    "    sc.pp.pca(adata, n_comps, use_highly_variable = True)\n",
    "    print('Finish PCA!')\n",
    "    \n",
    "    if batch_effects:\n",
    "        X_PCA = adata.obsm['X_pca'].copy()\n",
    "        print(\"Processing shape: \", X_PCA.shape)\n",
    "        corr_PCA = harmonize(X_PCA, df_metadata, batch_key = 'Sample ID')\n",
    "        print(\"Finish correction!\")\n",
    "        adata.obsm['X_pca'] = corr_PCA\n",
    "        \n",
    "    sc.pp.neighbors(adata, use_rep = 'X_pca')\n",
    "    sc.tl.umap(adata)\n",
    "    sc.tl.leiden(adata, key_added=\"clusters\", resolution = resolution)"
   ]
  },
  {
   "cell_type": "code",
   "execution_count": null,
   "id": "f7831e55",
   "metadata": {},
   "outputs": [],
   "source": [
    "#maybe consider use genes to directly cluster\n",
    "Patient1_X = np.concatenate((adata_X[0], adata_X[4], adata_X[8]), axis = 0)\n",
    "Patient1_id = [visium_names[0] for j in range(len(adata_N))] + \\\n",
    "[visium_names[4] for j in range(len(adata_L))] + \\\n",
    "[visium_names[8] for j in range(len(adata_T))]"
   ]
  },
  {
   "cell_type": "code",
   "execution_count": null,
   "id": "26100548",
   "metadata": {},
   "outputs": [],
   "source": [
    "Patient1_adata = ad.AnnData(X = Patient1_X, dtype=np.int32)\n",
    "Patient1_adata.var_names = adata_l[0].var_names\n",
    "Patient1_adata.var_names_make_unique()\n",
    "Patient1_adata.obs['Sample ID'] = Patient1_id"
   ]
  },
  {
   "cell_type": "code",
   "execution_count": null,
   "id": "33f8c8f2",
   "metadata": {},
   "outputs": [],
   "source": [
    "prepare_for_umap(Patient1_adata, resolution = 0.3, n_top_genes=2000, n_comps=20, batch_effects = True, df_metadata = pd.DataFrame(Patient1_id, columns = ['Sample ID']))"
   ]
  },
  {
   "cell_type": "markdown",
   "id": "1567c4a2",
   "metadata": {},
   "source": [
    "# Clustering"
   ]
  },
  {
   "cell_type": "code",
   "execution_count": null,
   "id": "33df3cba",
   "metadata": {},
   "outputs": [],
   "source": [
    "HCC_N_cluster = Patient1_adata.obs['clusters'][0: len(adata_X[0])]\n",
    "adata_N.obs['cluster'] = HCC_N_cluster.values\n",
    "HCC_L_cluster = Patient1_adata.obs['clusters'][len(adata_X[0]): (len(adata_X[0]) + len(adata_X[4]))]\n",
    "adata_L.obs['cluster'] = HCC_L_cluster.values\n",
    "HCC_T_cluster = Patient1_adata.obs['clusters'][(len(adata_X[0]) + len(adata_X[4])): (len(adata_X[0]) + len(adata_X[4])+ len(adata_X[8]))]\n",
    "adata_T.obs['cluster'] = HCC_T_cluster.values"
   ]
  },
  {
   "cell_type": "code",
   "execution_count": null,
   "id": "16bfa369",
   "metadata": {},
   "outputs": [],
   "source": [
    "palette={\n",
    "    \"0\": \"blue\",\n",
    "    \"1\": \"red\",\n",
    "    \"2\": \"yellow\",\n",
    "    \"3\": \"orange\",\n",
    "    \"4\": \"purple\",\n",
    "    \"5\": \"brown\",\n",
    "    \"6\": \"green\",\n",
    "    \"7\": \"grey\",\n",
    "}"
   ]
  },
  {
   "cell_type": "code",
   "execution_count": null,
   "id": "0046322f",
   "metadata": {
    "scrolled": false
   },
   "outputs": [],
   "source": [
    "fig, ax = plt.subplots(2,3, figsize=(20,10))\n",
    "sc.pl.spatial(adata_T, img_key=\"hires\", alpha_img = 1, ax = ax[0, 0], show = False, title = 'HCC-1T-HE-staining')\n",
    "sc.pl.spatial(adata_L, img_key=\"hires\", alpha_img = 1, ax = ax[0, 1], show = False, title = 'HCC-1L-HE-staining')\n",
    "sc.pl.spatial(adata_N, img_key=\"hires\", alpha_img = 1, ax = ax[0, 2], show = False, title = 'HCC-1N-HE-staining')\n",
    "\n",
    "sc.pl.spatial(adata_T, color = 'cluster', img_key=\"hires\", alpha_img = 0.3, palette = palette, ax = ax[1, 0], show = False, title = 'HCC-1T-GEM-cluster')\n",
    "sc.pl.spatial(adata_L, color = 'cluster', img_key=\"hires\", alpha_img = 0.3, palette = palette, ax = ax[1, 1], show = False, title = 'HCC-1L-GEM-cluster')\n",
    "sc.pl.spatial(adata_N, color = 'cluster', img_key=\"hires\", alpha_img = 0.3, palette = palette, ax = ax[1, 2], show = False, title = 'HCC-1N-GEM-cluster')\n",
    "plt.show()"
   ]
  },
  {
   "cell_type": "markdown",
   "id": "2b9cbc1f",
   "metadata": {},
   "source": [
    "# Invasive Frontier Labeling"
   ]
  },
  {
   "cell_type": "code",
   "execution_count": null,
   "id": "5c85a361",
   "metadata": {
    "scrolled": false
   },
   "outputs": [],
   "source": [
    "#label boundary between tumor and stromal area as well as boundary between stromal and healthy areas\n",
    "def find_invasive_frontier(adata, left, right, up, down):\n",
    "    invasive_edge_corrs, all_corrs = crop_slide(adata, left, right, up, down)\n",
    "    invasive_edge_dict = find_neighbours(invasive_edge_corrs, all_corrs)\n",
    "    find_invasive_frontier_idx(invasive_edge_dict, adata)"
   ]
  },
  {
   "cell_type": "code",
   "execution_count": null,
   "id": "743018b1",
   "metadata": {
    "scrolled": false
   },
   "outputs": [],
   "source": [
    "def crop_slide(adata, left, right, up, down):\n",
    "    all_corrs = adata.obsm['spatial'].copy()\n",
    "    invasive_area_corrs = []\n",
    "\n",
    "    for corr in all_corrs:\n",
    "        if (left <= corr[0]) and (corr[0] <= right) and (up <= corr[1]) and (corr[1] <= down):\n",
    "            invasive_area_corrs.append(corr)\n",
    "    return invasive_area_corrs, all_corrs"
   ]
  },
  {
   "cell_type": "code",
   "execution_count": null,
   "id": "7befb21b",
   "metadata": {
    "scrolled": false
   },
   "outputs": [],
   "source": [
    "def find_rows(source, target):\n",
    "    return np.where((source == target).all(axis=1))[0][0]"
   ]
  },
  {
   "cell_type": "code",
   "execution_count": null,
   "id": "1216cacd",
   "metadata": {
    "scrolled": false
   },
   "outputs": [],
   "source": [
    "def get_distance(corr1, corr2):\n",
    "    return np.sum((corr1 - corr2)**2)"
   ]
  },
  {
   "cell_type": "code",
   "execution_count": null,
   "id": "7011c496",
   "metadata": {
    "scrolled": false
   },
   "outputs": [],
   "source": [
    "def find_neighbours(invasive_area_corrs, all_corrs):\n",
    "#invasive_edge_dict stores the index of all the corrs of the invasive edge spots, \n",
    "# the key is its index among all the spots corrs of the slide. The values is the indices of the top 6 closest spots.\n",
    "    invasive_area_dict = dict()\n",
    "\n",
    "    for corr in invasive_area_corrs:\n",
    "        key = find_rows(all_corrs, corr)\n",
    "        invasive_area_dict[key] = []\n",
    "\n",
    "\n",
    "        #calculate the distance of this corr to other corrs in the invasive_edge\n",
    "        corr_dist_to_others = []\n",
    "        for corr2 in invasive_area_corrs:\n",
    "            corr_dist_to_others.append(get_distance(corr, corr2))\n",
    "\n",
    "\n",
    "        #nearest 6 spots, exclude itself\n",
    "        nearest_seven_spots = sorted(range(len(corr_dist_to_others)), key=lambda i: corr_dist_to_others[i])[1:7]\n",
    "\n",
    "        for neighb in nearest_seven_spots:\n",
    "            invasive_area_dict[key].append(find_rows(all_corrs, invasive_area_corrs[neighb]))     \n",
    "        \n",
    "    return invasive_area_dict"
   ]
  },
  {
   "cell_type": "code",
   "execution_count": null,
   "id": "c93ce794",
   "metadata": {
    "scrolled": false
   },
   "outputs": [],
   "source": [
    "def find_invasive_frontier_idx(invasive_area_dict, adata):\n",
    "    #S = Stromal, T = Tumor, N = Normal\n",
    "    T_boundary_corr_idx = [] #tumor spots adjacent to stromal\n",
    "    S_T_boundary_corr_idx = [] #stromal spots adjacent to tumor\n",
    "    S_N_boundary_corr_idx = [] #stromal spots adjacent to normal\n",
    "    N_boundary_corr_idx = []#normal spots adjacent to stromal\n",
    "    \n",
    "    for corr, neighbours in invasive_area_dict.items():\n",
    "        #tumor spots adjacent to stromal\n",
    "        if (adata.obs['cluster'][corr] == '1') and (np.any(adata.obs['cluster'][neighbours] == '2')):\n",
    "            T_boundary_corr_idx.append(corr)\n",
    "        \n",
    "        #stromal spots adjacent to tumor\n",
    "        if (adata.obs['cluster'][corr] == '2') and (np.any(adata.obs['cluster'][neighbours] == '1')):\n",
    "            S_T_boundary_corr_idx.append(corr)\n",
    "        \n",
    "        #stromal spots adjacent to normal\n",
    "        if (adata.obs['cluster'][corr] == '2') and (np.any(adata.obs['cluster'][neighbours] == '0')):\n",
    "            S_N_boundary_corr_idx.append(corr)\n",
    "        \n",
    "        #normal spots adjacent to stromal\n",
    "        if (adata.obs['cluster'][corr] == '0') and (np.any(adata.obs['cluster'][neighbours] == '2')):\n",
    "            N_boundary_corr_idx.append(corr)\n",
    "    \n",
    "    adata.obs['invasive_frontier'] = 'Others'\n",
    "    adata.obs['invasive_frontier'][T_boundary_corr_idx] = 'Tumor side'\n",
    "    adata.obs['invasive_frontier'][S_T_boundary_corr_idx] = 'Stromal-tumor interface'\n",
    "    adata.obs['invasive_frontier'][S_N_boundary_corr_idx] = 'Stromal-normal interface'\n",
    "    adata.obs['invasive_frontier'][N_boundary_corr_idx] = 'Normal side'"
   ]
  },
  {
   "cell_type": "code",
   "execution_count": null,
   "id": "3d3b9426",
   "metadata": {
    "scrolled": false
   },
   "outputs": [],
   "source": [
    "find_invasive_frontier(adata_L, 6500, 13000, 5000, 14000)"
   ]
  },
  {
   "cell_type": "code",
   "execution_count": null,
   "id": "1cde05cc",
   "metadata": {
    "scrolled": false
   },
   "outputs": [],
   "source": [
    "edge_palette={\n",
    "    'Others': 'grey',\n",
    "    'Tumor side': '#FF0000',\n",
    "    'Stromal-tumor interface': '#0000FF',\n",
    "    'Stromal-normal interface': '#157DEC',\n",
    "    'Normal side': '#FFFF00'\n",
    "}"
   ]
  },
  {
   "cell_type": "code",
   "execution_count": null,
   "id": "431f14aa",
   "metadata": {
    "scrolled": false
   },
   "outputs": [],
   "source": [
    "fig, ax = plt.subplots(1,2, figsize=(20,10))\n",
    "sc.pl.spatial(adata_L, img_key=\"hires\", color=\"cluster\", groups=[\"1\", \"2\"], \n",
    "              alpha=0.5, size=1.3, ax = ax[0], title = 'HCC-1L', show = False)\n",
    "\n",
    "sc.pl.spatial(adata_L, img_key=\"hires\", color=\"invasive_frontier\", size = 1.3, alpha = 0.7,\n",
    "              alpha_img=0.7, palette = edge_palette, title = 'HCC-1L Invasive Frontier', ax = ax[1], show = False)\n",
    "\n",
    "plt.show()"
   ]
  }
 ],
 "metadata": {
  "kernelspec": {
   "display_name": "Scanpy(Python)",
   "language": "python",
   "name": "cello_env"
  },
  "language_info": {
   "codemirror_mode": {
    "name": "ipython",
    "version": 3
   },
   "file_extension": ".py",
   "mimetype": "text/x-python",
   "name": "python",
   "nbconvert_exporter": "python",
   "pygments_lexer": "ipython3",
   "version": "3.7.13"
  }
 },
 "nbformat": 4,
 "nbformat_minor": 5
}
