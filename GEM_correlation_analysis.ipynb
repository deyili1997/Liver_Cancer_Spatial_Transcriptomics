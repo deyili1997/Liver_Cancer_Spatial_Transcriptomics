{
 "cells": [
  {
   "cell_type": "code",
   "execution_count": null,
   "id": "df46ee34",
   "metadata": {},
   "outputs": [],
   "source": [
    "import scanpy as sc\n",
    "import os\n",
    "import numpy as np\n",
    "import pandas as pd\n",
    "import anndata as ad\n",
    "import seaborn as sns\n",
    "import matplotlib.pyplot as plt\n",
    "from scipy.io import mmread\n",
    "from sklearn.preprocessing import normalize\n",
    "import anndata as ad\n",
    "import matplotlib as mpl\n",
    "from harmony import harmonize\n",
    "from numpy.linalg import norm\n",
    "sc.settings.n_jobs=8"
   ]
  },
  {
   "cell_type": "code",
   "execution_count": null,
   "id": "bc6484f4",
   "metadata": {},
   "outputs": [],
   "source": [
    "def prune_GEMs(GEM_n, count_matrix):\n",
    "    GEM_names = create_GEM_names(GEM_n)\n",
    "    count_matrix_pruned, GEM_to_delete_idx = delete_empty_or_full_GEM(count_matrix)\n",
    "    pruned_names = [name for i, name in enumerate(GEM_names) if i not in GEM_to_delete_idx]\n",
    "    return count_matrix_pruned, pruned_names"
   ]
  },
  {
   "cell_type": "code",
   "execution_count": null,
   "id": "535a2ee0",
   "metadata": {},
   "outputs": [],
   "source": [
    "def create_GEM_names(GEM_n):\n",
    "    TandNK_GEM_names = ['TandNK GEM ' + str(c + 1) for c in range(GEM_n)]\n",
    "    Stroma_GEM_names = ['Stroma GEM ' + str(c + 1) for c in range(GEM_n)]\n",
    "    B_cell_GEM_names = ['B cell GEM ' + str(c + 1) for c in range(GEM_n)]\n",
    "    Epithelial_GEM_names = ['Epithelial GEM ' + str(c + 1) for c in range(GEM_n)]\n",
    "    Myeloid_GEM_names = ['Myeloid GEM ' + str(c + 1) for c in range(GEM_n)]\n",
    "    GEM_names = TandNK_GEM_names + Stroma_GEM_names + B_cell_GEM_names \\\n",
    "                + Epithelial_GEM_names + Myeloid_GEM_names    \n",
    "    return GEM_names"
   ]
  },
  {
   "cell_type": "code",
   "execution_count": null,
   "id": "a6e5f722",
   "metadata": {},
   "outputs": [],
   "source": [
    "def delete_empty_or_full_GEM(count_matrix):\n",
    "    \n",
    "    GEM_to_delete = []\n",
    "    \n",
    "    for c in range(count_matrix.shape[1]):\n",
    "        this_GEM = count_matrix[:, c]\n",
    "        \n",
    "        #if non-zero mean less than 20 or \n",
    "        #GEM expressed in less than 5% of spots, remove it\n",
    "        if ((np.sum(this_GEM)/(np.sum(this_GEM != 0)+1) < 10) or \n",
    "        (np.count_nonzero(this_GEM) < int(0.05 * len(this_GEM)))):\n",
    "            GEM_to_delete.append(c)\n",
    "        \n",
    "        #if globally-expressed GEM, that is more than 70% spots express and average level more than 50, remove\n",
    "        if ((np.sum(this_GEM)/(np.sum(this_GEM != 0)+1)) > 20) and \\\n",
    "        (np.count_nonzero(this_GEM) > int(0.70 * len(this_GEM))):\n",
    "            GEM_to_delete.append(c)\n",
    "    \n",
    "    count_matrix_pruned = np.delete(count_matrix, GEM_to_delete, axis = 1)\n",
    "    return count_matrix_pruned, GEM_to_delete\n",
    "        "
   ]
  },
  {
   "cell_type": "markdown",
   "id": "dc0b7a0d",
   "metadata": {},
   "source": [
    "# Read in Patient's Data"
   ]
  },
  {
   "cell_type": "code",
   "execution_count": null,
   "id": "9860f994",
   "metadata": {},
   "outputs": [],
   "source": [
    "TandNK_ST_inference_1T = pd.read_csv('./nHDP/binary_nHDP_count_TNK_1T_final.csv', header = None).transpose().values\n",
    "Stroma_ST_inference_1T = pd.read_csv('./nHDP/binary_nHDP_count_Stromal_1T_final.csv', header = None).transpose().values\n",
    "B_cell_ST_inference_1T = pd.read_csv('./nHDP/binary_nHDP_count_PlasmaB_1T_final.csv', header = None).transpose().values\n",
    "Epithelial_ST_inference_1T = pd.read_csv('./nHDP/binary_nHDP_count_Epithelial_1T_final.csv', header = None).transpose().values\n",
    "Myeloid_ST_inference_1T = pd.read_csv('./nHDP/binary_nHDP_count_Myeloid_1T_final.csv', header = None).transpose().values\n",
    "TandNK_ST_inference_1L = pd.read_csv('./nHDP/binary_nHDP_count_TNK_1L_final.csv', header = None).transpose().values\n",
    "Stroma_ST_inference_1L = pd.read_csv('./nHDP/binary_nHDP_count_Stromal_1L_final.csv', header = None).transpose().values\n",
    "B_cell_ST_inference_1L = pd.read_csv('./nHDP/binary_nHDP_count_PlasmaB_1L_final.csv', header = None).transpose().values\n",
    "Epithelial_ST_inference_1L = pd.read_csv('./nHDP/binary_nHDP_count_Epithelial_1L_final.csv', header = None).transpose().values\n",
    "Myeloid_ST_inference_1L = pd.read_csv('./nHDP/binary_nHDP_count_Myeloid_1L_final.csv', header = None).transpose().values\n",
    "TandNK_ST_inference_1N = pd.read_csv('./nHDP/binary_nHDP_count_TNK_1N_final.csv', header = None).transpose().values\n",
    "Stroma_ST_inference_1N = pd.read_csv('./nHDP/binary_nHDP_count_Stromal_1N_final.csv', header = None).transpose().values\n",
    "B_cell_ST_inference_1N = pd.read_csv('./nHDP/binary_nHDP_count_PlasmaB_1N_final.csv', header = None).transpose().values\n",
    "Epithelial_ST_inference_1N = pd.read_csv('./nHDP/binary_nHDP_count_Epithelial_1N_final.csv', header = None).transpose().values\n",
    "Myeloid_ST_inference_1N = pd.read_csv('./nHDP/binary_nHDP_count_Myeloid_1N_final.csv', header = None).transpose().values"
   ]
  },
  {
   "cell_type": "code",
   "execution_count": null,
   "id": "443c206b",
   "metadata": {},
   "outputs": [],
   "source": [
    "GEM_combined_1T = np.concatenate([TandNK_ST_inference_1T, Stroma_ST_inference_1T, B_cell_ST_inference_1T, \n",
    "                               Epithelial_ST_inference_1T, Myeloid_ST_inference_1T], axis = 1)\n",
    "GEM_combined_1L = np.concatenate([TandNK_ST_inference_1L, Stroma_ST_inference_1L, B_cell_ST_inference_1L, \n",
    "                               Epithelial_ST_inference_1L, Myeloid_ST_inference_1L], axis = 1)\n",
    "GEM_combined_1N = np.concatenate([TandNK_ST_inference_1N, Stroma_ST_inference_1N, B_cell_ST_inference_1N, \n",
    "                               Epithelial_ST_inference_1N, Myeloid_ST_inference_1N], axis = 1)"
   ]
  },
  {
   "cell_type": "code",
   "execution_count": null,
   "id": "ae2043e8",
   "metadata": {},
   "outputs": [],
   "source": [
    "TandNK_ST_inference_2T = pd.read_csv('./nHDP/binary_nHDP_count_TNK_2T_final.csv', header = None).transpose().values\n",
    "Stroma_ST_inference_2T = pd.read_csv('./nHDP/binary_nHDP_count_Stromal_2T_final.csv', header = None).transpose().values\n",
    "B_cell_ST_inference_2T = pd.read_csv('./nHDP/binary_nHDP_count_PlasmaB_2T_final.csv', header = None).transpose().values\n",
    "Epithelial_ST_inference_2T = pd.read_csv('./nHDP/binary_nHDP_count_Epithelial_2T_final.csv', header = None).transpose().values\n",
    "Myeloid_ST_inference_2T = pd.read_csv('./nHDP/binary_nHDP_count_Myeloid_2T_final.csv', header = None).transpose().values\n",
    "TandNK_ST_inference_2L = pd.read_csv('./nHDP/binary_nHDP_count_TNK_2L_final.csv', header = None).transpose().values\n",
    "Stroma_ST_inference_2L = pd.read_csv('./nHDP/binary_nHDP_count_Stromal_2L_final.csv', header = None).transpose().values\n",
    "B_cell_ST_inference_2L = pd.read_csv('./nHDP/binary_nHDP_count_PlasmaB_2L_final.csv', header = None).transpose().values\n",
    "Epithelial_ST_inference_2L = pd.read_csv('./nHDP/binary_nHDP_count_Epithelial_2L_final.csv', header = None).transpose().values\n",
    "Myeloid_ST_inference_2L = pd.read_csv('./nHDP/binary_nHDP_count_Myeloid_2L_final.csv', header = None).transpose().values\n",
    "TandNK_ST_inference_2N = pd.read_csv('./nHDP/binary_nHDP_count_TNK_2N_final.csv', header = None).transpose().values\n",
    "Stroma_ST_inference_2N = pd.read_csv('./nHDP/binary_nHDP_count_Stromal_2N_final.csv', header = None).transpose().values\n",
    "B_cell_ST_inference_2N = pd.read_csv('./nHDP/binary_nHDP_count_PlasmaB_2N_final.csv', header = None).transpose().values\n",
    "Epithelial_ST_inference_2N = pd.read_csv('./nHDP/binary_nHDP_count_Epithelial_2N_final.csv', header = None).transpose().values\n",
    "Myeloid_ST_inference_2N = pd.read_csv('./nHDP/binary_nHDP_count_Myeloid_2N_final.csv', header = None).transpose().values"
   ]
  },
  {
   "cell_type": "code",
   "execution_count": null,
   "id": "17df4860",
   "metadata": {},
   "outputs": [],
   "source": [
    "GEM_combined_2T = np.concatenate([TandNK_ST_inference_2T, Stroma_ST_inference_2T, B_cell_ST_inference_2T, \n",
    "                               Epithelial_ST_inference_2T, Myeloid_ST_inference_2T], axis = 1)\n",
    "GEM_combined_2L = np.concatenate([TandNK_ST_inference_2L, Stroma_ST_inference_2L, B_cell_ST_inference_2L, \n",
    "                               Epithelial_ST_inference_2L, Myeloid_ST_inference_2L], axis = 1)\n",
    "GEM_combined_2N = np.concatenate([TandNK_ST_inference_2N, Stroma_ST_inference_2N, B_cell_ST_inference_2N, \n",
    "                               Epithelial_ST_inference_2N, Myeloid_ST_inference_2N], axis = 1)"
   ]
  },
  {
   "cell_type": "code",
   "execution_count": null,
   "id": "2430ec4c",
   "metadata": {},
   "outputs": [],
   "source": [
    "TandNK_ST_inference_3T = pd.read_csv('./nHDP/binary_nHDP_count_TNK_3T_final.csv', header = None).transpose().values\n",
    "Stroma_ST_inference_3T = pd.read_csv('./nHDP/binary_nHDP_count_Stromal_3T_final.csv', header = None).transpose().values\n",
    "B_cell_ST_inference_3T = pd.read_csv('./nHDP/binary_nHDP_count_PlasmaB_3T_final.csv', header = None).transpose().values\n",
    "Epithelial_ST_inference_3T = pd.read_csv('./nHDP/binary_nHDP_count_Epithelial_3T_final.csv', header = None).transpose().values\n",
    "Myeloid_ST_inference_3T = pd.read_csv('./nHDP/binary_nHDP_count_Myeloid_3T_final.csv', header = None).transpose().values\n",
    "TandNK_ST_inference_3L = pd.read_csv('./nHDP/binary_nHDP_count_TNK_3L_final.csv', header = None).transpose().values\n",
    "Stroma_ST_inference_3L = pd.read_csv('./nHDP/binary_nHDP_count_Stromal_3L_final.csv', header = None).transpose().values\n",
    "B_cell_ST_inference_3L = pd.read_csv('./nHDP/binary_nHDP_count_PlasmaB_3L_final.csv', header = None).transpose().values\n",
    "Epithelial_ST_inference_3L = pd.read_csv('./nHDP/binary_nHDP_count_Epithelial_3L_final.csv', header = None).transpose().values\n",
    "Myeloid_ST_inference_3L = pd.read_csv('./nHDP/binary_nHDP_count_Myeloid_3L_final.csv', header = None).transpose().values\n",
    "TandNK_ST_inference_3N = pd.read_csv('./nHDP/binary_nHDP_count_TNK_3N_final.csv', header = None).transpose().values\n",
    "Stroma_ST_inference_3N = pd.read_csv('./nHDP/binary_nHDP_count_Stromal_3N_final.csv', header = None).transpose().values\n",
    "B_cell_ST_inference_3N = pd.read_csv('./nHDP/binary_nHDP_count_PlasmaB_3N_final.csv', header = None).transpose().values\n",
    "Epithelial_ST_inference_3N = pd.read_csv('./nHDP/binary_nHDP_count_Epithelial_3N_final.csv', header = None).transpose().values\n",
    "Myeloid_ST_inference_3N = pd.read_csv('./nHDP/binary_nHDP_count_Myeloid_3N_final.csv', header = None).transpose().values"
   ]
  },
  {
   "cell_type": "code",
   "execution_count": null,
   "id": "ad901fb7",
   "metadata": {},
   "outputs": [],
   "source": [
    "GEM_combined_3T = np.concatenate([TandNK_ST_inference_3T, Stroma_ST_inference_3T, B_cell_ST_inference_3T, \n",
    "                               Epithelial_ST_inference_3T, Myeloid_ST_inference_3T], axis = 1)\n",
    "GEM_combined_3L = np.concatenate([TandNK_ST_inference_3L, Stroma_ST_inference_3L, B_cell_ST_inference_3L, \n",
    "                               Epithelial_ST_inference_3L, Myeloid_ST_inference_3L], axis = 1)\n",
    "GEM_combined_3N = np.concatenate([TandNK_ST_inference_3N, Stroma_ST_inference_3N, B_cell_ST_inference_3N, \n",
    "                               Epithelial_ST_inference_3N, Myeloid_ST_inference_3N], axis = 1)"
   ]
  },
  {
   "cell_type": "code",
   "execution_count": null,
   "id": "fd3d8365",
   "metadata": {},
   "outputs": [],
   "source": [
    "TandNK_ST_inference_4T = pd.read_csv('./nHDP/binary_nHDP_count_TNK_4T_final.csv', header = None).transpose().values\n",
    "Stroma_ST_inference_4T = pd.read_csv('./nHDP/binary_nHDP_count_Stromal_4T_final.csv', header = None).transpose().values\n",
    "B_cell_ST_inference_4T = pd.read_csv('./nHDP/binary_nHDP_count_PlasmaB_4T_final.csv', header = None).transpose().values\n",
    "Epithelial_ST_inference_4T = pd.read_csv('./nHDP/binary_nHDP_count_Epithelial_4T_final.csv', header = None).transpose().values\n",
    "Myeloid_ST_inference_4T = pd.read_csv('./nHDP/binary_nHDP_count_Myeloid_4T_final.csv', header = None).transpose().values\n",
    "TandNK_ST_inference_4L = pd.read_csv('./nHDP/binary_nHDP_count_TNK_4L_final.csv', header = None).transpose().values\n",
    "Stroma_ST_inference_4L = pd.read_csv('./nHDP/binary_nHDP_count_Stromal_4L_final.csv', header = None).transpose().values\n",
    "B_cell_ST_inference_4L = pd.read_csv('./nHDP/binary_nHDP_count_PlasmaB_4L_final.csv', header = None).transpose().values\n",
    "Epithelial_ST_inference_4L = pd.read_csv('./nHDP/binary_nHDP_count_Epithelial_4L_final.csv', header = None).transpose().values\n",
    "Myeloid_ST_inference_4L = pd.read_csv('./nHDP/binary_nHDP_count_Myeloid_4L_final.csv', header = None).transpose().values\n",
    "TandNK_ST_inference_4N = pd.read_csv('./nHDP/binary_nHDP_count_TNK_4N_final.csv', header = None).transpose().values\n",
    "Stroma_ST_inference_4N = pd.read_csv('./nHDP/binary_nHDP_count_Stromal_4N_final.csv', header = None).transpose().values\n",
    "B_cell_ST_inference_4N = pd.read_csv('./nHDP/binary_nHDP_count_PlasmaB_4N_final.csv', header = None).transpose().values\n",
    "Epithelial_ST_inference_4N = pd.read_csv('./nHDP/binary_nHDP_count_Epithelial_4N_final.csv', header = None).transpose().values\n",
    "Myeloid_ST_inference_4N = pd.read_csv('./nHDP/binary_nHDP_count_Myeloid_4N_final.csv', header = None).transpose().values"
   ]
  },
  {
   "cell_type": "code",
   "execution_count": null,
   "id": "1b360e2d",
   "metadata": {},
   "outputs": [],
   "source": [
    "GEM_combined_4T = np.concatenate([TandNK_ST_inference_4T, Stroma_ST_inference_4T, B_cell_ST_inference_4T, \n",
    "                               Epithelial_ST_inference_4T, Myeloid_ST_inference_4T], axis = 1)\n",
    "GEM_combined_4L = np.concatenate([TandNK_ST_inference_4L, Stroma_ST_inference_4L, B_cell_ST_inference_4L, \n",
    "                               Epithelial_ST_inference_4L, Myeloid_ST_inference_4L], axis = 1)\n",
    "GEM_combined_4N = np.concatenate([TandNK_ST_inference_4N, Stroma_ST_inference_4N, B_cell_ST_inference_4N, \n",
    "                               Epithelial_ST_inference_4N, Myeloid_ST_inference_4N], axis = 1)"
   ]
  },
  {
   "cell_type": "markdown",
   "id": "c13bf8d3",
   "metadata": {},
   "source": [
    "# Delete GEMs"
   ]
  },
  {
   "cell_type": "code",
   "execution_count": null,
   "id": "6281ded2",
   "metadata": {},
   "outputs": [],
   "source": [
    "GEM_n = 85\n",
    "GEM_combined_1T, pruned_names_1T = prune_GEMs(GEM_n, GEM_combined_1T)\n",
    "GEM_combined_1L, pruned_names_1L = prune_GEMs(GEM_n, GEM_combined_1L)\n",
    "GEM_combined_1N, pruned_names_1N = prune_GEMs(GEM_n, GEM_combined_1N)\n",
    "GEM_combined_2T, pruned_names_2T = prune_GEMs(GEM_n, GEM_combined_2T)\n",
    "GEM_combined_2L, pruned_names_2L = prune_GEMs(GEM_n, GEM_combined_2L)\n",
    "GEM_combined_2N, pruned_names_2N = prune_GEMs(GEM_n, GEM_combined_2N)\n",
    "GEM_combined_3T, pruned_names_3T = prune_GEMs(GEM_n, GEM_combined_3T)\n",
    "GEM_combined_3L, pruned_names_3L = prune_GEMs(GEM_n, GEM_combined_3L)\n",
    "GEM_combined_3N, pruned_names_3N = prune_GEMs(GEM_n, GEM_combined_3N)\n",
    "GEM_combined_4T, pruned_names_4T = prune_GEMs(GEM_n, GEM_combined_4T)\n",
    "GEM_combined_4L, pruned_names_4L = prune_GEMs(GEM_n, GEM_combined_4L)\n",
    "GEM_combined_4N, pruned_names_4N = prune_GEMs(GEM_n, GEM_combined_4N)"
   ]
  },
  {
   "cell_type": "code",
   "execution_count": null,
   "id": "f77b8a90",
   "metadata": {},
   "outputs": [],
   "source": [
    "def binarize_GEM_count(GEM_express_thre, GEM_matrix):\n",
    "    GEM_matrix[GEM_matrix < GEM_express_thre] = 0\n",
    "    GEM_matrix[GEM_matrix >= GEM_express_thre] = 1\n",
    "    return GEM_matrix"
   ]
  },
  {
   "cell_type": "code",
   "execution_count": null,
   "id": "ad0eed45",
   "metadata": {},
   "outputs": [],
   "source": [
    "bin_GEM_combined_1T = GEM_combined_1T.copy()\n",
    "bin_GEM_combined_1L = GEM_combined_1L.copy()\n",
    "bin_GEM_combined_1N = GEM_combined_1N.copy()\n",
    "bin_GEM_combined_2T = GEM_combined_2T.copy()\n",
    "bin_GEM_combined_2L = GEM_combined_2L.copy()\n",
    "bin_GEM_combined_2N = GEM_combined_2N.copy()\n",
    "bin_GEM_combined_3T = GEM_combined_3T.copy()\n",
    "bin_GEM_combined_3L = GEM_combined_3L.copy()\n",
    "bin_GEM_combined_3N = GEM_combined_3N.copy()\n",
    "bin_GEM_combined_4T = GEM_combined_4T.copy()\n",
    "bin_GEM_combined_4L = GEM_combined_4L.copy()\n",
    "bin_GEM_combined_4N = GEM_combined_4N.copy()\n",
    "GEM_express_thre = 20\n",
    "bin_GEM_combined_1T = binarize_GEM_count(GEM_express_thre, bin_GEM_combined_1T)\n",
    "bin_GEM_combined_1L = binarize_GEM_count(GEM_express_thre, bin_GEM_combined_1L)\n",
    "bin_GEM_combined_1N = binarize_GEM_count(GEM_express_thre, bin_GEM_combined_1N)\n",
    "bin_GEM_combined_2T = binarize_GEM_count(GEM_express_thre, bin_GEM_combined_2T)\n",
    "bin_GEM_combined_2L = binarize_GEM_count(GEM_express_thre, bin_GEM_combined_2L)\n",
    "bin_GEM_combined_2N = binarize_GEM_count(GEM_express_thre, bin_GEM_combined_2N)\n",
    "bin_GEM_combined_3T = binarize_GEM_count(GEM_express_thre, bin_GEM_combined_3T)\n",
    "bin_GEM_combined_3L = binarize_GEM_count(GEM_express_thre, bin_GEM_combined_3L)\n",
    "bin_GEM_combined_3N = binarize_GEM_count(GEM_express_thre, bin_GEM_combined_3N)\n",
    "bin_GEM_combined_4T = binarize_GEM_count(GEM_express_thre, bin_GEM_combined_4T)\n",
    "bin_GEM_combined_4L = binarize_GEM_count(GEM_express_thre, bin_GEM_combined_4L)\n",
    "bin_GEM_combined_4N = binarize_GEM_count(GEM_express_thre, bin_GEM_combined_4N)"
   ]
  },
  {
   "cell_type": "markdown",
   "id": "de6709b9",
   "metadata": {},
   "source": [
    "# Construct DataFrame"
   ]
  },
  {
   "cell_type": "markdown",
   "id": "b9e00025",
   "metadata": {},
   "source": [
    "For each slide, create its GEM dataframe"
   ]
  },
  {
   "cell_type": "code",
   "execution_count": null,
   "id": "ee3d5d09",
   "metadata": {},
   "outputs": [],
   "source": [
    "raw_GEMs = [GEM_combined_1T, GEM_combined_1L, GEM_combined_1N,\n",
    "           GEM_combined_2T, GEM_combined_2L, GEM_combined_2N,\n",
    "           GEM_combined_3T, GEM_combined_3L, GEM_combined_3N,\n",
    "           GEM_combined_4T, GEM_combined_4L, GEM_combined_4N]\n",
    "bin_GEMs = [bin_GEM_combined_1T, bin_GEM_combined_1L, bin_GEM_combined_1N,\n",
    "           bin_GEM_combined_2T, bin_GEM_combined_2L, bin_GEM_combined_2N,\n",
    "           bin_GEM_combined_3T, bin_GEM_combined_3L, bin_GEM_combined_3N,\n",
    "           bin_GEM_combined_4T, bin_GEM_combined_4L, bin_GEM_combined_4N]\n",
    "pruned_names = [pruned_names_1T, pruned_names_1L, pruned_names_1N,\n",
    "               pruned_names_2T, pruned_names_2L, pruned_names_2N,\n",
    "               pruned_names_3T, pruned_names_3L, pruned_names_3N,\n",
    "               pruned_names_4T, pruned_names_4L, pruned_names_4N,]"
   ]
  },
  {
   "cell_type": "code",
   "execution_count": null,
   "id": "6cdd4a26",
   "metadata": {},
   "outputs": [],
   "source": [
    "def construct_dataframe(GEM_combined, pruned_names):\n",
    "    return pd.DataFrame(GEM_combined, columns = pruned_names)"
   ]
  },
  {
   "cell_type": "code",
   "execution_count": null,
   "id": "ade2df46",
   "metadata": {},
   "outputs": [],
   "source": [
    "raw_GEMs_df = []\n",
    "for i in range(len(raw_GEMs)):\n",
    "    GEM_df = construct_dataframe(raw_GEMs[i], pruned_names[i])\n",
    "    raw_GEMs_df.append(GEM_df)"
   ]
  },
  {
   "cell_type": "code",
   "execution_count": null,
   "id": "c1af39c6",
   "metadata": {},
   "outputs": [],
   "source": [
    "len(raw_GEMs_df)"
   ]
  },
  {
   "cell_type": "markdown",
   "id": "5ea3632e",
   "metadata": {},
   "source": [
    "# Get GEM-GEM similarity"
   ]
  },
  {
   "cell_type": "markdown",
   "id": "cbe3c75d",
   "metadata": {},
   "source": [
    "Here we tried to use cosine similarity to rank GEM-GEM correlation on each slide (since there is batch effect between slides so we treated each slide independently). That is, we selected out top 30 GEM pairs with highest cosine similarity score. (We decided to use cosine vector similarity and abandon the experimental costimized one.)|"
   ]
  },
  {
   "cell_type": "code",
   "execution_count": null,
   "id": "d7200639",
   "metadata": {},
   "outputs": [],
   "source": [
    "# def GEM_simiarity_costimize(slide_binary, GEM_names, top_n):\n",
    "#     scores = []\n",
    "#     GEM_name_pairs = []\n",
    "#     for i in range(slide_binary.shape[1] - 1):\n",
    "#         GEM_i_name = GEM_names[i]\n",
    "#         for j in range(i + 1, slide_binary.shape[1]):\n",
    "#             GEM_j_name = GEM_names[j]\n",
    "#             #skip celltype confounding (GEM name 1st letter matches, skip)\n",
    "#             if GEM_i_name[0] == GEM_j_name[0]:\n",
    "#                 continue\n",
    "#             bin_GEM_i = slide_binary[:, i]\n",
    "#             bin_GEM_j = slide_binary[:, j]\n",
    "#             score = get_score(bin_GEM_i, bin_GEM_j)\n",
    "#             scores.append(score)\n",
    "#             GEM_name_pairs.append((GEM_i_name, GEM_j_name))\n",
    "            \n",
    "#     sorted_GEM_names_pairs = [x for _, x in sorted(zip(scores, GEM_name_pairs))]\n",
    "#     sorted_GEM_names_pairs.reverse()\n",
    "#     if top_n != None:\n",
    "#         return sorted_GEM_names_pairs[:top_n]\n",
    "#     else:\n",
    "#         return sorted_GEM_names_pairs"
   ]
  },
  {
   "cell_type": "code",
   "execution_count": null,
   "id": "e5a829ba",
   "metadata": {},
   "outputs": [],
   "source": [
    "# def get_score(GEM1, GEM2):\n",
    "#     GEM_combined = GEM1 + GEM2\n",
    "#     unique, counts = np.unique(GEM_combined, return_counts=True)\n",
    "#     if max(unique) == 1:\n",
    "#         return 0\n",
    "#     else:\n",
    "#         return counts[2] / (counts[1] + counts[2])"
   ]
  },
  {
   "cell_type": "code",
   "execution_count": null,
   "id": "93d95e86",
   "metadata": {},
   "outputs": [],
   "source": [
    "def GEM_simiarity_cosine(slide_raw, GEM_names, top_n):\n",
    "    scores = []\n",
    "    GEM_name_pairs = []\n",
    "    for i in range(slide_raw.shape[1] - 1):\n",
    "        GEM_i_name = GEM_names[i]\n",
    "        for j in range(i + 1, slide_raw.shape[1]):\n",
    "            GEM_j_name = GEM_names[j]\n",
    "            #skip celltype confounding (GEM name 1st letter matches, skip)\n",
    "            if GEM_i_name[0] == GEM_j_name[0]:\n",
    "                continue\n",
    "            raw_GEM_i = slide_raw[:, i]\n",
    "            raw_GEM_j = slide_raw[:, j]\n",
    "            score = get_cosine_similarity(raw_GEM_i, raw_GEM_j)\n",
    "            scores.append(score)\n",
    "            GEM_name_pairs.append((GEM_i_name, GEM_j_name))\n",
    "            \n",
    "    sorted_GEM_names_pairs = [x for _, x in sorted(zip(scores, GEM_name_pairs))]\n",
    "    sorted_GEM_names_pairs.reverse()\n",
    "    if top_n != None:\n",
    "        return sorted_GEM_names_pairs[:top_n]\n",
    "    else:\n",
    "        return sorted_GEM_names_pairs"
   ]
  },
  {
   "cell_type": "code",
   "execution_count": null,
   "id": "3b2a2c1d",
   "metadata": {},
   "outputs": [],
   "source": [
    "def get_cosine_similarity(A, B):\n",
    "    return np.dot(A,B)/(norm(A)*norm(B))"
   ]
  },
  {
   "cell_type": "code",
   "execution_count": null,
   "id": "de6236a9",
   "metadata": {},
   "outputs": [],
   "source": [
    "# costimize_GEM_similarities = []\n",
    "# for i in range(12):\n",
    "#     similarity = GEM_simiarity_costimize(bin_GEMs[i], pruned_names[i], 50)\n",
    "#     costimize_GEM_similarities.append(similarity)"
   ]
  },
  {
   "cell_type": "code",
   "execution_count": null,
   "id": "6428e1db",
   "metadata": {},
   "outputs": [],
   "source": [
    "cosine_GEM_similarities = []\n",
    "for i in range(12):\n",
    "    similarity = GEM_simiarity_cosine(raw_GEMs[i], pruned_names[i], 30)\n",
    "    cosine_GEM_similarities.append(similarity)"
   ]
  },
  {
   "cell_type": "markdown",
   "id": "db48bf23",
   "metadata": {},
   "source": [
    "# Write each correlated GEM pairs to txt"
   ]
  },
  {
   "cell_type": "code",
   "execution_count": null,
   "id": "08a8b982",
   "metadata": {},
   "outputs": [],
   "source": [
    "# for s in range(len(costimize_GEM_similarities)):\n",
    "#     slide_pairs = costimize_GEM_similarities[s]\n",
    "#     slide_GEM = raw_GEMs_df[s]\n",
    "#     for i, pair in enumerate(slide_pairs):\n",
    "#         GEM1_name = pair[0]\n",
    "#         GEM2_name = pair[1]\n",
    "#         GEM1_exp = slide_GEM.loc[:, GEM1_name].values\n",
    "#         GEM2_exp = slide_GEM.loc[:, GEM2_name].values\n",
    "#         np.savetxt(\"./Ligand-Receptor/slide_correlated_GEMs/costimize/\" + \"slide-\" + str(s) + \"-pair-\" + str(i) + '-' + GEM1_name + \".txt\", \n",
    "#                    GEM1_exp.astype(int), fmt = '%i')\n",
    "#         np.savetxt(\"./Ligand-Receptor/slide_correlated_GEMs/costimize/\" + \"slide-\" + str(s) + \"-pair-\" + str(i) + '-' + GEM2_name + \".txt\", \n",
    "#                    GEM2_exp.astype(int), fmt = '%i')"
   ]
  },
  {
   "cell_type": "code",
   "execution_count": null,
   "id": "3c0351a4",
   "metadata": {},
   "outputs": [],
   "source": [
    "# for s in range(len(cosine_GEM_similarities)):\n",
    "#     slide_pairs = cosine_GEM_similarities[s]\n",
    "#     slide_GEM = raw_GEMs_df[s]\n",
    "#     for i, pair in enumerate(slide_pairs):\n",
    "#         GEM1_name = pair[0]\n",
    "#         GEM2_name = pair[1]\n",
    "#         GEM1_exp = slide_GEM.loc[:, GEM1_name].values\n",
    "#         GEM2_exp = slide_GEM.loc[:, GEM2_name].values\n",
    "#         np.savetxt(\"./Ligand-Receptor/slide_correlated_GEMs/cosine/\" + \"slide-\" + str(s) + \"-pair-\" + str(i) + '-' + GEM1_name + \".txt\", \n",
    "#                    GEM1_exp.astype(int), fmt = '%i')\n",
    "#         np.savetxt(\"./Ligand-Receptor/slide_correlated_GEMs/cosine/\" + \"slide-\" + str(s) + \"-pair-\" + str(i) + '-' + GEM2_name + \".txt\", \n",
    "#                    GEM2_exp.astype(int), fmt = '%i')"
   ]
  },
  {
   "cell_type": "markdown",
   "id": "a471c6f4",
   "metadata": {},
   "source": [
    "# Read in ST data"
   ]
  },
  {
   "cell_type": "code",
   "execution_count": null,
   "id": "0182417c",
   "metadata": {},
   "outputs": [],
   "source": [
    "HCC_1T = './raw_data/Primary_Tumor/HCC-1T'\n",
    "HCC_1L = './raw_data/Leading_Edge/HCC-1L'\n",
    "HCC_1N = './raw_data/Adjacent/HCC-1N'\n",
    "\n",
    "HCC_2T = './raw_data/Primary_Tumor/HCC-2T'\n",
    "HCC_2L = './raw_data/Leading_Edge/HCC-2L'\n",
    "HCC_2N = './raw_data/Adjacent/HCC-2N'\n",
    "\n",
    "HCC_3T = './raw_data/Primary_Tumor/HCC-3T'\n",
    "HCC_3L = './raw_data/Leading_Edge/HCC-3L'\n",
    "HCC_3N = './raw_data/Adjacent/HCC-3N'\n",
    "\n",
    "HCC_4T = './raw_data/Primary_Tumor/HCC-4T'\n",
    "HCC_4L = './raw_data/Leading_Edge/HCC-4L'\n",
    "HCC_4N = './raw_data/Adjacent/HCC-4N'\n",
    "\n",
    "visium_paths = [HCC_1T, HCC_1L, HCC_1N, HCC_2T, HCC_2L, HCC_2N,\n",
    "                HCC_3T, HCC_3L, HCC_3N, HCC_4T, HCC_4L, HCC_4N]\n",
    "tissue_names_unique = ['Patient 1 Primary Tumor', \n",
    "                       'Patient 1 Leading Edge', \n",
    "                       'Patient 1 Ajacent Area',\n",
    "                       'Patient 2 Primary Tumor', \n",
    "                       'Patient 2 Leading Edge', \n",
    "                       'Patient 2 Ajacent Area', \n",
    "                       'Patient 3 Primary Tumor', \n",
    "                       'Patient 3 Leading Edge', \n",
    "                       'Patient 3 Ajacent Area',\n",
    "                       'Patient 4 Primary Tumor', \n",
    "                       'Patient 4 Leading Edge', \n",
    "                       'Patient 4 Ajacent Area']"
   ]
  },
  {
   "cell_type": "code",
   "execution_count": null,
   "id": "ffed7ebd",
   "metadata": {},
   "outputs": [],
   "source": [
    "adata_l = []\n",
    "for i in range(12):\n",
    "    adata = sc.read_visium(visium_paths[i])\n",
    "    adata_l.append(adata)"
   ]
  },
  {
   "cell_type": "markdown",
   "id": "7f9a37ab",
   "metadata": {},
   "source": [
    "# Plug in GEMs and Plot Correlated GEMs (by cosine similarity)"
   ]
  },
  {
   "cell_type": "code",
   "execution_count": null,
   "id": "f95bbdee",
   "metadata": {},
   "outputs": [],
   "source": [
    "from PIL import Image\n",
    "from PIL import ImageEnhance\n",
    "import sys\n",
    "from matplotlib.colors import LinearSegmentedColormap\n",
    "import matplotlib as mpl"
   ]
  },
  {
   "cell_type": "code",
   "execution_count": null,
   "id": "6d036114",
   "metadata": {},
   "outputs": [],
   "source": [
    "for i in range(12):\n",
    "    adata = adata_l[i]\n",
    "    for c in range(raw_GEMs[i].shape[1]):\n",
    "        adata.obs[pruned_names[i][c]] = raw_GEMs[i][:, c]"
   ]
  },
  {
   "cell_type": "code",
   "execution_count": null,
   "id": "7068ca6b",
   "metadata": {},
   "outputs": [],
   "source": [
    "PureRed = mpl.colors.LinearSegmentedColormap.from_list(\"\", [\"white\", (1, 0, 0)])\n",
    "PureGreen = mpl.colors.LinearSegmentedColormap.from_list(\"\", [\"white\",(0, 1, 0)])\n",
    "PureOrange = mpl.colors.LinearSegmentedColormap.from_list(\"\", [\"white\",(1, 1, 0)])"
   ]
  },
  {
   "cell_type": "code",
   "execution_count": null,
   "id": "df41ea08",
   "metadata": {},
   "outputs": [],
   "source": [
    "def plot_globally(counter, adata, GEM1, GEM2, method, dpi = 50):\n",
    "    file_name1 = generate_titled_image(adata, 1, counter, GEM1, dpi, PureRed, method)\n",
    "    file_name2 = generate_titled_image(adata, 2, counter, GEM2, dpi, PureGreen, method)\n",
    "    file_name3 = generate_overlap_image(adata, 3, counter, GEM1, GEM2, dpi, PureOrange, method)\n",
    "    file_name4, file_name5 = generate_disjoint_image(adata, 4, counter, GEM1, GEM2, dpi, \n",
    "                                                     PureRed, PureGreen, method)\n",
    "    \n",
    "    file_name6 = Overlap_two_pngs(file_name3, file_name4, method, 6, counter, False)\n",
    "    file_name7 = Overlap_two_pngs(file_name3, file_name5, method, 7,  counter, False)\n",
    "    file_name8 = Overlap_two_pngs(file_name6, file_name7, method, 8, counter, True)\n",
    "    file_name_final = concatenate_three_images(file_name1, file_name2, file_name8, method, counter)\n",
    "\n",
    "#     os.remove(file_name1)\n",
    "#     os.remove(file_name2)\n",
    "#     os.remove(file_name3)\n",
    "    os.remove(file_name4)\n",
    "    os.remove(file_name5)\n",
    "    os.remove(file_name6)\n",
    "    os.remove(file_name7)\n",
    "#     os.remove(file_name8)\n",
    "    return file_name_final"
   ]
  },
  {
   "cell_type": "code",
   "execution_count": null,
   "id": "dd816791",
   "metadata": {},
   "outputs": [],
   "source": [
    "def generate_disjoint_image(adata, order, counter, GEM1, GEM2, dpi, color_map1, color_map2, method):\n",
    "    sc.set_figure_params(fontsize = 60, dpi=dpi, dpi_save=dpi)\n",
    "    \n",
    "    \n",
    "    GEM1_exp = adata.obs[GEM1].values.copy()\n",
    "    GEM2_exp = adata.obs[GEM2].values.copy()\n",
    "    GEM1_exp[np.where(GEM2_exp != 0)] = 0\n",
    "    GEM2_exp[np.where(adata.obs[GEM1].values != 0)] = 0\n",
    "    \n",
    "    disjoin_name1 = GEM1 + '-' + GEM2\n",
    "    disjoin_name2 = GEM2 + '-' + GEM1\n",
    "    \n",
    "    adata.obs[disjoin_name1] = GEM1_exp\n",
    "    adata.obs[disjoin_name2] = GEM2_exp\n",
    "    \n",
    "    fig, ax = plt.subplots(1,1, figsize=(20, 20))\n",
    "    sc.pl.spatial(adata, img_key=\"hires\", color=disjoin_name1, ax = ax, vmin = 0, vmax = 'p95', alpha_img = 0,\n",
    "                      alpha = 1, color_map = color_map1, colorbar_loc = None, title = '', show = False)\n",
    "    \n",
    "    file_name1 = './GEM_vis/GEM_corr_png/' + method + '/' + str(counter) + '-' + str(order) + '.png'\n",
    "    \n",
    "    ax.set_xlabel('')\n",
    "    ax.set_ylabel('')\n",
    "    fig.savefig(file_name1)\n",
    "    plt.close(fig)\n",
    "    \n",
    "    fig, ax = plt.subplots(1,1, figsize=(20, 20))\n",
    "    sc.pl.spatial(adata, img_key=\"hires\", color=disjoin_name2, ax = ax, vmin = 0, vmax = 'p95', alpha_img = 0,\n",
    "                      alpha = 1, color_map = color_map2, colorbar_loc = None, title = '', show = False)\n",
    "    \n",
    "    file_name2 = './GEM_vis/GEM_corr_png/' + method + '/' + str(counter) + '-' + str(order + 1) + '.png'\n",
    "    \n",
    "    ax.set_xlabel('')\n",
    "    ax.set_ylabel('')\n",
    "    fig.savefig(file_name2)\n",
    "    plt.close(fig)\n",
    "    \n",
    "    \n",
    "    return file_name1, file_name2"
   ]
  },
  {
   "cell_type": "code",
   "execution_count": null,
   "id": "e7be8478",
   "metadata": {},
   "outputs": [],
   "source": [
    "def generate_overlap_image(adata, order, counter, GEM1, GEM2, dpi, color_map, method):\n",
    "    sc.set_figure_params(fontsize = 40, dpi=dpi, dpi_save=dpi)\n",
    "    GEM1_exp = adata.obs[GEM1].values.copy()\n",
    "    GEM2_exp = adata.obs[GEM2].values.copy()\n",
    "    sum_exp = GEM1_exp + GEM2_exp\n",
    "    sum_exp[np.where(GEM1_exp == 0)] = 0\n",
    "    sum_exp[np.where(GEM2_exp == 0)] = 0\n",
    "    sum_name = GEM1 + '+' + GEM2\n",
    "    adata.obs[sum_name] = sum_exp\n",
    "     \n",
    "    fig, ax = plt.subplots(1,1, figsize=(20, 20))\n",
    "    sc.pl.spatial(adata, img_key=\"hires\", color=sum_name, ax = ax, vmin = 0, vmax = 'p90', alpha_img = 0.2,\n",
    "                      alpha = 1, color_map = color_map, colorbar_loc = None, title = '', show = False)\n",
    "    \n",
    "    file_name = './GEM_vis/GEM_corr_png/' + method + '/GEM_sum/' + str(counter) + '.png'\n",
    "    \n",
    "    ax.set_xlabel('')\n",
    "    ax.set_ylabel('')\n",
    "    fig.savefig(file_name)\n",
    "    plt.close(fig)\n",
    "    \n",
    "    return file_name"
   ]
  },
  {
   "cell_type": "code",
   "execution_count": null,
   "id": "8e8c6742",
   "metadata": {},
   "outputs": [],
   "source": [
    "def generate_titled_image(adata, order, counter, GEM_name, dpi, color_map, method, show_title = True):\n",
    "    fig, ax = plt.subplots(1,1, figsize=(20, 20))\n",
    "    sc.set_figure_params(fontsize = 60, dpi=dpi, dpi_save=dpi)\n",
    "    \n",
    "    \n",
    "    sc.pl.spatial(adata, img_key=\"hires\", color=GEM_name, ax = ax, vmin = 0, vmax = 'p95', alpha_img = 0.3,\n",
    "                      alpha = 1, color_map = color_map, colorbar_loc = 'bottom', title = GEM_name, show = False)\n",
    "    \n",
    "    file_name = './GEM_vis/GEM_corr_png/' + method + '/GEM' + str(order)+ '/' + str(counter)  + '.png'\n",
    "    \n",
    "    ax.set_xlabel('')\n",
    "    ax.set_ylabel('')\n",
    "    fig.savefig(file_name)\n",
    "    plt.close(fig)\n",
    "    \n",
    "    return file_name"
   ]
  },
  {
   "cell_type": "code",
   "execution_count": null,
   "id": "6c200989",
   "metadata": {},
   "outputs": [],
   "source": [
    "def Overlap_two_pngs(file_name1, file_name2, method, order, counter, final_step):\n",
    "    img1 = Image.open(file_name1)\n",
    "    img2 = Image.open(file_name2)\n",
    "\n",
    "    img1 = img1.convert(\"RGBA\")\n",
    "    img2 = img2.convert(\"RGBA\")\n",
    "\n",
    "    new_img = Image.blend(img1, img2, 0.40)\n",
    "    enh_con = ImageEnhance.Contrast(new_img)\n",
    "    contrast = 1.6\n",
    "    new_img = enh_con.enhance(contrast)\n",
    "    if final_step:\n",
    "        file_name = './GEM_vis/GEM_corr_png/' + method + '/overlap/' + str(counter) + '.png'\n",
    "    else:\n",
    "        file_name = './GEM_vis/GEM_corr_png/' + method + '/' + str(counter) + '-' + str(order) + '.png'\n",
    "    new_img.save(file_name,\"PNG\")\n",
    "    return file_name"
   ]
  },
  {
   "cell_type": "code",
   "execution_count": null,
   "id": "e100c0b3",
   "metadata": {},
   "outputs": [],
   "source": [
    "def concatenate_three_images(file_name1, file_name3, file_name5, method, counter):\n",
    "    images = [Image.open(x) for x in [file_name1, file_name3, file_name5]]\n",
    "    widths, heights = zip(*(i.size for i in images))\n",
    "    total_width = sum(widths)\n",
    "    max_height = max(heights)\n",
    "\n",
    "    new_im = Image.new('RGB', (total_width, max_height))\n",
    "\n",
    "    x_offset = 0\n",
    "    for im in images:\n",
    "        new_im.paste(im, (x_offset,0))\n",
    "        x_offset += im.size[0]\n",
    "    file_name = './GEM_vis/GEM_corr_png/' + method + '/final/' + str(counter) + '.png'\n",
    "    new_im.save(file_name)\n",
    "    return file_name"
   ]
  },
  {
   "cell_type": "code",
   "execution_count": null,
   "id": "f77cd604",
   "metadata": {},
   "outputs": [],
   "source": [
    "# counter = 1\n",
    "# for i in range(12):\n",
    "#     adata = adata_l[i]\n",
    "#     for s in range(len(costimize_GEM_similarities[i])):\n",
    "#         plot_globally(counter, adata, costimize_GEM_similarities[i][s][0], \n",
    "#                       costimize_GEM_similarities[i][s][1], 'costimize')\n",
    "#         print(\"Progress: \", counter)\n",
    "#         counter += 1       "
   ]
  },
  {
   "cell_type": "code",
   "execution_count": null,
   "id": "d118ad41",
   "metadata": {},
   "outputs": [],
   "source": [
    "counter = 1\n",
    "for i in range(12):\n",
    "    adata = adata_l[i]\n",
    "    for s in range(len(cosine_GEM_similarities[i])):\n",
    "        plot_globally(counter, adata, cosine_GEM_similarities[i][s][0], \n",
    "                      cosine_GEM_similarities[i][s][1], 'cosine')\n",
    "        print(\"Progress: \", counter)\n",
    "        counter += 1        "
   ]
  },
  {
   "cell_type": "markdown",
   "id": "7c7da5a6",
   "metadata": {},
   "source": [
    "# Discover GEM Common Pattern"
   ]
  },
  {
   "cell_type": "markdown",
   "id": "40e163ff",
   "metadata": {},
   "source": [
    "Pattern means that if one GEM pair exist in more than 2 slides' top correlated GEM pairs, then this pair is a pattern"
   ]
  },
  {
   "cell_type": "code",
   "execution_count": null,
   "id": "08359847",
   "metadata": {},
   "outputs": [],
   "source": [
    "import cv2\n",
    "import json"
   ]
  },
  {
   "cell_type": "code",
   "execution_count": null,
   "id": "8ac0e792",
   "metadata": {},
   "outputs": [],
   "source": [
    "common_corr = dict()\n",
    "for s in range(12):\n",
    "    slide_corr = cosine_GEM_similarities[s]\n",
    "    for corr in slide_corr:\n",
    "        if corr not in common_corr:\n",
    "            common_corr[corr] = []\n",
    "        common_corr[corr].append(s)\n",
    "\n",
    "\n",
    "found_patterns = dict()\n",
    "for pair, slides in common_corr.items():\n",
    "    if len(slides) >= 2:\n",
    "        if pair not in found_patterns:\n",
    "            found_patterns[pair] = []\n",
    "        found_patterns[pair] = slides"
   ]
  },
  {
   "cell_type": "code",
   "execution_count": null,
   "id": "95a94113",
   "metadata": {},
   "outputs": [],
   "source": [
    "with open(r'found_patterns.txt','w+') as f:\n",
    "    f.write(str(found_patterns))"
   ]
  },
  {
   "cell_type": "code",
   "execution_count": null,
   "id": "e2528bf0",
   "metadata": {},
   "outputs": [],
   "source": [
    "count = 1\n",
    "for pair, slides in found_patterns.items():\n",
    "    pair_paths = []\n",
    "    for s in slides:\n",
    "        counter = \"Pattern\" + str(count)\n",
    "        file_name = plot_globally(counter, adata_l[s], pair[0], \n",
    "                          pair[1], 'cosine')\n",
    "        pair_paths.append(file_name)\n",
    "        count += 1\n",
    "\n",
    "    imgs = []\n",
    "    for path in pair_paths:\n",
    "        img = cv2.imread(path)\n",
    "        imgs.append(img)\n",
    "    im_v = cv2.vconcat(imgs)\n",
    "    cv2.imwrite('./GEM_vis/GEM_corr_png/cosine/Patterns/' + pair[0] + '-' + pair[1] + '.png', im_v)"
   ]
  }
 ],
 "metadata": {
  "kernelspec": {
   "display_name": "Scanpy(Python)",
   "language": "python",
   "name": "cello_env"
  },
  "language_info": {
   "codemirror_mode": {
    "name": "ipython",
    "version": 3
   },
   "file_extension": ".py",
   "mimetype": "text/x-python",
   "name": "python",
   "nbconvert_exporter": "python",
   "pygments_lexer": "ipython3",
   "version": "3.7.13"
  }
 },
 "nbformat": 4,
 "nbformat_minor": 5
}
