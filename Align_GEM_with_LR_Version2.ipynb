{
 "cells": [
  {
   "cell_type": "code",
   "execution_count": null,
   "id": "289fb5fb",
   "metadata": {},
   "outputs": [],
   "source": [
    "import numpy as np\n",
    "import matplotlib.pyplot as plt\n",
    "import os\n",
    "from numpy.linalg import norm\n",
    "import scanpy as sc\n",
    "import pandas as pd\n",
    "import anndata as ad\n",
    "import cv2\n",
    "import copy\n",
    "import json\n",
    "from scipy.optimize import curve_fit\n",
    "from scipy.stats import linregress"
   ]
  },
  {
   "cell_type": "code",
   "execution_count": null,
   "id": "d3077711",
   "metadata": {},
   "outputs": [],
   "source": [
    "all_ligand_filenames = os.listdir('./Ligand-Receptor/slide_lr_without_diffusion_without_normalization/ligands/')\n",
    "all_receptor_filenames = os.listdir('./Ligand-Receptor/slide_lr_without_diffusion_without_normalization/receptors/')\n",
    "all_lr_filenames = os.listdir('./Ligand-Receptor/slide_lr_without_diffusion_without_normalization/products/')\n",
    "all_GEM_filenames = os.listdir('./Ligand-Receptor/slide_correlated_GEMs/cosine/')"
   ]
  },
  {
   "cell_type": "code",
   "execution_count": null,
   "id": "4586a42b",
   "metadata": {},
   "outputs": [],
   "source": [
    "def get_name(f, name = 'lr'):\n",
    "    dash_count = 0\n",
    "    start = 0\n",
    "    end = 0\n",
    "    for c in range(len(f)):\n",
    "        if f[c] == '-':\n",
    "            dash_count += 1\n",
    "        if name != 'GEM':\n",
    "            if dash_count == 2:\n",
    "                start = c + 1\n",
    "                break\n",
    "        else:        \n",
    "            if dash_count == 4:\n",
    "                start = c + 1\n",
    "                break  \n",
    "    return f[start:-4]"
   ]
  },
  {
   "cell_type": "code",
   "execution_count": null,
   "id": "556b5788",
   "metadata": {},
   "outputs": [],
   "source": [
    "def construct_dictionary(path, file_names, task_type = 'lr'):\n",
    "    slides_dict = dict()\n",
    "    for i in range(12):\n",
    "        slides_dict[\"slide\" + str(i)] = dict()\n",
    "    \n",
    "    for f in file_names:\n",
    "        name = get_name(f, task_type)\n",
    "        for i in range(12):\n",
    "            slide_name = \"slide-\" + str(i) + '-'\n",
    "            if f.startswith(slide_name):\n",
    "                slides_dict[\"slide\" + str(i)][name] = np.loadtxt(path + f)\n",
    "    return slides_dict"
   ]
  },
  {
   "cell_type": "code",
   "execution_count": null,
   "id": "2ebd1fae",
   "metadata": {},
   "outputs": [],
   "source": [
    "ligands_path = './Ligand-Receptor/slide_lr_without_diffusion_without_normalization/ligands/'\n",
    "receptors_path = './Ligand-Receptor/slide_lr_without_diffusion_without_normalization/receptors/'\n",
    "lr_path = './Ligand-Receptor/slide_lr_without_diffusion_without_normalization/products/'"
   ]
  },
  {
   "cell_type": "code",
   "execution_count": null,
   "id": "0a0343d4",
   "metadata": {},
   "outputs": [],
   "source": [
    "slides_ligand = construct_dictionary(ligands_path, all_ligand_filenames, 'ligands')\n",
    "slides_receptor = construct_dictionary(receptors_path, all_receptor_filenames, 'receptors')\n",
    "slides_lr = construct_dictionary(lr_path, all_lr_filenames, 'lr')"
   ]
  },
  {
   "cell_type": "code",
   "execution_count": null,
   "id": "69a9d32a",
   "metadata": {},
   "outputs": [],
   "source": [
    "path_GEM = './Ligand-Receptor/slide_correlated_GEMs/cosine/'\n",
    "slides_GEM = dict()\n",
    "for i in range(12):\n",
    "    slides_GEM[\"slide\" + str(i)] = dict()\n",
    "\n",
    "for f in all_GEM_filenames:\n",
    "    for i in range(12):\n",
    "        for j in range(30):\n",
    "            slide_name = \"slide-\" + str(i) + \"-pair\" + '-' + str(j) + \"-\"\n",
    "            if f.startswith(slide_name):\n",
    "                GEM_name = get_name(f, 'GEM')\n",
    "                slides_GEM[\"slide\" + str(i)][GEM_name] = np.loadtxt(path_GEM + f)"
   ]
  },
  {
   "cell_type": "markdown",
   "id": "55458b30",
   "metadata": {},
   "source": [
    "# Alignment between GEM and LR"
   ]
  },
  {
   "cell_type": "markdown",
   "id": "a97085ab",
   "metadata": {},
   "source": [
    "found_patterns means that a GEM pair shows up in more than 2 slides' Top30 correlated GEM pairs"
   ]
  },
  {
   "cell_type": "code",
   "execution_count": null,
   "id": "fb06cea7",
   "metadata": {},
   "outputs": [],
   "source": [
    "found_patterns = ''\n",
    "with open(r'found_patterns.txt','r') as f:\n",
    "         for i in f.readlines():\n",
    "            found_patterns=i #string\n",
    "found_patterns = eval(found_patterns) # this is orignal dict with instace dict"
   ]
  },
  {
   "cell_type": "markdown",
   "id": "8060df68",
   "metadata": {},
   "source": [
    "For all these found_patterns GEM pairs, for each slide they showed up, use the average of this 2 GEMs to represent them(thus from 2 vectors to 1 vector), then use cosine similarity to match 2 GEMs with LR products on this slide. Find out top 10 most corrected GEM pair-LR"
   ]
  },
  {
   "cell_type": "code",
   "execution_count": null,
   "id": "fa3760dc",
   "metadata": {},
   "outputs": [],
   "source": [
    "Top_10_LRs_per_slide_per_pair = dict()\n",
    "for pair, slides in found_patterns.items():\n",
    "    Top_10_LRs_per_slide_per_pair[pair] = dict()\n",
    "    for slide in slides:\n",
    "        Top_10_LRs_per_slide_per_pair[pair]['slide' + str(slide)] = []"
   ]
  },
  {
   "cell_type": "code",
   "execution_count": null,
   "id": "d0b41ed5",
   "metadata": {},
   "outputs": [],
   "source": [
    "def get_cosine_similarity(A, B):\n",
    "    return np.dot(A,B)/(norm(A)*norm(B))"
   ]
  },
  {
   "cell_type": "code",
   "execution_count": null,
   "id": "08240695",
   "metadata": {},
   "outputs": [],
   "source": [
    "for pair, slides in Top_10_LRs_per_slide_per_pair.items():\n",
    "    GEM1 = pair[0]\n",
    "    GEM2 = pair[1]\n",
    "    for slide in slides.keys():\n",
    "        GEM_pair_average = (slides_GEM[slide][GEM1] + slides_GEM[slide][GEM2]) / 2\n",
    "        cosine_score = []\n",
    "        for LR_name, val in slides_lr[slide].items():\n",
    "            cosine_score.append((LR_name, get_cosine_similarity(GEM_pair_average, val)))\n",
    "        cosine_score = sorted(cosine_score, key=lambda tup: tup[1], reverse = True)\n",
    "        for i in range(10):\n",
    "            Top_10_LRs_per_slide_per_pair[pair][slide].append(cosine_score[i][0])"
   ]
  },
  {
   "cell_type": "markdown",
   "id": "79a947e6",
   "metadata": {},
   "source": [
    "Here we try to find LR pairs that exist in all slides in a pattern."
   ]
  },
  {
   "cell_type": "code",
   "execution_count": null,
   "id": "1bac56f4",
   "metadata": {},
   "outputs": [],
   "source": [
    "def common_member(p):\n",
    "    result = set(p[0])\n",
    "    for s in p[1:]:\n",
    "        result.intersection_update(s)\n",
    "    return list(result)"
   ]
  },
  {
   "cell_type": "code",
   "execution_count": null,
   "id": "7b080848",
   "metadata": {},
   "outputs": [],
   "source": [
    "common_LRs_per_pair = dict()\n",
    "for pair, slides in Top_10_LRs_per_slide_per_pair.items():\n",
    "    LR_of_slides = []\n",
    "    for _, LRs in slides.items():\n",
    "        LR_of_slides.append(LRs)\n",
    "    common_LRs_per_pair[pair] = common_member(LR_of_slides)\n",
    "\n",
    "for k in list(common_LRs_per_pair.keys()):   \n",
    "    if len(common_LRs_per_pair[k]) < 2:\n",
    "        del common_LRs_per_pair[k]"
   ]
  },
  {
   "cell_type": "code",
   "execution_count": null,
   "id": "aec4d298",
   "metadata": {},
   "outputs": [],
   "source": [
    "import pickle\n",
    "with open(\"common_LRs_per_pair\", \"wb\") as file:\n",
    "    pickle.dump(common_LRs_per_pair, file)"
   ]
  },
  {
   "cell_type": "markdown",
   "id": "ae876267",
   "metadata": {},
   "source": [
    "# Plot"
   ]
  },
  {
   "cell_type": "code",
   "execution_count": null,
   "id": "ac6a6933",
   "metadata": {},
   "outputs": [],
   "source": [
    "HCC_1T = './raw_data/Primary_Tumor/HCC-1T'\n",
    "HCC_1L = './raw_data/Leading_Edge/HCC-1L'\n",
    "HCC_1N = './raw_data/Adjacent/HCC-1N'\n",
    "\n",
    "HCC_2T = './raw_data/Primary_Tumor/HCC-2T'\n",
    "HCC_2L = './raw_data/Leading_Edge/HCC-2L'\n",
    "HCC_2N = './raw_data/Adjacent/HCC-2N'\n",
    "\n",
    "HCC_3T = './raw_data/Primary_Tumor/HCC-3T'\n",
    "HCC_3L = './raw_data/Leading_Edge/HCC-3L'\n",
    "HCC_3N = './raw_data/Adjacent/HCC-3N'\n",
    "\n",
    "HCC_4T = './raw_data/Primary_Tumor/HCC-4T'\n",
    "HCC_4L = './raw_data/Leading_Edge/HCC-4L'\n",
    "HCC_4N = './raw_data/Adjacent/HCC-4N'\n",
    "\n",
    "visium_paths = [HCC_1T, HCC_1L, HCC_1N, HCC_2T, HCC_2L, HCC_2N,\n",
    "                HCC_3T, HCC_3L, HCC_3N, HCC_4T, HCC_4L, HCC_4N]\n",
    "tissue_names_unique = ['Patient 1 Primary Tumor', \n",
    "                       'Patient 1 Leading Edge', \n",
    "                       'Patient 1 Ajacent Area',\n",
    "                       'Patient 2 Primary Tumor', \n",
    "                       'Patient 2 Leading Edge', \n",
    "                       'Patient 2 Ajacent Area', \n",
    "                       'Patient 3 Primary Tumor', \n",
    "                       'Patient 3 Leading Edge', \n",
    "                       'Patient 3 Ajacent Area',\n",
    "                       'Patient 4 Primary Tumor', \n",
    "                       'Patient 4 Leading Edge', \n",
    "                       'Patient 4 Ajacent Area']"
   ]
  },
  {
   "cell_type": "code",
   "execution_count": null,
   "id": "ec01562a",
   "metadata": {},
   "outputs": [],
   "source": [
    "adata_l = []\n",
    "for i in range(12):\n",
    "    adata = sc.read_visium(visium_paths[i])\n",
    "    adata_l.append(adata)"
   ]
  },
  {
   "cell_type": "code",
   "execution_count": null,
   "id": "d87d80fb",
   "metadata": {},
   "outputs": [],
   "source": [
    "def clean_outliers(GEM_exp, LR_exp):\n",
    "    assert(len(GEM_exp) == len(LR_exp))\n",
    "    \n",
    "    LR_exp_c = copy.deepcopy(LR_exp)\n",
    "    GEM_exp_c = copy.deepcopy(GEM_exp)\n",
    "    \n",
    "    outlier_idx = []\n",
    "    for i in range(len(LR_exp_c)):\n",
    "        if ((LR_exp_c[i] == 0) and (GEM_exp_c[i] != 0)) or \\\n",
    "            ((LR_exp_c[i] != 0) and (GEM_exp_c[i] == 0)):\n",
    "            outlier_idx.append(i)\n",
    "    \n",
    "    LR_exp_c = [LR_exp_c[i] for i in range(len(LR_exp_c)) if i not in outlier_idx]\n",
    "    GEM_exp_c = [GEM_exp_c[i] for i in range(len(GEM_exp_c)) if i not in outlier_idx]\n",
    "    return GEM_exp_c, LR_exp_c"
   ]
  },
  {
   "cell_type": "code",
   "execution_count": null,
   "id": "8d837132",
   "metadata": {},
   "outputs": [],
   "source": [
    "def sigmoid(x, L ,x0, k, b):\n",
    "    y = L / (1 + np.exp(-k*(x-x0))) + b\n",
    "    return y"
   ]
  },
  {
   "cell_type": "code",
   "execution_count": null,
   "id": "ad9183d4",
   "metadata": {},
   "outputs": [],
   "source": [
    "def linear(x, p):\n",
    "    y = p * x\n",
    "    return y"
   ]
  },
  {
   "cell_type": "code",
   "execution_count": null,
   "id": "58b1f437",
   "metadata": {},
   "outputs": [],
   "source": [
    "def get_ligand_receptor_name(LR):\n",
    "    ligand_receptor = LR.split('-')\n",
    "    ligand_name = ligand_receptor[0]\n",
    "    receptor_name = ligand_receptor[1]\n",
    "    if len(ligand_receptor) > 2:\n",
    "        ligand_name = ligand_receptor[0] + '-' + ligand_receptor[1]\n",
    "        receptor_name = ligand_receptor[2]\n",
    "        if ligand_name not in slides_ligand[slide].keys():\n",
    "            ligand_name = ligand_receptor[0]\n",
    "            receptor_name = ligand_receptor[1] + '-' + ligand_receptor[2]\n",
    "    return ligand_name, receptor_name"
   ]
  },
  {
   "cell_type": "code",
   "execution_count": null,
   "id": "1e57fde7",
   "metadata": {},
   "outputs": [],
   "source": [
    "def fit_sigmoid(xdata, ydata):\n",
    "    p0 = [max(ydata), np.median(xdata),1,min(ydata)]\n",
    "    popt_sigmoid, _ = curve_fit(sigmoid, xdata, ydata, p0, method='dogbox', max_nfev=5000)\n",
    "    return popt_sigmoid"
   ]
  },
  {
   "cell_type": "code",
   "execution_count": null,
   "id": "9ec4dbbf",
   "metadata": {},
   "outputs": [],
   "source": [
    "def try_fit_sigmoid(x, y):\n",
    "    plot_sigmoid = True\n",
    "    try:\n",
    "        popt_sigmoid = fit_sigmoid(x, y)\n",
    "        esti = sigmoid(x, *popt_sigmoid)\n",
    "        sigmoid_correlation_coefficient = np.corrcoef(y, esti)[0, 1] ** 2\n",
    "\n",
    "    except:\n",
    "        plot_sigmoid = False\n",
    "        \n",
    "    if plot_sigmoid:\n",
    "        return plot_sigmoid, esti, sigmoid_correlation_coefficient\n",
    "    else:\n",
    "        return plot_sigmoid, None, 0"
   ]
  },
  {
   "cell_type": "code",
   "execution_count": null,
   "id": "5d2ee3f3",
   "metadata": {},
   "outputs": [],
   "source": [
    "def try_fit_linear(x, y):\n",
    "    plot_linear = True\n",
    "    try:\n",
    "        slope, intercept, r_value, p_value, std_err = linregress(x, y)\n",
    "        esti = slope * np.array(x) + intercept\n",
    "        linear_correlation_coefficient = r_value**2\n",
    "        \n",
    "    except:\n",
    "        plot_linear = False\n",
    " \n",
    "    \n",
    "    if plot_linear:\n",
    "        return plot_linear, esti, linear_correlation_coefficient\n",
    "    else:\n",
    "        return plot_linear, None, 0\n"
   ]
  },
  {
   "cell_type": "code",
   "execution_count": null,
   "id": "865fdf32",
   "metadata": {},
   "outputs": [],
   "source": [
    "slides_GEM_LR_corrs = dict()"
   ]
  },
  {
   "cell_type": "code",
   "execution_count": null,
   "id": "302ef1e0",
   "metadata": {},
   "outputs": [],
   "source": [
    "    #plot1: GEM1 vs GEM2\n",
    "    #plot2: GEM2 vs GEM1\n",
    "    #####################\n",
    "    #plot3: GEM1 vs Ligand\n",
    "    #plot4: GEM2 vs Ligand\n",
    "    #plot5: Receptor vs GEM1\n",
    "    #plot6: Receptor vs GEM2  \n",
    "    #plot7: GEM1 vs Products\n",
    "    #plot9: Products vs GEM1 \n",
    "    #plot10: GEM2 vs Products\n",
    "    #plot10: Products vs GEM2  "
   ]
  },
  {
   "cell_type": "code",
   "execution_count": null,
   "id": "7c993b13",
   "metadata": {},
   "outputs": [],
   "source": [
    "whole_counter = 0\n",
    "for pair, LRs in common_LRs_per_pair.items():\n",
    "    whole_counter += 1\n",
    "    slides_GEM_LR_corrs[pair] = dict()\n",
    "    print(\"Progress: %d / %d\" %(whole_counter, len(common_LRs_per_pair)))\n",
    "    show_up_slides = found_patterns[pair]\n",
    "\n",
    "    fig, ax = plt.subplots(len(show_up_slides), 2 + len(LRs) * 8, figsize=((2 + len(LRs) * 8) * 8, len(show_up_slides) * 8))\n",
    "    \n",
    "    for i, s in enumerate(show_up_slides):\n",
    "        #we first plot GEM1-GEM2 relationship, since we do not know which one emit ligand and which one \n",
    "        #is regulated through receptor, we plot GEM1-GEM2 and GEM2-GEM1 individually\n",
    "        slide = 'slide' + str(s)\n",
    "        GEM1_exp = slides_GEM[slide][pair[0]]\n",
    "        GEM2_exp = slides_GEM[slide][pair[1]]\n",
    "        f1_GEM1, f1_GEM2 = clean_outliers(GEM1_exp, GEM2_exp)\n",
    "        \n",
    "        plot_sigmoid1, GEM_esti_sigmoid1, sigmoid_correlation_coefficient1 = try_fit_sigmoid(f1_GEM1, f1_GEM2)\n",
    "        plot_sigmoid2, GEM_esti_sigmoid2, sigmoid_correlation_coefficient2 = try_fit_sigmoid(f1_GEM2, f1_GEM1)\n",
    "        plot_linear1, GEM_esti_linear1, linear_correlation_coefficient1 = try_fit_linear(f1_GEM1, f1_GEM2)\n",
    "        plot_linear2, GEM_esti_linear2, linear_correlation_coefficient2 = try_fit_linear(f1_GEM2, f1_GEM1)\n",
    "        \n",
    "        ax[i,0].scatter(f1_GEM1, f1_GEM2, alpha = 1, s = 120)\n",
    "        if plot_sigmoid1:\n",
    "            ax[i,0].scatter(f1_GEM1, GEM_esti_sigmoid1, color='red', \n",
    "                            label = 'sigmoid fit: %.2f'%sigmoid_correlation_coefficient1, alpha = 1, s = 120)\n",
    "        if plot_linear1:\n",
    "            ax[i,0].scatter(f1_GEM1, GEM_esti_linear1, color='orange', \n",
    "                            label = 'linear fit: %.2f'%linear_correlation_coefficient1, alpha = 1, s = 120)\n",
    "        if plot_sigmoid1 or plot_linear1:\n",
    "            ax[i,0].legend(loc = 'lower right', fontsize = 20)\n",
    "            \n",
    "        title = \"Slide: %s \\n GEM1: %s \\n GEM2: %s \" %(tissue_names_unique[s], pair[0], pair[1])\n",
    "        xlabel = \"GEM: %s\"%(pair[0])\n",
    "        ylabel = \"GEM: %s\"%(pair[1])\n",
    "        ax[i,0].set_title(title, fontsize = 25)\n",
    "        ax[i,0].set_xlabel(xlabel, fontsize = 25)\n",
    "        ax[i,0].set_ylabel(ylabel, fontsize = 25)\n",
    "        \n",
    "        \n",
    "        \n",
    "        ax[i,1].scatter(f1_GEM2, f1_GEM1, alpha = 1, s = 120)\n",
    "        if plot_sigmoid2:\n",
    "            ax[i,1].scatter(f1_GEM2, GEM_esti_sigmoid2, color='red', \n",
    "                            label = 'sigmoid fit: %.2f'%sigmoid_correlation_coefficient2, alpha = 1, s = 120)\n",
    "        if plot_linear2:\n",
    "            ax[i,1].scatter(f1_GEM2, GEM_esti_linear2, color='orange', \n",
    "                            label = 'linear fit: %.2f'%linear_correlation_coefficient2, alpha = 1, s = 120)\n",
    "        if plot_sigmoid2 or plot_linear2:\n",
    "            ax[i,1].legend(loc = 'lower right', fontsize = 20)\n",
    "            \n",
    "        title = \"Slide: %s \\n GEM1: %s \\n GEM2: %s \" %(tissue_names_unique[s], pair[1], pair[0])\n",
    "        xlabel = \"GEM: %s\"%(pair[1])\n",
    "        ylabel = \"GEM: %s\"%(pair[0])\n",
    "        ax[i,1].set_title(title, fontsize = 25)\n",
    "        ax[i,1].set_xlabel(xlabel, fontsize = 25)\n",
    "        ax[i,1].set_ylabel(ylabel, fontsize = 25)\n",
    "        \n",
    "        \n",
    "        slides_GEM_LR_corrs[pair][slide] = dict()\n",
    "        slides_GEM_LR_corrs[pair][slide]['GEM1-GEM2'] = dict()\n",
    "        slides_GEM_LR_corrs[pair][slide]['GEM1-GEM2'][(pair[0], pair[1])] = [sigmoid_correlation_coefficient1, linear_correlation_coefficient1]\n",
    "        slides_GEM_LR_corrs[pair][slide]['GEM1-GEM2'][(pair[1], pair[0])] = [sigmoid_correlation_coefficient2, linear_correlation_coefficient2]\n",
    "        slides_GEM_LR_corrs[pair][slide]['GEM1-Ligand'] = dict()\n",
    "        slides_GEM_LR_corrs[pair][slide]['GEM2-Ligand'] = dict()\n",
    "        slides_GEM_LR_corrs[pair][slide]['Receptor-GEM1'] = dict()\n",
    "        slides_GEM_LR_corrs[pair][slide]['Receptor-GEM2'] = dict()\n",
    "        slides_GEM_LR_corrs[pair][slide]['Products-GEM1'] = dict()\n",
    "        slides_GEM_LR_corrs[pair][slide]['GEM1-Products'] = dict()\n",
    "        slides_GEM_LR_corrs[pair][slide]['Products-GEM2'] = dict()\n",
    "        slides_GEM_LR_corrs[pair][slide]['GEM2-Products'] = dict()\n",
    "        \n",
    "        for j, LR in enumerate(LRs):\n",
    "            ligand_name, receptor_name = get_ligand_receptor_name(LR)\n",
    "\n",
    "            \n",
    "            ligand_exp = slides_ligand[slide][ligand_name]\n",
    "            receptor_exp = slides_receptor[slide][receptor_name]\n",
    "            LR_exp = slides_lr[slide][LR]\n",
    "            \n",
    "\n",
    "            f3_GEM1, f3_ligand = clean_outliers(GEM1_exp, ligand_exp)\n",
    "            f4_GEM2, f4_ligand = clean_outliers(GEM2_exp, ligand_exp)\n",
    "            f5_GEM1, f5_receptor  = clean_outliers(GEM1_exp, receptor_exp)\n",
    "            f6_GEM2, f6_receptor = clean_outliers(GEM2_exp, receptor_exp)\n",
    "            f7_GEM1, f7_lr = clean_outliers(GEM1_exp, LR_exp)\n",
    "            f8_GEM2, f8_lr = clean_outliers(GEM2_exp, LR_exp)\n",
    "            \n",
    "            corrected_data = [(f3_GEM1, f3_ligand), (f4_GEM2, f4_ligand), \n",
    "                              (f5_receptor, f5_GEM1), (f6_receptor, f6_GEM2), \n",
    "                              (f7_GEM1, f7_lr), (f7_lr, f7_GEM1), \n",
    "                              (f8_GEM2, f8_lr), (f8_lr, f8_GEM2)]\n",
    "            \n",
    "            for m in range(len(corrected_data)):\n",
    "                X_c = corrected_data[m][0]#x\n",
    "                Y_c = corrected_data[m][1]#y\n",
    "                \n",
    "\n",
    "                plot_sigmoid, Y_esti_sigmoid, sigmoid_correlation_coefficient = try_fit_sigmoid(X_c, Y_c)\n",
    "                plot_linear, Y_esti_linear, linear_correlation_coefficient = try_fit_linear(X_c, Y_c)\n",
    "                \n",
    "                    \n",
    "                    \n",
    "                if m == 0:\n",
    "                    title = \"Slide: %s \\n GEM: %s \\n Ligand: %s \" %(tissue_names_unique[s], pair[0], ligand_name)\n",
    "                    xlabel = \"GEM: %s\"%(pair[0])\n",
    "                    ylabel = \"Ligand: %s\"%(ligand_name)\n",
    "                    slides_GEM_LR_corrs[pair][slide]['GEM1-Ligand'][pair[0]] = [sigmoid_correlation_coefficient, linear_correlation_coefficient]\n",
    "                elif m == 1:\n",
    "                    title = \"Slide: %s \\n GEM: %s \\n Ligand: %s \" %(tissue_names_unique[s], pair[1], ligand_name)\n",
    "                    xlabel = \"GEM: %s\"%(pair[1])\n",
    "                    ylabel = \"Ligand: %s\"%(ligand_name)\n",
    "                    slides_GEM_LR_corrs[pair][slide]['GEM2-Ligand'][pair[1]] = [sigmoid_correlation_coefficient, linear_correlation_coefficient]\n",
    "                elif m == 2:\n",
    "                    title = \"Slide: %s \\n GEM: %s \\n Receptor: %s \" %(tissue_names_unique[s], pair[0], receptor_name)\n",
    "                    xlabel = \"Receptor: %s\"%(receptor_name)\n",
    "                    ylabel = \"GEM: %s\"%(pair[0])\n",
    "                    slides_GEM_LR_corrs[pair][slide]['Receptor-GEM1'][pair[0]] = [sigmoid_correlation_coefficient, linear_correlation_coefficient]\n",
    "                elif m == 3:\n",
    "                    title = \"Slide: %s \\n GEM: %s \\n Receptor: %s \" %(tissue_names_unique[s], pair[1], receptor_name)\n",
    "                    xlabel = \"Receptor: %s\"%(receptor_name)\n",
    "                    ylabel = \"GEM: %s\"%(pair[1])\n",
    "                    slides_GEM_LR_corrs[pair][slide]['Receptor-GEM2'][pair[1]] = [sigmoid_correlation_coefficient, linear_correlation_coefficient]\n",
    "                elif m == 4:\n",
    "                    title = \"Slide: %s \\n GEM: %s \\n LR: %s \" %(tissue_names_unique[s], pair[0], LR)\n",
    "                    xlabel = \"GEM: %s\"%(pair[0])\n",
    "                    ylabel = \"LR product: %s\"%(LR)\n",
    "                    slides_GEM_LR_corrs[pair][slide]['Products-GEM1'][LR] = [sigmoid_correlation_coefficient, linear_correlation_coefficient]\n",
    "                elif m == 5:\n",
    "                    title = \"Slide: %s \\n GEM: %s \\n LR: %s \" %(tissue_names_unique[s], pair[0], LR)\n",
    "                    xlabel = \"LR product: %s\"%(LR)\n",
    "                    ylabel = \"GEM: %s\"%(pair[0])\n",
    "                    slides_GEM_LR_corrs[pair][slide]['GEM1-Products'][LR] = [sigmoid_correlation_coefficient, linear_correlation_coefficient]\n",
    "                elif m == 6:\n",
    "                    title = \"Slide: %s \\n GEM: %s \\n LR: %s \" %(tissue_names_unique[s], pair[1], LR)\n",
    "                    xlabel = \"GEM: %s\"%(pair[1])\n",
    "                    ylabel = \"LR product: %s\"%(LR)\n",
    "                    slides_GEM_LR_corrs[pair][slide]['Products-GEM2'][LR] = [sigmoid_correlation_coefficient, linear_correlation_coefficient]\n",
    "                elif m == 7:\n",
    "                    title = \"Slide: %s \\n GEM: %s \\n LR: %s \" %(tissue_names_unique[s], pair[1], LR)\n",
    "                    xlabel = \"LR product: %s\"%(LR)\n",
    "                    ylabel = \"GEM: %s\"%(pair[1])\n",
    "                    slides_GEM_LR_corrs[pair][slide]['GEM2-Products'][LR] = [sigmoid_correlation_coefficient, linear_correlation_coefficient]\n",
    "\n",
    "                ax[i, 8 * j + m + 2].scatter(X_c, Y_c, alpha = 1, s = 120)\n",
    "                if plot_sigmoid:\n",
    "                    ax[i, 8 * j + m + 2].scatter(X_c, Y_esti_sigmoid, color='red', \n",
    "                                                label = 'sigmoid fit: %.2f'%sigmoid_correlation_coefficient, alpha = 1, s = 120)\n",
    "                if plot_linear:\n",
    "                    ax[i, 8 * j + m + 2].scatter(X_c, Y_esti_linear, color='orange', \n",
    "                                                label = 'linear fit: %.2f'%linear_correlation_coefficient, alpha = 1, s = 120)\n",
    "                if plot_sigmoid or plot_linear:\n",
    "                    ax[i, 8 * j + m + 2].legend(loc = 'lower right', fontsize = 20)\n",
    "                ax[i, 8 * j + m + 2].set_title(title, fontsize = 25)\n",
    "                ax[i, 8 * j + m + 2].set_xlabel(xlabel, fontsize = 25)\n",
    "                ax[i, 8 * j + m + 2].set_ylabel(ylabel, fontsize = 25)\n",
    "                \n",
    "\n",
    "    \n",
    "    plt.tight_layout()\n",
    "    path = \"./GEM_vis/GEM_corr_png/cosine/Patterns_LRs/inconcat_GEM_LR_corr_without_diff_detailed/\"\n",
    "    file_name = \"%s-%s\" %(pair[0], pair[1])\n",
    "    fig.savefig(path+file_name)\n",
    "    plt.close(fig)   \n",
    "        "
   ]
  },
  {
   "cell_type": "code",
   "execution_count": null,
   "id": "76d5fa36",
   "metadata": {},
   "outputs": [],
   "source": [
    "with open(r'GEM_LR_corr.txt','w+') as f:\n",
    "     f.write(str(slides_GEM_LR_corrs))"
   ]
  },
  {
   "cell_type": "code",
   "execution_count": null,
   "id": "51d80cae",
   "metadata": {},
   "outputs": [],
   "source": [
    "slides_GEM_LR_corrs = ''\n",
    "with open(r'GEM_LR_corr.txt','r') as f:\n",
    "         for i in f.readlines():\n",
    "            slides_GEM_LR_corrs=i #string\n",
    "slides_GEM_LR_corrs = eval(slides_GEM_LR_corrs) # this is orignal dict with instace dict"
   ]
  },
  {
   "cell_type": "markdown",
   "id": "2211366d",
   "metadata": {},
   "source": [
    "# Choose Highly Correlated GEM-LR"
   ]
  },
  {
   "cell_type": "code",
   "execution_count": null,
   "id": "c11d5b25",
   "metadata": {},
   "outputs": [],
   "source": [
    "#based on empirical observation\n",
    "# GEM1: B Cell GEM 22 GEM2: Myeloid GEM 81 Ligand: FN1 Receptor: SDC1\n",
    "# GEM1: B Cell GEM 22 GEM2: Myeloid GEM 81 Ligand: FN1 Receptor: SDC4\n",
    "# GEM1: Epithelial GEM 15 GEM2: Myeloid GEM 85 Ligand: FN1 Receptor: SDC1"
   ]
  },
  {
   "cell_type": "code",
   "execution_count": null,
   "id": "9657b317",
   "metadata": {},
   "outputs": [],
   "source": [
    "GEM1 = 'B cell GEM 22'\n",
    "GEM2 = 'Myeloid GEM 81'\n",
    "Ligand = 'FN1'\n",
    "Receptor = 'SDC1'"
   ]
  },
  {
   "cell_type": "code",
   "execution_count": null,
   "id": "d50ffd9b",
   "metadata": {},
   "outputs": [],
   "source": [
    "found_slides = found_patterns[(GEM1, GEM2)]"
   ]
  },
  {
   "cell_type": "code",
   "execution_count": null,
   "id": "986293e2",
   "metadata": {},
   "outputs": [],
   "source": [
    "GEM1_exp_concat = []\n",
    "GEM2_exp_concat = []\n",
    "Ligand_exp_concat = []\n",
    "Receptor_exp_concat = []\n",
    "Product_exp_concat = []\n",
    "for s in found_slides:\n",
    "    slide_name = 'slide' + str(s)\n",
    "    GEM1_exp_concat.append(slides_GEM[slide_name][GEM1])\n",
    "    GEM2_exp_concat.append(slides_GEM[slide_name][GEM2])\n",
    "    Ligand_exp_concat.append(slides_ligand[slide_name][Ligand])\n",
    "    Receptor_exp_concat.append(slides_receptor[slide_name][Receptor])\n",
    "    Product_exp_concat.append(slides_lr[slide_name][Ligand + '-' + Receptor])\n",
    "GEM1_exp_concat = np.concatenate(GEM1_exp_concat)\n",
    "GEM2_exp_concat = np.concatenate(GEM2_exp_concat)\n",
    "Ligand_exp_concat = np.concatenate(Ligand_exp_concat)\n",
    "Receptor_exp_concat = np.concatenate(Receptor_exp_concat)\n",
    "Product_exp_concat = np.concatenate(Product_exp_concat)"
   ]
  },
  {
   "cell_type": "code",
   "execution_count": null,
   "id": "c27eb58b",
   "metadata": {},
   "outputs": [],
   "source": [
    "example_LR_GEM_profile = np.stack([GEM1_exp_concat, GEM2_exp_concat, \n",
    "                                         Ligand_exp_concat, Receptor_exp_concat, Product_exp_concat], axis = 0).transpose()"
   ]
  },
  {
   "cell_type": "code",
   "execution_count": null,
   "id": "b1c4455f",
   "metadata": {},
   "outputs": [],
   "source": [
    "example_LR_GEM_profile = pd.DataFrame(example_LR_GEM_profile, columns = [GEM1, GEM2, Ligand, Receptor, \"Product\"])"
   ]
  },
  {
   "cell_type": "code",
   "execution_count": null,
   "id": "7f4dc158",
   "metadata": {},
   "outputs": [],
   "source": [
    "example_LR_GEM_profile.to_csv(\"./TME_CD/example1_GEM_LR_CD.csv\", index = False)"
   ]
  },
  {
   "cell_type": "markdown",
   "id": "c9c687ee",
   "metadata": {},
   "source": [
    "# Test Correlation of 2 GEMs Given the LR"
   ]
  },
  {
   "cell_type": "code",
   "execution_count": null,
   "id": "d04986ed",
   "metadata": {},
   "outputs": [],
   "source": [
    "import pingouin as pg"
   ]
  },
  {
   "cell_type": "code",
   "execution_count": null,
   "id": "f8bab55a",
   "metadata": {},
   "outputs": [],
   "source": [
    "example_LR_GEM_profile"
   ]
  },
  {
   "cell_type": "code",
   "execution_count": null,
   "id": "fa7b1d1c",
   "metadata": {},
   "outputs": [],
   "source": [
    "pg.pairwise_corr(data=example_LR_GEM_profile, columns = [GEM1, GEM2], covar='Product').round(3)"
   ]
  },
  {
   "cell_type": "code",
   "execution_count": null,
   "id": "dad9ee18",
   "metadata": {},
   "outputs": [],
   "source": [
    "pg.pairwise_corr(data=example_LR_GEM_profile, columns = [GEM1, GEM2]).round(3)"
   ]
  }
 ],
 "metadata": {
  "kernelspec": {
   "display_name": "Scanpy(Python)",
   "language": "python",
   "name": "cello_env"
  },
  "language_info": {
   "codemirror_mode": {
    "name": "ipython",
    "version": 3
   },
   "file_extension": ".py",
   "mimetype": "text/x-python",
   "name": "python",
   "nbconvert_exporter": "python",
   "pygments_lexer": "ipython3",
   "version": "3.7.13"
  }
 },
 "nbformat": 4,
 "nbformat_minor": 5
}
