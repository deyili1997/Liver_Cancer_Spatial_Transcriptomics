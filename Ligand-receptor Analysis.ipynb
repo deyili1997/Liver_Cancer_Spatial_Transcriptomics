{
 "cells": [
  {
   "cell_type": "code",
   "execution_count": null,
   "id": "538ef8b1",
   "metadata": {},
   "outputs": [],
   "source": [
    "import scanpy as sc\n",
    "import numpy as np\n",
    "import pandas as pd\n",
    "import anndata as ad\n",
    "import seaborn as sns\n",
    "import matplotlib.pyplot as plt\n",
    "from scipy.io import mmread\n",
    "from sklearn.preprocessing import normalize\n",
    "import anndata as ad\n",
    "import matplotlib as mpl\n",
    "from harmony import harmonize\n",
    "sc.set_figure_params(figsize=(6, 6), frameon=False)\n",
    "sc.settings.n_jobs=8"
   ]
  },
  {
   "cell_type": "code",
   "execution_count": null,
   "id": "3580974b",
   "metadata": {},
   "outputs": [],
   "source": [
    "HCC_1T = './raw_data/Primary_Tumor/HCC-1T'\n",
    "HCC_1L = './raw_data/Leading_Edge/HCC-1L'\n",
    "HCC_1N = './raw_data/Adjacent/HCC-1N'\n",
    "\n",
    "HCC_2T = './raw_data/Primary_Tumor/HCC-2T'\n",
    "HCC_2L = './raw_data/Leading_Edge/HCC-2L'\n",
    "HCC_2N = './raw_data/Adjacent/HCC-2N'\n",
    "\n",
    "HCC_3T = './raw_data/Primary_Tumor/HCC-3T'\n",
    "HCC_3L = './raw_data/Leading_Edge/HCC-3L'\n",
    "HCC_3N = './raw_data/Adjacent/HCC-3N'\n",
    "\n",
    "HCC_4T = './raw_data/Primary_Tumor/HCC-4T'\n",
    "HCC_4L = './raw_data/Leading_Edge/HCC-4L'\n",
    "HCC_4N = './raw_data/Adjacent/HCC-4N'\n",
    "\n",
    "visium_paths = [HCC_1T, HCC_1L, HCC_1N, HCC_2T, HCC_2L, HCC_2N,\n",
    "                HCC_3T, HCC_3L, HCC_3N, HCC_4T, HCC_4L, HCC_4N]\n",
    "tissue_names_unique = ['Patient 1 Primary Tumor', \n",
    "                       'Patient 1 Leading Edge', \n",
    "                       'Patient 1 Ajacent Area',\n",
    "                       'Patient 2 Primary Tumor', \n",
    "                       'Patient 2 Leading Edge', \n",
    "                       'Patient 2 Ajacent Area', \n",
    "                       'Patient 3 Primary Tumor', \n",
    "                       'Patient 3 Leading Edge', \n",
    "                       'Patient 3 Ajacent Area',\n",
    "                       'Patient 4 Primary Tumor', \n",
    "                       'Patient 4 Leading Edge', \n",
    "                       'Patient 4 Ajacent Area']"
   ]
  },
  {
   "cell_type": "code",
   "execution_count": null,
   "id": "50e9e7ad",
   "metadata": {},
   "outputs": [],
   "source": [
    "adata_l = []\n",
    "for i in range(12):\n",
    "    adata = sc.read_visium(visium_paths[i])\n",
    "    adata_l.append(adata)"
   ]
  },
  {
   "cell_type": "code",
   "execution_count": null,
   "id": "6b9db133",
   "metadata": {},
   "outputs": [],
   "source": [
    "def plot_globally(gene, title, dpi = 20):\n",
    "    fig, ax = plt.subplots(4,3, figsize=(35, 50))\n",
    "    sc.set_figure_params(fontsize = 50, dpi=dpi, dpi_save=dpi)\n",
    "    dark_image_idx = [3, 4, 9, 10, 11]\n",
    "    for p in range(4):\n",
    "        for t in range(3):\n",
    "\n",
    "            idx = 3*p + t\n",
    "\n",
    "            if idx in dark_image_idx:\n",
    "                alpha_img = 0.6\n",
    "                alpha = 0.7\n",
    "            else:\n",
    "                alpha_img = 0.3\n",
    "                alpha = 0.9\n",
    "\n",
    "            adata = adata_l[idx]\n",
    "            sc.pl.spatial(adata, img_key=\"hires\", color=gene, \n",
    "                          alpha = alpha, alpha_img = alpha_img, ax = ax[p, t], \n",
    "                          title = title, vmin = 0, \n",
    "                          color_map = 'Greens', colorbar_loc = 'right', show = False)\n",
    "    plt.show()    "
   ]
  },
  {
   "cell_type": "markdown",
   "id": "260ab3f3",
   "metadata": {},
   "source": [
    "# Read in Ligand-receptor data"
   ]
  },
  {
   "cell_type": "code",
   "execution_count": null,
   "id": "702e0948",
   "metadata": {},
   "outputs": [],
   "source": [
    "import rdata"
   ]
  },
  {
   "cell_type": "code",
   "execution_count": null,
   "id": "ff03fe21",
   "metadata": {},
   "outputs": [],
   "source": [
    "parsed = rdata.parser.parse_file(\"./Ligand-Receptor/CellChatDB.human.rda\")\n",
    "converted = rdata.conversion.convert(parsed)"
   ]
  },
  {
   "cell_type": "code",
   "execution_count": null,
   "id": "f00a3da4",
   "metadata": {},
   "outputs": [],
   "source": [
    "#filter out all overlapping genes\n",
    "LR = converted['CellChatDB.human']['interaction'].loc[:, ['ligand', 'receptor']]\n",
    "ST_genes = list(adata_l[0].var_names)\n",
    "LR_common_genes = []\n",
    "for i in range(LR.shape[0]):\n",
    "    if (LR.iloc[i,0] in ST_genes) and (LR.iloc[i,1] in ST_genes):\n",
    "        LR_common_genes.append((LR.iloc[i,0], LR.iloc[i,1]))"
   ]
  },
  {
   "cell_type": "code",
   "execution_count": null,
   "id": "c3ee6993",
   "metadata": {},
   "outputs": [],
   "source": [
    "len(LR_common_genes)"
   ]
  },
  {
   "cell_type": "markdown",
   "id": "a1ec2d3c",
   "metadata": {},
   "source": [
    "# Lujia's LR Data"
   ]
  },
  {
   "cell_type": "code",
   "execution_count": null,
   "id": "8a51673a",
   "metadata": {},
   "outputs": [],
   "source": [
    "LR_pairs = pd.read_csv(\"./Ligand-Receptor/Lujia_lr_pairs.csv\", header = 0)\n",
    "LR_common_genes = []\n",
    "for i in range(LR_pairs.shape[0]):\n",
    "    if (LR_pairs.iloc[i,0] in ST_genes) and (LR_pairs.iloc[i,1] in ST_genes):\n",
    "        LR_common_genes.append((LR_pairs.iloc[i,0], LR_pairs.iloc[i,1]))"
   ]
  },
  {
   "cell_type": "code",
   "execution_count": null,
   "id": "5d4d0c01",
   "metadata": {},
   "outputs": [],
   "source": [
    "len(LR_common_genes)"
   ]
  },
  {
   "cell_type": "markdown",
   "id": "fb271ac8",
   "metadata": {},
   "source": [
    "# Screening Ligand Receptor "
   ]
  },
  {
   "cell_type": "code",
   "execution_count": null,
   "id": "da1eec91",
   "metadata": {},
   "outputs": [],
   "source": [
    "#if slide express more than 5%(threshold) ligand-rectptor pair, keep, else, discard this slide\n",
    "threshold = 0.05\n",
    "keeped_pairs = {}\n",
    "for i in range(len(LR_common_genes)):\n",
    "    if i % 200 == 0:\n",
    "        print('Progress: ', i)\n",
    "    ligand = LR_common_genes[i][0]\n",
    "    receptor = LR_common_genes[i][1]\n",
    "    \n",
    "    kept_slide_idx = []\n",
    "    for j in range(12):\n",
    "        adata = adata_l[j]\n",
    "        adata.var_names_make_unique()\n",
    "        ligand_exp = adata[:, ligand].X.toarray().flatten()\n",
    "        receptor_exp = adata[:, receptor].X.toarray().flatten()\n",
    "        product = ligand_exp * receptor_exp\n",
    "        \n",
    "        if (np.count_nonzero(product) > int(threshold * len(product))):\n",
    "            kept_slide_idx.append(j)\n",
    "            \n",
    "    keeped_pairs[LR_common_genes[i]] = kept_slide_idx\n",
    "        \n",
    "print(\"%d pairs were kept!\" %len(keeped_pairs))\n",
    "    "
   ]
  },
  {
   "cell_type": "code",
   "execution_count": null,
   "id": "178b8a3d",
   "metadata": {},
   "outputs": [],
   "source": [
    "#define ligand-receptor pair names for further use\n",
    "ligand_receptor_names = []\n",
    "for lr in keeped_pairs.keys():\n",
    "    ligand = lr[0]\n",
    "    receptor = lr[1]\n",
    "    ligand_receptor_names.append(ligand + '-' + receptor)"
   ]
  },
  {
   "cell_type": "markdown",
   "id": "f63c61e6",
   "metadata": {},
   "source": [
    "# Ligand diffusion functions "
   ]
  },
  {
   "cell_type": "markdown",
   "id": "8847f6b7",
   "metadata": {},
   "source": [
    "Since ligand is a protein that is secreted by the cell, it may float in the cyto fluid and travel to adjacent area. On the contrary, receptor, is usually fixed on the cell membrane. Thus, we \"expand\" the ligand in a particualr spot to the neighboring 6 spots. That is, if spot A has ligand L gene expression level of 2, then 2 will be add to the L expression level of all neghboring spots of A. We call it \"Ligand Diffusion\". After that, we take ligand - receptor product."
   ]
  },
  {
   "cell_type": "code",
   "execution_count": null,
   "id": "269287cb",
   "metadata": {},
   "outputs": [],
   "source": [
    "def calculate_ligand_diffusion(adata, ligand):\n",
    "    ligand_positive_idx = find_ligand_positive_idx(adata, ligand)\n",
    "    ligand_neighbors = find_neighbours(ligand_positive_idx, adata.obsm['spatial'])\n",
    "    ligand_diffuse_name = apply_ligand_diffusion(adata, ligand_neighbors, ligand)\n",
    "    return ligand_diffuse_name"
   ]
  },
  {
   "cell_type": "code",
   "execution_count": null,
   "id": "e793b7ba",
   "metadata": {},
   "outputs": [],
   "source": [
    "def find_ligand_positive_idx(adata, ligand):\n",
    "    ligand_positive = []\n",
    "    for i in range(adata.shape[0]):\n",
    "        if adata[i, ligand].X.toarray()[0][0] > 0:\n",
    "            ligand_positive.append((i, adata.obsm['spatial'][i]))\n",
    "    return ligand_positive"
   ]
  },
  {
   "cell_type": "code",
   "execution_count": null,
   "id": "4d72657b",
   "metadata": {},
   "outputs": [],
   "source": [
    "def find_neighbours(ligand_positive, coordinates):\n",
    "    coordinates_dict = dict()\n",
    "\n",
    "    for k, corr1 in ligand_positive:\n",
    "        coordinates_dict[k] = []\n",
    "\n",
    "        #calculate the distance of this corr to other corrs in the invasive_edge\n",
    "        corr_dist_to_others = []\n",
    "        for corr2 in coordinates:\n",
    "            corr_dist_to_others.append(get_distance(corr1, corr2))\n",
    "\n",
    "\n",
    "        #nearest 18 spots (2 laryer spots), exclude itself\n",
    "        nearest_spots = sorted(range(len(corr_dist_to_others)), key=lambda i: corr_dist_to_others[i])[:7]\n",
    "\n",
    "        for neighbor in nearest_spots:\n",
    "            coordinates_dict[k].append(neighbor)\n",
    "        \n",
    "    return coordinates_dict"
   ]
  },
  {
   "cell_type": "code",
   "execution_count": null,
   "id": "05ed8711",
   "metadata": {},
   "outputs": [],
   "source": [
    "def get_distance(corr1, corr2):\n",
    "    return np.sum((corr1 - corr2)**2)"
   ]
  },
  {
   "cell_type": "code",
   "execution_count": null,
   "id": "c854b7dd",
   "metadata": {},
   "outputs": [],
   "source": [
    "def apply_ligand_diffusion(adata, coordinates_dict, ligand):\n",
    "    ligand_expression = []\n",
    "\n",
    "    for corr, neighbours in coordinates_dict.items():\n",
    "        #if this ligand is expressed in this spot\n",
    "        ligand_level = adata[corr, ligand].X.toarray()[0][0]\n",
    "        for neighbor in neighbours:\n",
    "            ligand_expression.append((neighbor, ligand_level))\n",
    "    \n",
    "\n",
    "    ligand_diffusion = np.zeros(adata.shape[0])\n",
    "    for neighbor, expression in ligand_expression:\n",
    "        ligand_diffusion[neighbor] += expression\n",
    "        \n",
    "    ligand_diff_name = ligand + ' Diffusion'    \n",
    "    adata.obs[ligand_diff_name] = ligand_diffusion\n",
    "    return ligand_diff_name"
   ]
  },
  {
   "cell_type": "markdown",
   "id": "db1ec65c",
   "metadata": {},
   "source": [
    "# Ligand-receptor Product with Diffusion"
   ]
  },
  {
   "cell_type": "code",
   "execution_count": null,
   "id": "31ccca74",
   "metadata": {},
   "outputs": [],
   "source": [
    "def output_LR_fighure(ith_LR):\n",
    "    dark_image_idx = [9, 10, 11, 12, 13, 14, 27, 28, 29, 30, 31, 32, 33, 34, 35]\n",
    "    sc.set_figure_params(fontsize = 50, dpi=10, dpi_save=30)\n",
    "\n",
    "#     print(\"Progress: \", ith_LR, '/',len(ligand_receptor_names))\n",
    "    fig, ax = plt.subplots(4,9, figsize=(120, 50))\n",
    "    for p in range(4):\n",
    "        for t in range(9):\n",
    "\n",
    "            idx = 9 * p + t\n",
    "\n",
    "            if idx in dark_image_idx:\n",
    "                alpha_img = 0.6\n",
    "                alpha = 0.7\n",
    "            else:\n",
    "                alpha_img = 0.3\n",
    "                alpha = 0.9\n",
    "\n",
    "            adata = adata_l[3 * p + t // 3]\n",
    "            if t % 3 == 0:    \n",
    "                this_gene = keeped_pairs[ith_LR][0]\n",
    "                this_gene = this_gene + ' Diffusion'\n",
    "                this_gene_exp = adata.obs[this_gene].values\n",
    "#                 this_gene_exp = adata[:, this_gene].X.toarray().flatten()\n",
    "                this_gene_exp = [q for q in this_gene_exp if q != 0]\n",
    "                if len(this_gene_exp) > 0:\n",
    "                    vmax = np.percentile(this_gene_exp, 90)\n",
    "                else:\n",
    "                    vmax = 0\n",
    "                sc.pl.spatial(adata, img_key=\"hires\", color=this_gene, \n",
    "                              alpha = alpha, alpha_img = alpha_img, ax = ax[p, t], \n",
    "                              title = 'Ligand: ' + this_gene, vmin = 0, vmax = vmax,\n",
    "                              color_map = 'Greens', colorbar_loc = 'right', show = False)\n",
    "            elif t % 3 == 1: \n",
    "                this_gene = keeped_pairs[ith_LR][1]\n",
    "                this_gene_exp = adata[:, this_gene].X.toarray().flatten()\n",
    "                this_gene_exp = [q for q in this_gene_exp if q != 0]\n",
    "                if len(this_gene_exp) > 0:\n",
    "                    vmax = np.percentile(this_gene_exp, 90)\n",
    "                else:\n",
    "                    vmax = 0\n",
    "                sc.pl.spatial(adata, img_key=\"hires\", color=this_gene, \n",
    "                              alpha = alpha, alpha_img = alpha_img, ax = ax[p, t], \n",
    "                              title = 'Receptor: ' + this_gene, vmin = 0, vmax = vmax,\n",
    "                              color_map = 'Blues', colorbar_loc = 'right', show = False)\n",
    "            elif t % 3 == 2: \n",
    "                this_lr = adata.obs[ligand_receptor_names[ith_LR]].values\n",
    "                this_lr = [q for q in this_lr if q != 0]\n",
    "                if len(this_lr) > 0:\n",
    "                    vmax = np.percentile(this_lr, 90)\n",
    "                else:\n",
    "                    vmax = 0\n",
    "                sc.pl.spatial(adata, img_key=\"hires\", color=ligand_receptor_names[ith_LR], \n",
    "                              alpha = alpha, alpha_img = alpha_img, ax = ax[p, t], \n",
    "                              title = 'Product: ' + ligand_receptor_names[ith_LR], vmin = 0, vmax = vmax,\n",
    "                              color_map = 'Purples', colorbar_loc = 'right', show = False)                \n",
    "\n",
    "    fig.suptitle(ligand_receptor_names[ith_LR], fontsize = 100)\n",
    "    plt.savefig('./Ligand-Receptor/plots/Diffusion/' + ligand_receptor_names[ith_LR] + '.pdf')\n",
    "    plt.close(fig)"
   ]
  },
  {
   "cell_type": "code",
   "execution_count": null,
   "id": "c29c43d5",
   "metadata": {},
   "outputs": [],
   "source": [
    "counter = 0\n",
    "for lr, slides in keeped_pairs.items():\n",
    "    counter += 1\n",
    "    print('Progress: %d / %d' %(counter, len(keeped_pairs)))\n",
    "    ligand = lr[0]\n",
    "    receptor = lr[1]\n",
    "    \n",
    "    for k in slides:\n",
    "        adata = adata_l[k]\n",
    "        adata.var_names_make_unique()\n",
    "        \n",
    "        ligand_diff_name = calculate_ligand_diffusion(adata, ligand)\n",
    "        ligand_exp = adata.obs[ligand_diff_name].values\n",
    "#         ligand_exp = adata[:, ligand].X.toarray().flatten()\n",
    "        recpt_exp = adata[:, receptor].X.toarray().flatten()\n",
    "        lr_product = ligand_exp * recpt_exp\n",
    "        ligand_receptor_name = ligand + '-' + receptor\n",
    "        adata.obs[ligand_receptor_name] = lr_product\n",
    "        \n",
    "        #here we just get data, not plot, without normalization\n",
    "        np.savetxt(\"./Ligand-Receptor/slide_lr_diffusion/\" + \"slide-\" + str(k) + \"-\" + ligand_receptor_name + \".txt\", \n",
    "                   lr_product.astype(int), fmt = '%i')\n"
   ]
  },
  {
   "cell_type": "markdown",
   "id": "e6f14831",
   "metadata": {},
   "source": [
    "We are also curious about what if we normalized each spot"
   ]
  },
  {
   "cell_type": "code",
   "execution_count": null,
   "id": "10cdf0b9",
   "metadata": {},
   "outputs": [],
   "source": [
    "unnorm_adata_l = []\n",
    "for i in range(12):\n",
    "    adata = sc.read_visium(visium_paths[i])\n",
    "    unnorm_adata_l.append(adata)"
   ]
  },
  {
   "cell_type": "code",
   "execution_count": null,
   "id": "9942d645",
   "metadata": {},
   "outputs": [],
   "source": [
    "# 加入normalization\n",
    "for i in range(12):\n",
    "    adata = norm_adata_l[i]\n",
    "    sc.pp.normalize_total(adata, inplace=True, target_sum=1e4)"
   ]
  },
  {
   "cell_type": "code",
   "execution_count": null,
   "id": "26936c5d",
   "metadata": {},
   "outputs": [],
   "source": [
    "for p in range(0, len(keeped_pairs)):\n",
    "    lr = list(keeped_pairs)[p]\n",
    "    slides = list(keeped_pairs.values())[p]\n",
    "    print('Progress: %d / %d' %(p, len(keeped_pairs)))\n",
    "    ligand = lr[0]\n",
    "    receptor = lr[1]\n",
    "    \n",
    "    for k in slides:\n",
    "        adata = unnorm_adata_l[k]\n",
    "        adata.var_names_make_unique()\n",
    "        \n",
    "#         ligand_diff_name = calculate_ligand_diffusion(adata, ligand)\n",
    "#         ligand_exp = adata.obs[ligand_diff_name].values\n",
    "        ligand_exp = adata[:, ligand].X.toarray().flatten()\n",
    "        recpt_exp = adata[:, receptor].X.toarray().flatten()\n",
    "        lr_product = ligand_exp * recpt_exp\n",
    "        ligand_receptor_name = ligand + '-' + receptor\n",
    "        adata.obs[ligand_receptor_name] = lr_product\n",
    "        \n",
    "        \n",
    "        #here we just get data, not plot, with normalization\n",
    "        np.savetxt(\"./Ligand-Receptor/slide_lr_without_diffusion_without_normalization/ligands/\" + \"slide-\" + str(k) + \"-\" + ligand + \".txt\", \n",
    "                   ligand_exp.astype(int), fmt = '%i')\n",
    "        np.savetxt(\"./Ligand-Receptor/slide_lr_without_diffusion_without_normalization/receptors/\" + \"slide-\" + str(k) + \"-\" + receptor + \".txt\", \n",
    "                   recpt_exp.astype(int), fmt = '%i')\n",
    "        np.savetxt(\"./Ligand-Receptor/slide_lr_without_diffusion_without_normalization/products/\" + \"slide-\" + str(k) + \"-\" + ligand_receptor_name + \".txt\", \n",
    "                   lr_product.astype(int), fmt = '%i')\n"
   ]
  },
  {
   "cell_type": "markdown",
   "id": "ed7d2355",
   "metadata": {},
   "source": [
    "# Just use top 50 genes to infer GEM level (help Lujia)"
   ]
  },
  {
   "cell_type": "markdown",
   "id": "17a1c34c",
   "metadata": {},
   "source": [
    "Here we help Lujia plot GEM level on her data. GEM is not directly outputed from nHDP but by summing the top 50 genes of each GEM generated by nHDP."
   ]
  },
  {
   "cell_type": "code",
   "execution_count": null,
   "id": "552218bf",
   "metadata": {},
   "outputs": [],
   "source": [
    "# GEM_top_genes = pd.read_csv(\"./Ligand-Receptor/crc_merged_gem_list_filtered_for_paper_03072023.csv\", index_col = 0)"
   ]
  },
  {
   "cell_type": "code",
   "execution_count": null,
   "id": "ea5ffef8",
   "metadata": {},
   "outputs": [],
   "source": [
    "# def check_genes_in_ST(GEM_genes):\n",
    "#     adata = adata_l[0]\n",
    "#     adata.var_names_make_unique()\n",
    "#     ST_genes = list(adata.var_names)\n",
    "#     common_genes = []\n",
    "#     for gene in GEM_genes:\n",
    "#         if str(gene) in ST_genes:\n",
    "#             common_genes.append(gene)\n",
    "#     return np.array(common_genes)"
   ]
  },
  {
   "cell_type": "code",
   "execution_count": null,
   "id": "eacc4d2e",
   "metadata": {},
   "outputs": [],
   "source": [
    "# common_genes = {}\n",
    "# for i in GEM_top_genes.index:\n",
    "#     GEM_genes = GEM_top_genes.loc[i, :].values\n",
    "#     common_genes[i] = check_genes_in_ST(GEM_genes)"
   ]
  },
  {
   "cell_type": "code",
   "execution_count": null,
   "id": "bfa48083",
   "metadata": {},
   "outputs": [],
   "source": [
    "# def plot_globally(gene, title, dpi = 50):\n",
    "#     fig, ax = plt.subplots(4,3, figsize=(35, 50))\n",
    "#     sc.set_figure_params(fontsize = 50, dpi=dpi, dpi_save=dpi)\n",
    "#     dark_image_idx = [3, 4, 9, 10, 11]\n",
    "#     for p in range(4):\n",
    "#         for t in range(3):\n",
    "\n",
    "#             idx = 3*p + t\n",
    "\n",
    "#             if idx in dark_image_idx:\n",
    "#                 alpha_img = 0.6\n",
    "#                 alpha = 0.7\n",
    "#             else:\n",
    "#                 alpha_img = 0.3\n",
    "#                 alpha = 0.8\n",
    "\n",
    "#             adata = adata_l[idx]\n",
    "#             this_GEM = adata.obs[gene].values\n",
    "#             this_GEM = [q for q in this_GEM if q != 0]\n",
    "#             if len(this_GEM) > 0:\n",
    "#                 vmax = np.percentile(this_GEM, 99)\n",
    "#             else:\n",
    "#                 vmax = 0\n",
    "#             sc.pl.spatial(adata, img_key=\"hires\", color=gene, \n",
    "#                           alpha = alpha, alpha_img = alpha_img, ax = ax[p, t], vmin = 0, vmax = vmax,\n",
    "#                           color_map = 'Blues', colorbar_loc = 'bottom', title = '', show = False)\n",
    "#             ax[p, t].set_xlabel('')\n",
    "#             ax[p, t].set_ylabel('')\n",
    "            \n",
    "#     plt.tight_layout()\n",
    "#     fig.suptitle(title, fontsize = 80, verticalalignment = 'top')\n",
    "#     plt.savefig('./Ligand-Receptor/Lujia_Verification/' + title + '.pdf')\n",
    "#     plt.close(fig)"
   ]
  },
  {
   "cell_type": "code",
   "execution_count": null,
   "id": "52091b5a",
   "metadata": {},
   "outputs": [],
   "source": [
    "# def plot_GEM_genes_sum(GEM_name):\n",
    "#     GEM = common_genes[GEM_name]\n",
    "#     for i in range(12):\n",
    "#         adata = adata_l[i]\n",
    "#         sc.pp.normalize_total(adata, inplace=True, target_sum=1e4)\n",
    "#         GEM_prof = adata[:, GEM].X.toarray().copy()\n",
    "#         GEM_gene_sum = np.sum(GEM_prof, axis = 1)\n",
    "#         adata.obs[GEM_name] = GEM_gene_sum\n",
    "#     plot_globally(GEM_name, GEM_name)"
   ]
  },
  {
   "cell_type": "code",
   "execution_count": null,
   "id": "0c40ba19",
   "metadata": {},
   "outputs": [],
   "source": [
    "# for i in range(155, len(GEM_top_genes.index)):\n",
    "#     GEM_name = GEM_top_genes.index[i]\n",
    "#     print(\"Progress: %d / %d\" %(i + 1, len(GEM_top_genes)))\n",
    "#     plot_GEM_genes_sum(GEM_name)"
   ]
  }
 ],
 "metadata": {
  "kernelspec": {
   "display_name": "Scanpy(Python)",
   "language": "python",
   "name": "cello_env"
  },
  "language_info": {
   "codemirror_mode": {
    "name": "ipython",
    "version": 3
   },
   "file_extension": ".py",
   "mimetype": "text/x-python",
   "name": "python",
   "nbconvert_exporter": "python",
   "pygments_lexer": "ipython3",
   "version": "3.7.13"
  }
 },
 "nbformat": 4,
 "nbformat_minor": 5
}
