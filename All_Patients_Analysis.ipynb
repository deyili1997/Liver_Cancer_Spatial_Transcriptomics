{
 "cells": [
  {
   "cell_type": "code",
   "execution_count": null,
   "id": "6aa7006d",
   "metadata": {},
   "outputs": [],
   "source": [
    "import scanpy as sc\n",
    "import numpy as np\n",
    "import pandas as pd\n",
    "import anndata as ad\n",
    "import seaborn as sns\n",
    "import matplotlib.pyplot as plt\n",
    "from scipy.io import mmread\n",
    "from sklearn.preprocessing import normalize\n",
    "import anndata as ad\n",
    "import matplotlib as mpl\n",
    "from harmony import harmonize\n",
    "sc.set_figure_params(figsize=(6, 6), frameon=False)\n",
    "sc.settings.n_jobs=8"
   ]
  },
  {
   "cell_type": "code",
   "execution_count": null,
   "id": "7a0cd45b",
   "metadata": {},
   "outputs": [],
   "source": [
    "def delete_empty_or_full_GEM(count_matrix):\n",
    "    \n",
    "    GEM_to_delete = []\n",
    "    \n",
    "    for c in range(count_matrix.shape[1]):\n",
    "        this_GEM = count_matrix[:, c]\n",
    "        \n",
    "        #if non-zero mean less than 20 or \n",
    "        #GEM expressed in less than 5% of spots, remove it\n",
    "        if ((np.sum(this_GEM)/(np.sum(this_GEM != 0)+1) < 10) or \n",
    "        (np.count_nonzero(this_GEM) < int(0.05 * len(this_GEM)))):\n",
    "            GEM_to_delete.append(c)\n",
    "        \n",
    "        #if globally-expressed GEM, that is more than 95% spots express and average level more than 50, remove\n",
    "        if ((np.sum(this_GEM)/(np.sum(this_GEM != 0)+1) > 50) and \n",
    "        (np.count_nonzero(this_GEM) > int(0.95 * len(this_GEM)))):\n",
    "            GEM_to_delete.append(c)\n",
    "    \n",
    "    count_matrix_pruned = np.delete(count_matrix, GEM_to_delete, axis = 1)\n",
    "    return count_matrix_pruned, GEM_to_delete\n",
    "        "
   ]
  },
  {
   "cell_type": "markdown",
   "id": "634081eb",
   "metadata": {},
   "source": [
    "# Read in Patient 1 GEMs"
   ]
  },
  {
   "cell_type": "code",
   "execution_count": null,
   "id": "38e6c627",
   "metadata": {},
   "outputs": [],
   "source": [
    "TandNK_ST_inference_1T = pd.read_csv('./nHDP/binary_nHDP_count_TNK_1T_final.csv', header = None).transpose().values\n",
    "Stroma_ST_inference_1T = pd.read_csv('./nHDP/binary_nHDP_count_Stromal_1T_final.csv', header = None).transpose().values\n",
    "B_cell_ST_inference_1T = pd.read_csv('./nHDP/binary_nHDP_count_PlasmaB_1T_final.csv', header = None).transpose().values\n",
    "Epithelial_ST_inference_1T = pd.read_csv('./nHDP/binary_nHDP_count_Epithelial_1T_final.csv', header = None).transpose().values\n",
    "Myeloid_ST_inference_1T = pd.read_csv('./nHDP/binary_nHDP_count_Myeloid_1T_final.csv', header = None).transpose().values\n",
    "TandNK_ST_inference_1L = pd.read_csv('./nHDP/binary_nHDP_count_TNK_1L_final.csv', header = None).transpose().values\n",
    "Stroma_ST_inference_1L = pd.read_csv('./nHDP/binary_nHDP_count_Stromal_1L_final.csv', header = None).transpose().values\n",
    "B_cell_ST_inference_1L = pd.read_csv('./nHDP/binary_nHDP_count_PlasmaB_1L_final.csv', header = None).transpose().values\n",
    "Epithelial_ST_inference_1L = pd.read_csv('./nHDP/binary_nHDP_count_Epithelial_1L_final.csv', header = None).transpose().values\n",
    "Myeloid_ST_inference_1L = pd.read_csv('./nHDP/binary_nHDP_count_Myeloid_1L_final.csv', header = None).transpose().values\n",
    "TandNK_ST_inference_1N = pd.read_csv('./nHDP/binary_nHDP_count_TNK_1N_final.csv', header = None).transpose().values\n",
    "Stroma_ST_inference_1N = pd.read_csv('./nHDP/binary_nHDP_count_Stromal_1N_final.csv', header = None).transpose().values\n",
    "B_cell_ST_inference_1N = pd.read_csv('./nHDP/binary_nHDP_count_PlasmaB_1N_final.csv', header = None).transpose().values\n",
    "Epithelial_ST_inference_1N = pd.read_csv('./nHDP/binary_nHDP_count_Epithelial_1N_final.csv', header = None).transpose().values\n",
    "Myeloid_ST_inference_1N = pd.read_csv('./nHDP/binary_nHDP_count_Myeloid_1N_final.csv', header = None).transpose().values"
   ]
  },
  {
   "cell_type": "code",
   "execution_count": null,
   "id": "637637b5",
   "metadata": {},
   "outputs": [],
   "source": [
    "GEM_combined_1T = np.concatenate([TandNK_ST_inference_1T, Stroma_ST_inference_1T, B_cell_ST_inference_1T, \n",
    "                               Epithelial_ST_inference_1T, Myeloid_ST_inference_1T], axis = 1)\n",
    "GEM_combined_1L = np.concatenate([TandNK_ST_inference_1L, Stroma_ST_inference_1L, B_cell_ST_inference_1L, \n",
    "                               Epithelial_ST_inference_1L, Myeloid_ST_inference_1L], axis = 1)\n",
    "GEM_combined_1N = np.concatenate([TandNK_ST_inference_1N, Stroma_ST_inference_1N, B_cell_ST_inference_1N, \n",
    "                               Epithelial_ST_inference_1N, Myeloid_ST_inference_1N], axis = 1)"
   ]
  },
  {
   "cell_type": "markdown",
   "id": "0ea5f1f5",
   "metadata": {},
   "source": [
    "# Read in Patient 2 GEMs"
   ]
  },
  {
   "cell_type": "code",
   "execution_count": null,
   "id": "f1b63139",
   "metadata": {},
   "outputs": [],
   "source": [
    "TandNK_ST_inference_2T = pd.read_csv('./nHDP/binary_nHDP_count_TNK_2T_final.csv', header = None).transpose().values\n",
    "Stroma_ST_inference_2T = pd.read_csv('./nHDP/binary_nHDP_count_Stromal_2T_final.csv', header = None).transpose().values\n",
    "B_cell_ST_inference_2T = pd.read_csv('./nHDP/binary_nHDP_count_PlasmaB_2T_final.csv', header = None).transpose().values\n",
    "Epithelial_ST_inference_2T = pd.read_csv('./nHDP/binary_nHDP_count_Epithelial_2T_final.csv', header = None).transpose().values\n",
    "Myeloid_ST_inference_2T = pd.read_csv('./nHDP/binary_nHDP_count_Myeloid_2T_final.csv', header = None).transpose().values\n",
    "TandNK_ST_inference_2L = pd.read_csv('./nHDP/binary_nHDP_count_TNK_2L_final.csv', header = None).transpose().values\n",
    "Stroma_ST_inference_2L = pd.read_csv('./nHDP/binary_nHDP_count_Stromal_2L_final.csv', header = None).transpose().values\n",
    "B_cell_ST_inference_2L = pd.read_csv('./nHDP/binary_nHDP_count_PlasmaB_2L_final.csv', header = None).transpose().values\n",
    "Epithelial_ST_inference_2L = pd.read_csv('./nHDP/binary_nHDP_count_Epithelial_2L_final.csv', header = None).transpose().values\n",
    "Myeloid_ST_inference_2L = pd.read_csv('./nHDP/binary_nHDP_count_Myeloid_2L_final.csv', header = None).transpose().values\n",
    "TandNK_ST_inference_2N = pd.read_csv('./nHDP/binary_nHDP_count_TNK_2N_final.csv', header = None).transpose().values\n",
    "Stroma_ST_inference_2N = pd.read_csv('./nHDP/binary_nHDP_count_Stromal_2N_final.csv', header = None).transpose().values\n",
    "B_cell_ST_inference_2N = pd.read_csv('./nHDP/binary_nHDP_count_PlasmaB_2N_final.csv', header = None).transpose().values\n",
    "Epithelial_ST_inference_2N = pd.read_csv('./nHDP/binary_nHDP_count_Epithelial_2N_final.csv', header = None).transpose().values\n",
    "Myeloid_ST_inference_2N = pd.read_csv('./nHDP/binary_nHDP_count_Myeloid_2N_final.csv', header = None).transpose().values"
   ]
  },
  {
   "cell_type": "code",
   "execution_count": null,
   "id": "6f849619",
   "metadata": {},
   "outputs": [],
   "source": [
    "GEM_combined_2T = np.concatenate([TandNK_ST_inference_2T, Stroma_ST_inference_2T, B_cell_ST_inference_2T, \n",
    "                               Epithelial_ST_inference_2T, Myeloid_ST_inference_2T], axis = 1)\n",
    "GEM_combined_2L = np.concatenate([TandNK_ST_inference_2L, Stroma_ST_inference_2L, B_cell_ST_inference_2L, \n",
    "                               Epithelial_ST_inference_2L, Myeloid_ST_inference_2L], axis = 1)\n",
    "GEM_combined_2N = np.concatenate([TandNK_ST_inference_2N, Stroma_ST_inference_2N, B_cell_ST_inference_2N, \n",
    "                               Epithelial_ST_inference_2N, Myeloid_ST_inference_2N], axis = 1)"
   ]
  },
  {
   "cell_type": "markdown",
   "id": "212208e8",
   "metadata": {},
   "source": [
    "# Read in Patient 3 GEMs"
   ]
  },
  {
   "cell_type": "code",
   "execution_count": null,
   "id": "1694c525",
   "metadata": {},
   "outputs": [],
   "source": [
    "TandNK_ST_inference_3T = pd.read_csv('./nHDP/binary_nHDP_count_TNK_3T_final.csv', header = None).transpose().values\n",
    "Stroma_ST_inference_3T = pd.read_csv('./nHDP/binary_nHDP_count_Stromal_3T_final.csv', header = None).transpose().values\n",
    "B_cell_ST_inference_3T = pd.read_csv('./nHDP/binary_nHDP_count_PlasmaB_3T_final.csv', header = None).transpose().values\n",
    "Epithelial_ST_inference_3T = pd.read_csv('./nHDP/binary_nHDP_count_Epithelial_3T_final.csv', header = None).transpose().values\n",
    "Myeloid_ST_inference_3T = pd.read_csv('./nHDP/binary_nHDP_count_Myeloid_3T_final.csv', header = None).transpose().values\n",
    "TandNK_ST_inference_3L = pd.read_csv('./nHDP/binary_nHDP_count_TNK_3L_final.csv', header = None).transpose().values\n",
    "Stroma_ST_inference_3L = pd.read_csv('./nHDP/binary_nHDP_count_Stromal_3L_final.csv', header = None).transpose().values\n",
    "B_cell_ST_inference_3L = pd.read_csv('./nHDP/binary_nHDP_count_PlasmaB_3L_final.csv', header = None).transpose().values\n",
    "Epithelial_ST_inference_3L = pd.read_csv('./nHDP/binary_nHDP_count_Epithelial_3L_final.csv', header = None).transpose().values\n",
    "Myeloid_ST_inference_3L = pd.read_csv('./nHDP/binary_nHDP_count_Myeloid_3L_final.csv', header = None).transpose().values\n",
    "TandNK_ST_inference_3N = pd.read_csv('./nHDP/binary_nHDP_count_TNK_3N_final.csv', header = None).transpose().values\n",
    "Stroma_ST_inference_3N = pd.read_csv('./nHDP/binary_nHDP_count_Stromal_3N_final.csv', header = None).transpose().values\n",
    "B_cell_ST_inference_3N = pd.read_csv('./nHDP/binary_nHDP_count_PlasmaB_3N_final.csv', header = None).transpose().values\n",
    "Epithelial_ST_inference_3N = pd.read_csv('./nHDP/binary_nHDP_count_Epithelial_3N_final.csv', header = None).transpose().values\n",
    "Myeloid_ST_inference_3N = pd.read_csv('./nHDP/binary_nHDP_count_Myeloid_3N_final.csv', header = None).transpose().values"
   ]
  },
  {
   "cell_type": "code",
   "execution_count": null,
   "id": "b6a8d00c",
   "metadata": {},
   "outputs": [],
   "source": [
    "GEM_combined_3T = np.concatenate([TandNK_ST_inference_3T, Stroma_ST_inference_3T, B_cell_ST_inference_3T, \n",
    "                               Epithelial_ST_inference_3T, Myeloid_ST_inference_3T], axis = 1)\n",
    "GEM_combined_3L = np.concatenate([TandNK_ST_inference_3L, Stroma_ST_inference_3L, B_cell_ST_inference_3L, \n",
    "                               Epithelial_ST_inference_3L, Myeloid_ST_inference_3L], axis = 1)\n",
    "GEM_combined_3N = np.concatenate([TandNK_ST_inference_3N, Stroma_ST_inference_3N, B_cell_ST_inference_3N, \n",
    "                               Epithelial_ST_inference_3N, Myeloid_ST_inference_3N], axis = 1)"
   ]
  },
  {
   "cell_type": "markdown",
   "id": "a7fb5f60",
   "metadata": {},
   "source": [
    "# Read in Patient 4 GEMs"
   ]
  },
  {
   "cell_type": "code",
   "execution_count": null,
   "id": "a3327321",
   "metadata": {},
   "outputs": [],
   "source": [
    "TandNK_ST_inference_4T = pd.read_csv('./nHDP/binary_nHDP_count_TNK_4T_final.csv', header = None).transpose().values\n",
    "Stroma_ST_inference_4T = pd.read_csv('./nHDP/binary_nHDP_count_Stromal_4T_final.csv', header = None).transpose().values\n",
    "B_cell_ST_inference_4T = pd.read_csv('./nHDP/binary_nHDP_count_PlasmaB_4T_final.csv', header = None).transpose().values\n",
    "Epithelial_ST_inference_4T = pd.read_csv('./nHDP/binary_nHDP_count_Epithelial_4T_final.csv', header = None).transpose().values\n",
    "Myeloid_ST_inference_4T = pd.read_csv('./nHDP/binary_nHDP_count_Myeloid_4T_final.csv', header = None).transpose().values\n",
    "TandNK_ST_inference_4L = pd.read_csv('./nHDP/binary_nHDP_count_TNK_4L_final.csv', header = None).transpose().values\n",
    "Stroma_ST_inference_4L = pd.read_csv('./nHDP/binary_nHDP_count_Stromal_4L_final.csv', header = None).transpose().values\n",
    "B_cell_ST_inference_4L = pd.read_csv('./nHDP/binary_nHDP_count_PlasmaB_4L_final.csv', header = None).transpose().values\n",
    "Epithelial_ST_inference_4L = pd.read_csv('./nHDP/binary_nHDP_count_Epithelial_4L_final.csv', header = None).transpose().values\n",
    "Myeloid_ST_inference_4L = pd.read_csv('./nHDP/binary_nHDP_count_Myeloid_4L_final.csv', header = None).transpose().values\n",
    "TandNK_ST_inference_4N = pd.read_csv('./nHDP/binary_nHDP_count_TNK_4N_final.csv', header = None).transpose().values\n",
    "Stroma_ST_inference_4N = pd.read_csv('./nHDP/binary_nHDP_count_Stromal_4N_final.csv', header = None).transpose().values\n",
    "B_cell_ST_inference_4N = pd.read_csv('./nHDP/binary_nHDP_count_PlasmaB_4N_final.csv', header = None).transpose().values\n",
    "Epithelial_ST_inference_4N = pd.read_csv('./nHDP/binary_nHDP_count_Epithelial_4N_final.csv', header = None).transpose().values\n",
    "Myeloid_ST_inference_4N = pd.read_csv('./nHDP/binary_nHDP_count_Myeloid_4N_final.csv', header = None).transpose().values"
   ]
  },
  {
   "cell_type": "code",
   "execution_count": null,
   "id": "730644c1",
   "metadata": {},
   "outputs": [],
   "source": [
    "GEM_combined_4T = np.concatenate([TandNK_ST_inference_4T, Stroma_ST_inference_4T, B_cell_ST_inference_4T, \n",
    "                               Epithelial_ST_inference_4T, Myeloid_ST_inference_4T], axis = 1)\n",
    "GEM_combined_4L = np.concatenate([TandNK_ST_inference_4L, Stroma_ST_inference_4L, B_cell_ST_inference_4L, \n",
    "                               Epithelial_ST_inference_4L, Myeloid_ST_inference_4L], axis = 1)\n",
    "GEM_combined_4N = np.concatenate([TandNK_ST_inference_4N, Stroma_ST_inference_4N, B_cell_ST_inference_4N, \n",
    "                               Epithelial_ST_inference_4N, Myeloid_ST_inference_4N], axis = 1)"
   ]
  },
  {
   "cell_type": "code",
   "execution_count": null,
   "id": "1b5290a1",
   "metadata": {},
   "outputs": [],
   "source": [
    "spot_n_1T = GEM_combined_1T.shape[0]\n",
    "spot_n_1L = GEM_combined_1L.shape[0]\n",
    "spot_n_1N = GEM_combined_1N.shape[0]\n",
    "spot_n_2T = GEM_combined_2T.shape[0]\n",
    "spot_n_2L = GEM_combined_2L.shape[0]\n",
    "spot_n_2N = GEM_combined_2N.shape[0]\n",
    "spot_n_3T = GEM_combined_3T.shape[0]\n",
    "spot_n_3L = GEM_combined_3L.shape[0]\n",
    "spot_n_3N = GEM_combined_3N.shape[0]\n",
    "spot_n_4T = GEM_combined_4T.shape[0]\n",
    "spot_n_4L = GEM_combined_4L.shape[0]\n",
    "spot_n_4N = GEM_combined_4N.shape[0]"
   ]
  },
  {
   "cell_type": "code",
   "execution_count": null,
   "id": "88726574",
   "metadata": {},
   "outputs": [],
   "source": [
    "TandNK_GEM_names = ['TandNK GEM ' + str(c + 1) for c in range(85)]\n",
    "Stroma_GEM_names = ['Stroma GEM ' + str(c + 1) for c in range(85)]\n",
    "B_cell_GEM_names = ['B cell GEM ' + str(c + 1) for c in range(85)]\n",
    "Epithelial_GEM_names = ['Epithelial GEM ' + str(c + 1) for c in range(85)]\n",
    "Myeloid_GEM_names = ['Myeloid GEM ' + str(c + 1) for c in range(85)]\n",
    "GEM_names = TandNK_GEM_names + Stroma_GEM_names + B_cell_GEM_names \\\n",
    "            + Epithelial_GEM_names + Myeloid_GEM_names"
   ]
  },
  {
   "cell_type": "code",
   "execution_count": null,
   "id": "e241e072",
   "metadata": {},
   "outputs": [],
   "source": [
    "len(GEM_names)"
   ]
  },
  {
   "cell_type": "markdown",
   "id": "2c5a4895",
   "metadata": {},
   "source": [
    "# Plot ClusterMap"
   ]
  },
  {
   "cell_type": "markdown",
   "id": "740818ec",
   "metadata": {},
   "source": [
    "Leading edge slides are divided into tumor side and normal side, and we plot the clustering results of different tissue types here based on their GEM expresion"
   ]
  },
  {
   "cell_type": "code",
   "execution_count": null,
   "id": "c4ca8643",
   "metadata": {},
   "outputs": [],
   "source": [
    "P1_L_cluster = pd.read_csv('./ClusterMap/P1L.csv').values.flatten()\n",
    "P2_L_cluster = pd.read_csv('./ClusterMap/P2L.csv').values.flatten()\n",
    "P3_L_cluster = pd.read_csv('./ClusterMap/P3L.csv').values.flatten()\n",
    "P4_L_cluster = pd.read_csv('./ClusterMap/P4L.csv').values.flatten()"
   ]
  },
  {
   "cell_type": "code",
   "execution_count": null,
   "id": "55b57b4a",
   "metadata": {},
   "outputs": [],
   "source": [
    "#refer to previous notebook to know cluster number\n",
    "P1_L_T_side_idx = np.where(P1_L_cluster == 1)[0]\n",
    "P1_L_N_side_idx = np.where((P1_L_cluster == 0) | (P1_L_cluster == 3))[0]\n",
    "P2_L_T_side_idx = np.where(P2_L_cluster == 4)[0]\n",
    "P2_L_N_side_idx = np.where((P2_L_cluster == 1) | (P2_L_cluster == 2))[0]\n",
    "P3_L_T_side_idx = np.where(P3_L_cluster == 0)[0]\n",
    "P3_L_N_side_idx = np.where(P3_L_cluster == 1)[0]\n",
    "P4_L_T_side_idx = np.where(P4_L_cluster == 0)[0]\n",
    "P4_L_N_side_idx = np.where((P4_L_cluster == 1) | (P4_L_cluster == 2))[0]"
   ]
  },
  {
   "cell_type": "code",
   "execution_count": null,
   "id": "eeebe291",
   "metadata": {},
   "outputs": [],
   "source": [
    "sample_n = 5\n",
    "P1_T = GEM_combined_1T[:sample_n]\n",
    "P1_N = GEM_combined_1N[:sample_n]\n",
    "P1_L_T_side = GEM_combined_1L[P1_L_T_side_idx, :][:sample_n]\n",
    "P1_L_N_side = GEM_combined_1L[P1_L_N_side_idx, :][:sample_n]\n",
    "\n",
    "P2_T = GEM_combined_2T[:sample_n]\n",
    "P2_N = GEM_combined_2N[:sample_n]\n",
    "P2_L_T_side = GEM_combined_2L[P2_L_T_side_idx, :][:sample_n]\n",
    "P2_L_N_side = GEM_combined_2L[P2_L_N_side_idx, :][:sample_n]\n",
    "\n",
    "P3_T = GEM_combined_3T[:sample_n]\n",
    "P3_N = GEM_combined_3N[:sample_n]\n",
    "P3_L_T_side = GEM_combined_3L[P3_L_T_side_idx, :][:sample_n]\n",
    "P3_L_N_side = GEM_combined_3L[P3_L_N_side_idx, :][:sample_n]\n",
    "\n",
    "P4_T = GEM_combined_4T[:sample_n]\n",
    "P4_N = GEM_combined_4N[:sample_n]\n",
    "P4_L_T_side = GEM_combined_4L[P4_L_T_side_idx, :][:sample_n]\n",
    "P4_L_N_side = GEM_combined_4L[P4_L_N_side_idx, :][:sample_n]"
   ]
  },
  {
   "cell_type": "code",
   "execution_count": null,
   "id": "e77a3c44",
   "metadata": {},
   "outputs": [],
   "source": [
    "combined_GEM_idx = ['Patient 1 Primary Tumor', 'Patient 1 Adjacent Area',\n",
    "                    'Patient 1 Leading Edge Tumor Side', 'Patient 1 Leading Edge Normal Side',\n",
    "                    'Patient 2 Primary Tumor', 'Patient 2 Adjacent Area',\n",
    "                    'Patient 2 Leading Edge Tumor Side', 'Patient 2 Leading Edge Normal Side',\n",
    "                    'Patient 3 Primary Tumor', 'Patient 3 Adjacent Area',\n",
    "                    'Patient 3 Leading Edge Tumor Side', 'Patient 3 Leading Edge Normal Side',\n",
    "                    'Patient 4 Primary Tumor', 'Patient 4 Adjacent Area',\n",
    "                    'Patient 4 Leading Edge Tumor Side', 'Patient 4 Leading Edge Normal Side']\n",
    "combined_GEM_idx_repeat = [i for i in combined_GEM_idx for t in range(sample_n)]"
   ]
  },
  {
   "cell_type": "code",
   "execution_count": null,
   "id": "41f6c7f0",
   "metadata": {},
   "outputs": [],
   "source": [
    "combine_GEM_for_map = np.concatenate([P1_T, P1_N, P1_L_T_side, P1_L_N_side,\n",
    "                                     P2_T, P2_N, P2_L_T_side, P2_L_N_side,\n",
    "                                     P3_T, P3_N, P3_L_T_side, P3_L_N_side,\n",
    "                                     P4_T, P4_N, P4_L_T_side, P4_L_N_side], axis = 0)\n",
    "\n",
    "combine_GEM_for_map_df = pd.DataFrame(combine_GEM_for_map, index = combined_GEM_idx_repeat,\n",
    "                                     columns = GEM_names)"
   ]
  },
  {
   "cell_type": "code",
   "execution_count": null,
   "id": "5f7d11a6",
   "metadata": {},
   "outputs": [],
   "source": [
    "combine_GEM_for_map_df = combine_GEM_for_map_df.loc[:, (combine_GEM_for_map_df > 200).any(axis=0)]"
   ]
  },
  {
   "cell_type": "code",
   "execution_count": null,
   "id": "a4a86fc7",
   "metadata": {},
   "outputs": [],
   "source": [
    "import seaborn as sns"
   ]
  },
  {
   "cell_type": "code",
   "execution_count": null,
   "id": "781f062f",
   "metadata": {
    "scrolled": true
   },
   "outputs": [],
   "source": [
    "sns.set(font_scale=0.4)\n",
    "g = sns.clustermap(combine_GEM_for_map_df, col_cluster = False)\n",
    "g.fig.suptitle('Clustermap of GEMs') \n",
    "plt.show()"
   ]
  },
  {
   "cell_type": "markdown",
   "id": "49272c4e",
   "metadata": {},
   "source": [
    "# Delete Empty or Global GEMs"
   ]
  },
  {
   "cell_type": "code",
   "execution_count": null,
   "id": "d7a44209",
   "metadata": {},
   "outputs": [],
   "source": [
    "complete_GEMs_mtx = np.concatenate([GEM_combined_1T, GEM_combined_1L, GEM_combined_1N,\n",
    "                                    GEM_combined_2T, GEM_combined_2L, GEM_combined_2N,\n",
    "                                    GEM_combined_3T, GEM_combined_3L, GEM_combined_3N,\n",
    "                                    GEM_combined_4T, GEM_combined_4L, GEM_combined_4N], axis = 0)"
   ]
  },
  {
   "cell_type": "code",
   "execution_count": null,
   "id": "816af554",
   "metadata": {},
   "outputs": [],
   "source": [
    "complete_GEMs_mtx.shape"
   ]
  },
  {
   "cell_type": "code",
   "execution_count": null,
   "id": "d84dc11f",
   "metadata": {},
   "outputs": [],
   "source": [
    "complete_GEMs_mtx_pruned, deleted_GEMs = delete_empty_or_full_GEM(complete_GEMs_mtx)"
   ]
  },
  {
   "cell_type": "code",
   "execution_count": null,
   "id": "eea640f4",
   "metadata": {},
   "outputs": [],
   "source": [
    "complete_GEMs_mtx_pruned.shape"
   ]
  },
  {
   "cell_type": "code",
   "execution_count": null,
   "id": "3352a539",
   "metadata": {},
   "outputs": [],
   "source": [
    "tissue_names = ['Patient 1 Primary Tumor' for i in range(spot_n_1T)] \\\n",
    "             + ['Patient 1 Leading Edge' for i in range(spot_n_1L)] \\\n",
    "             + ['Patient 1 Ajacent Area' for i in range(spot_n_1N)] \\\n",
    "             + ['Patient 2 Primary Tumor' for i in range(spot_n_2T)] \\\n",
    "             + ['Patient 2 Leading Edge' for i in range(spot_n_2L)] \\\n",
    "             + ['Patient 2 Ajacent Area' for i in range(spot_n_2N)] \\\n",
    "             + ['Patient 3 Primary Tumor' for i in range(spot_n_3T)] \\\n",
    "             + ['Patient 3 Leading Edge' for i in range(spot_n_3L)] \\\n",
    "             + ['Patient 3 Ajacent Area' for i in range(spot_n_3N)] \\\n",
    "             + ['Patient 4 Primary Tumor' for i in range(spot_n_4T)] \\\n",
    "             + ['Patient 4 Leading Edge' for i in range(spot_n_4L)] \\\n",
    "             + ['Patient 4 Ajacent Area' for i in range(spot_n_4N)]\n",
    "GEM_names_pruned = []\n",
    "for i in range(425):\n",
    "    if i not in deleted_GEMs:\n",
    "        GEM_names_pruned.append(GEM_names[i])\n",
    "\n",
    "print(len(tissue_names))\n",
    "print(len(GEM_names_pruned))"
   ]
  },
  {
   "cell_type": "code",
   "execution_count": null,
   "id": "739a86b3",
   "metadata": {},
   "outputs": [],
   "source": [
    "complete_GEMs_df = pd.DataFrame(complete_GEMs_mtx_pruned, columns = GEM_names_pruned)"
   ]
  },
  {
   "cell_type": "code",
   "execution_count": null,
   "id": "70e2952b",
   "metadata": {},
   "outputs": [],
   "source": [
    "complete_GEMs_df['tissue'] = tissue_names"
   ]
  },
  {
   "cell_type": "markdown",
   "id": "9235b214",
   "metadata": {},
   "source": [
    "# Plot GEMs of All Patients"
   ]
  },
  {
   "cell_type": "code",
   "execution_count": null,
   "id": "39d9406f",
   "metadata": {},
   "outputs": [],
   "source": [
    "HCC_1T = './raw_data/Primary_Tumor/HCC-1T'\n",
    "HCC_1L = './raw_data/Leading_Edge/HCC-1L'\n",
    "HCC_1N = './raw_data/Adjacent/HCC-1N'\n",
    "\n",
    "HCC_2T = './raw_data/Primary_Tumor/HCC-2T'\n",
    "HCC_2L = './raw_data/Leading_Edge/HCC-2L'\n",
    "HCC_2N = './raw_data/Adjacent/HCC-2N'\n",
    "\n",
    "HCC_3T = './raw_data/Primary_Tumor/HCC-3T'\n",
    "HCC_3L = './raw_data/Leading_Edge/HCC-3L'\n",
    "HCC_3N = './raw_data/Adjacent/HCC-3N'\n",
    "\n",
    "HCC_4T = './raw_data/Primary_Tumor/HCC-4T'\n",
    "HCC_4L = './raw_data/Leading_Edge/HCC-4L'\n",
    "HCC_4N = './raw_data/Adjacent/HCC-4N'\n",
    "\n",
    "visium_paths = [HCC_1T, HCC_1L, HCC_1N, HCC_2T, HCC_2L, HCC_2N,\n",
    "                HCC_3T, HCC_3L, HCC_3N, HCC_4T, HCC_4L, HCC_4N]\n",
    "tissue_names_unique = ['Patient 1 Primary Tumor', \n",
    "                       'Patient 1 Leading Edge', \n",
    "                       'Patient 1 Ajacent Area',\n",
    "                       'Patient 2 Primary Tumor', \n",
    "                       'Patient 2 Leading Edge', \n",
    "                       'Patient 2 Ajacent Area', \n",
    "                       'Patient 3 Primary Tumor', \n",
    "                       'Patient 3 Leading Edge', \n",
    "                       'Patient 3 Ajacent Area',\n",
    "                       'Patient 4 Primary Tumor', \n",
    "                       'Patient 4 Leading Edge', \n",
    "                       'Patient 4 Ajacent Area']"
   ]
  },
  {
   "cell_type": "code",
   "execution_count": null,
   "id": "a7db317e",
   "metadata": {},
   "outputs": [],
   "source": [
    "adata_l = []\n",
    "for i in range(12):\n",
    "    adata = sc.read_visium(visium_paths[i])\n",
    "    adata_l.append(adata)"
   ]
  },
  {
   "cell_type": "code",
   "execution_count": null,
   "id": "44a4fc65",
   "metadata": {},
   "outputs": [],
   "source": [
    "for adata in adata_l:\n",
    "    sc.pl.spatial(adata, img_key=\"hires\", color='CLDN5', vmin=0, cmap = 'Purples', \n",
    "                      alpha_img = 0.3, colorbar_loc = 'bottom', vmax = 10)"
   ]
  },
  {
   "cell_type": "code",
   "execution_count": null,
   "id": "e4dcf22e",
   "metadata": {},
   "outputs": [],
   "source": [
    "for t in range(12):\n",
    "    for g in range(len(GEM_names_pruned)):\n",
    "        adata_l[t].obs[GEM_names_pruned[g]] = \\\n",
    "        complete_GEMs_df[complete_GEMs_df['tissue'] == tissue_names_unique[t]].loc[:, GEM_names_pruned[g]].values"
   ]
  },
  {
   "cell_type": "code",
   "execution_count": null,
   "id": "f30f2075",
   "metadata": {},
   "outputs": [],
   "source": [
    "dark_image_idx = [3, 4, 9, 10, 11]\n",
    "sc.set_figure_params(fontsize = 50, dpi=60, dpi_save=60)\n",
    "for g in range(len(GEM_names_pruned)):\n",
    "    fig, ax = plt.subplots(4,3, figsize=(30, 50))\n",
    "    for p in range(4):\n",
    "        for t in range(3):\n",
    "            \n",
    "            idx = 3*p + t\n",
    "            \n",
    "            if idx in dark_image_idx:\n",
    "                alpha_img = 0.6\n",
    "                alpha = 0.7\n",
    "            else:\n",
    "                alpha_img = 0.3\n",
    "                alpha = 0.9\n",
    "                \n",
    "            adata = adata_l[idx]\n",
    "            sc.pl.spatial(adata, img_key=\"hires\", color=GEM_names_pruned[g], \n",
    "                          vmin=0, cmap = 'Greens', alpha = alpha, alpha_img = alpha_img, \n",
    "                          colorbar_loc = None, vmax = 500, ax = ax[p, t], \n",
    "                          title = tissue_names_unique[idx], show = False)\n",
    "            \n",
    "    fig.suptitle(GEM_names_pruned[g], fontsize = 80)\n",
    "    plt.savefig('./GEM_vis/' + GEM_names_pruned[g] + '.pdf')\n",
    "    plt.close(fig)"
   ]
  },
  {
   "cell_type": "code",
   "execution_count": null,
   "id": "84bb1b0a",
   "metadata": {},
   "outputs": [],
   "source": [
    "#output original HE staining image\n",
    "sc.set_figure_params(fontsize = 50)\n",
    "fig, ax = plt.subplots(4,3, figsize=(30, 50))\n",
    "for p in range(4):\n",
    "    for t in range(3):\n",
    "        idx = 3*p + t\n",
    "        adata = adata_l[idx]\n",
    "        sc.pl.spatial(adata, img_key=\"hires\",ax = ax[p, t], \n",
    "                    title = tissue_names_unique[idx], show = False)\n",
    "\n",
    "fig.suptitle(\"Original H&E Staining Images\", fontsize = 80)\n",
    "plt.savefig('./GEM_vis/Original H&E Staining Images.pdf')\n",
    "plt.close(fig)"
   ]
  },
  {
   "cell_type": "markdown",
   "id": "3ffa79c2",
   "metadata": {},
   "source": [
    "# GEM Co-occurance Analysis with All Patients' Slides Merged"
   ]
  },
  {
   "cell_type": "code",
   "execution_count": null,
   "id": "33800056",
   "metadata": {},
   "outputs": [],
   "source": [
    "from sklearn.metrics.pairwise import cosine_similarity\n",
    "from scipy import sparse"
   ]
  },
  {
   "cell_type": "code",
   "execution_count": null,
   "id": "86e2cf3a",
   "metadata": {},
   "outputs": [],
   "source": [
    "complete_GEMs_mtx_sparse = sparse.csr_matrix(complete_GEMs_mtx_pruned)\n",
    "complete_GEMs_mtx_sparse = complete_GEMs_mtx_sparse.transpose()\n",
    "complete_GEMs_mtx_sparse.shape"
   ]
  },
  {
   "cell_type": "code",
   "execution_count": null,
   "id": "eb01093a",
   "metadata": {},
   "outputs": [],
   "source": [
    "similarities = cosine_similarity(complete_GEMs_mtx_sparse)"
   ]
  },
  {
   "cell_type": "code",
   "execution_count": null,
   "id": "e7176c9e",
   "metadata": {},
   "outputs": [],
   "source": [
    "similarities.shape"
   ]
  },
  {
   "cell_type": "code",
   "execution_count": null,
   "id": "b2d2c11f",
   "metadata": {},
   "outputs": [],
   "source": [
    "mask = np.triu(np.ones_like(similarities))\n",
    "cmap = sns.diverging_palette(220, 10, as_cmap=True)"
   ]
  },
  {
   "cell_type": "code",
   "execution_count": null,
   "id": "b81abf36",
   "metadata": {
    "scrolled": false
   },
   "outputs": [],
   "source": [
    "plt.figure(figsize = (10, 8))\n",
    "ax = sns.heatmap(similarities, \n",
    "                 xticklabels=GEM_names_pruned, \n",
    "                 yticklabels=GEM_names_pruned,\n",
    "                 mask=mask, cmap=cmap)\n",
    "sns.set(font_scale = 0.1)\n",
    "plt.title(\"GEM Co-occurance Matrix - All Patients\", fontsize = 10)\n",
    "plt.show()"
   ]
  },
  {
   "cell_type": "markdown",
   "id": "c790cd1a",
   "metadata": {},
   "source": [
    "# Ligand-Receptor Analysis"
   ]
  },
  {
   "cell_type": "code",
   "execution_count": null,
   "id": "6b5dfc4b",
   "metadata": {},
   "outputs": [],
   "source": [
    "LR_product = pd.read_csv(\"./Ligand-Receptor/LR_product_record.csv\", index_col = None)\n",
    "LR_product_mtx = LR_product.values\n",
    "LR_names = list(LR_product.columns)"
   ]
  },
  {
   "cell_type": "code",
   "execution_count": null,
   "id": "7342fa61",
   "metadata": {},
   "outputs": [],
   "source": [
    "LR_product[LR_product > 0] = 1"
   ]
  },
  {
   "cell_type": "code",
   "execution_count": null,
   "id": "99ef727b",
   "metadata": {},
   "outputs": [],
   "source": [
    "complete_GEMs_mtx_pruned.shape"
   ]
  },
  {
   "cell_type": "code",
   "execution_count": null,
   "id": "606f5c4f",
   "metadata": {},
   "outputs": [],
   "source": [
    "LR_product.shape"
   ]
  },
  {
   "cell_type": "code",
   "execution_count": null,
   "id": "d1a93fa2",
   "metadata": {},
   "outputs": [],
   "source": [
    "binary_complete_GEMs_mtx = complete_GEMs_mtx_pruned.copy()\n",
    "binary_complete_GEMs_mtx[binary_complete_GEMs_mtx > 0] = 1"
   ]
  },
  {
   "cell_type": "code",
   "execution_count": null,
   "id": "07806ec4",
   "metadata": {},
   "outputs": [],
   "source": [
    "#for each LR, find the GEM that most likely activated by it\n",
    "#by checking how many spots express both LR and GEM\n",
    "LR_GEM_matching = []\n",
    "for i in range(LR_product_mtx.shape[1]):\n",
    "    print(\"Progress: \", i + 1)\n",
    "    best_score = 0\n",
    "    best_GEM = None\n",
    "    for j in range(binary_complete_GEMs_mtx.shape[1]):\n",
    "        this_LR = LR_product_mtx[:, i]\n",
    "        this_GEM = binary_complete_GEMs_mtx[:, j]\n",
    "        score = np.sum(this_LR * this_GEM)\n",
    "        if score > best_score:\n",
    "            best_score = score\n",
    "            best_GEM = GEM_names_pruned[j]\n",
    "    LR_GEM_matching.append((LR_names[i], best_GEM))"
   ]
  },
  {
   "cell_type": "code",
   "execution_count": null,
   "id": "f813f053",
   "metadata": {},
   "outputs": [],
   "source": [
    "LR_GEM_matching"
   ]
  }
 ],
 "metadata": {
  "kernelspec": {
   "display_name": "Scanpy(Python)",
   "language": "python",
   "name": "cello_env"
  },
  "language_info": {
   "codemirror_mode": {
    "name": "ipython",
    "version": 3
   },
   "file_extension": ".py",
   "mimetype": "text/x-python",
   "name": "python",
   "nbconvert_exporter": "python",
   "pygments_lexer": "ipython3",
   "version": "3.7.13"
  }
 },
 "nbformat": 4,
 "nbformat_minor": 5
}
