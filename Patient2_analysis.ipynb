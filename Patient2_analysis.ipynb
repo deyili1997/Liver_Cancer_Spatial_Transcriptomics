{
 "cells": [
  {
   "cell_type": "code",
   "execution_count": null,
   "id": "045a073a",
   "metadata": {
    "scrolled": false
   },
   "outputs": [],
   "source": [
    "import scanpy as sc\n",
    "import numpy as np\n",
    "import pandas as pd\n",
    "import anndata as ad\n",
    "import matplotlib.pyplot as plt\n",
    "from scipy.io import mmread\n",
    "from sklearn.preprocessing import normalize\n",
    "import anndata as ad\n",
    "import matplotlib as mpl\n",
    "from harmony import harmonize\n",
    "sc.set_figure_params(figsize=(6, 6), frameon=False)\n",
    "sc.settings.n_jobs=8"
   ]
  },
  {
   "cell_type": "code",
   "execution_count": null,
   "id": "fd96a699",
   "metadata": {
    "scrolled": true
   },
   "outputs": [],
   "source": [
    "TandNK_ST_inference_T = pd.read_csv('./nHDP/binary_nHDP_count_TNK_2T_final.csv', header = None).transpose().values\n",
    "Stroma_ST_inference_T = pd.read_csv('./nHDP/binary_nHDP_count_Stromal_2T_final.csv', header = None).transpose().values\n",
    "B_cell_ST_inference_T = pd.read_csv('./nHDP/binary_nHDP_count_PlasmaB_2T_final.csv', header = None).transpose().values\n",
    "Epithelial_ST_inference_T = pd.read_csv('./nHDP/binary_nHDP_count_Epithelial_2T_final.csv', header = None).transpose().values\n",
    "Myeloid_ST_inference_T = pd.read_csv('./nHDP/binary_nHDP_count_Myeloid_2T_final.csv', header = None).transpose().values"
   ]
  },
  {
   "cell_type": "code",
   "execution_count": null,
   "id": "d83160ab",
   "metadata": {
    "scrolled": true
   },
   "outputs": [],
   "source": [
    "TandNK_ST_inference_L = pd.read_csv('./nHDP/binary_nHDP_count_TNK_2L_final.csv', header = None).transpose().values\n",
    "Stroma_ST_inference_L = pd.read_csv('./nHDP/binary_nHDP_count_Stromal_2L_final.csv', header = None).transpose().values\n",
    "B_cell_ST_inference_L = pd.read_csv('./nHDP/binary_nHDP_count_PlasmaB_2L_final.csv', header = None).transpose().values\n",
    "Epithelial_ST_inference_L = pd.read_csv('./nHDP/binary_nHDP_count_Epithelial_2L_final.csv', header = None).transpose().values\n",
    "Myeloid_ST_inference_L = pd.read_csv('./nHDP/binary_nHDP_count_Myeloid_2L_final.csv', header = None).transpose().values"
   ]
  },
  {
   "cell_type": "code",
   "execution_count": null,
   "id": "021b8278",
   "metadata": {
    "scrolled": true
   },
   "outputs": [],
   "source": [
    "TandNK_ST_inference_N = pd.read_csv('./nHDP/binary_nHDP_count_TNK_2N_final.csv', header = None).transpose().values\n",
    "Stroma_ST_inference_N = pd.read_csv('./nHDP/binary_nHDP_count_Stromal_2N_final.csv', header = None).transpose().values\n",
    "B_cell_ST_inference_N = pd.read_csv('./nHDP/binary_nHDP_count_PlasmaB_2N_final.csv', header = None).transpose().values\n",
    "Epithelial_ST_inference_N = pd.read_csv('./nHDP/binary_nHDP_count_Epithelial_2N_final.csv', header = None).transpose().values\n",
    "Myeloid_ST_inference_N = pd.read_csv('./nHDP/binary_nHDP_count_Myeloid_2N_final.csv', header = None).transpose().values"
   ]
  },
  {
   "cell_type": "code",
   "execution_count": null,
   "id": "2a9d4d87",
   "metadata": {
    "scrolled": true
   },
   "outputs": [],
   "source": [
    "GEM_combined_T = np.concatenate([TandNK_ST_inference_T, Stroma_ST_inference_T, B_cell_ST_inference_T, \n",
    "                               Epithelial_ST_inference_T, Myeloid_ST_inference_T], axis = 1)\n",
    "GEM_combined_L = np.concatenate([TandNK_ST_inference_L, Stroma_ST_inference_L, B_cell_ST_inference_L, \n",
    "                               Epithelial_ST_inference_L, Myeloid_ST_inference_L], axis = 1)\n",
    "GEM_combined_N = np.concatenate([TandNK_ST_inference_N, Stroma_ST_inference_N, B_cell_ST_inference_N, \n",
    "                               Epithelial_ST_inference_N, Myeloid_ST_inference_N], axis = 1)"
   ]
  },
  {
   "cell_type": "code",
   "execution_count": null,
   "id": "f62b6539",
   "metadata": {
    "scrolled": true
   },
   "outputs": [],
   "source": [
    "spot_n_T = GEM_combined_T.shape[0]\n",
    "spot_n_L = GEM_combined_L.shape[0]\n",
    "spot_n_N = GEM_combined_N.shape[0]"
   ]
  },
  {
   "cell_type": "code",
   "execution_count": null,
   "id": "41be8365",
   "metadata": {
    "scrolled": true
   },
   "outputs": [],
   "source": [
    "GEM_combined = np.concatenate([GEM_combined_T, GEM_combined_L, GEM_combined_N], axis = 0)\n",
    "GEM_combined.shape"
   ]
  },
  {
   "cell_type": "code",
   "execution_count": null,
   "id": "ddda8387",
   "metadata": {
    "scrolled": true
   },
   "outputs": [],
   "source": [
    "#do normalization vertically\n",
    "GEM_combined = normalize(GEM_combined, axis=0, norm='max')"
   ]
  },
  {
   "cell_type": "code",
   "execution_count": null,
   "id": "c510d694",
   "metadata": {
    "scrolled": true
   },
   "outputs": [],
   "source": [
    "adata_combined = ad.AnnData(X=GEM_combined, dtype=np.float64)"
   ]
  },
  {
   "cell_type": "code",
   "execution_count": null,
   "id": "3117f028",
   "metadata": {
    "scrolled": true
   },
   "outputs": [],
   "source": [
    "#remove batch effects among 4 slides of this patient\n",
    "#prepare for clustering\n",
    "def prepare_for_umap(adata, n_comps=50, batch_effects = False, df_metadata = None):\n",
    "#     sc.pp.normalize_total(adata, inplace=True)\n",
    "#     print('Finish normalization!')\n",
    "#     sc.pp.scale(adata)\n",
    "    sc.pp.pca(adata, n_comps)\n",
    "    print('Finish PCA!')\n",
    "    \n",
    "    if batch_effects:\n",
    "        X_PCA = adata.obsm['X_pca'].copy()\n",
    "        print(\"Processing shape: \", X_PCA.shape)\n",
    "        corr_PCA = harmonize(X_PCA, df_metadata, batch_key = 'Sample ID')\n",
    "        print(\"Finish correction!\")\n",
    "        adata.obsm['X_pca'] = corr_PCA\n",
    "        \n",
    "    sc.pp.neighbors(adata, use_rep = 'X_pca')\n",
    "    sc.tl.umap(adata)"
   ]
  },
  {
   "cell_type": "code",
   "execution_count": null,
   "id": "a6a9e9c8",
   "metadata": {},
   "outputs": [],
   "source": [
    "df_metadata = ['2T' for i in range(spot_n_T)] + ['2L' for i in range(spot_n_L)] + ['2N' for i in range(spot_n_N)]\n",
    "df_metadata = pd.DataFrame(df_metadata, columns = ['Sample ID'])"
   ]
  },
  {
   "cell_type": "code",
   "execution_count": null,
   "id": "8c90a2f1",
   "metadata": {
    "scrolled": true
   },
   "outputs": [],
   "source": [
    "prepare_for_umap(adata_combined, n_comps=50, batch_effects = True, df_metadata = df_metadata)"
   ]
  },
  {
   "cell_type": "code",
   "execution_count": null,
   "id": "0464bad8",
   "metadata": {},
   "outputs": [],
   "source": [
    "sc.tl.leiden(adata_combined, key_added=\"clusters\", resolution = 0.2)"
   ]
  },
  {
   "cell_type": "code",
   "execution_count": null,
   "id": "c26a27f9",
   "metadata": {
    "scrolled": true
   },
   "outputs": [],
   "source": [
    "palette={\n",
    "    \"0\": \"blue\",\n",
    "    \"1\": \"pink\",\n",
    "    \"2\": \"yellow\",\n",
    "    \"3\": \"red\",\n",
    "    \"4\": \"purple\",\n",
    "    \"5\": \"brown\",\n",
    "    \"6\": \"green\",\n",
    "    \"7\": \"orange\",\n",
    "    \"8\": \"indigo\",\n",
    "    \"9\": \"black\",\n",
    "    \"10\": \"Cyan\",\n",
    "    \"11\": \"Lime\",\n",
    "    \"12\": \"Beige\",\n",
    "    \"13\":\"white\",\n",
    "    \"14\":\"Gold\",\n",
    "    \"15\": \"Gray\",\n",
    "    \"16\": \"Aqua\",\n",
    "}"
   ]
  },
  {
   "cell_type": "code",
   "execution_count": null,
   "id": "272b5a50",
   "metadata": {
    "scrolled": true
   },
   "outputs": [],
   "source": [
    "adata_combined.obs['batch_id'] = df_metadata.values"
   ]
  },
  {
   "cell_type": "code",
   "execution_count": null,
   "id": "099530be",
   "metadata": {
    "scrolled": true
   },
   "outputs": [],
   "source": [
    "sc.tl.umap(adata_combined, min_dist = 0.3, spread = 1)\n",
    "\n",
    "# show regions in UMAP coordinates\n",
    "with mpl.rc_context({'axes.facecolor':  'white',\n",
    "                     'figure.figsize': [8, 8]}):\n",
    "    sc.pl.umap(adata_combined, color=['clusters'], size=30,\n",
    "               color_map = 'RdPu', ncols = 2, legend_loc='on data',\n",
    "               legend_fontsize=20, palette = palette)"
   ]
  },
  {
   "cell_type": "code",
   "execution_count": null,
   "id": "ee3dd581",
   "metadata": {
    "scrolled": true
   },
   "outputs": [],
   "source": [
    "HCC_1N = './raw_data/Adjacent/HCC-1N'\n",
    "HCC_2N = './raw_data/Adjacent/HCC-2N'\n",
    "HCC_3N = './raw_data/Adjacent/HCC-3N'\n",
    "HCC_4N = './raw_data/Adjacent/HCC-4N'\n",
    "\n",
    "HCC_1L = './raw_data/Leading_Edge/HCC-1L'\n",
    "HCC_2L = './raw_data/Leading_Edge/HCC-2L'\n",
    "HCC_3L = './raw_data/Leading_Edge/HCC-3L'\n",
    "HCC_4L = './raw_data/Leading_Edge/HCC-4L'\n",
    "\n",
    "HCC_1T = './raw_data/Primary_Tumor/HCC-1T'\n",
    "HCC_2T = './raw_data/Primary_Tumor/HCC-2T'\n",
    "HCC_3T = './raw_data/Primary_Tumor/HCC-3T'\n",
    "HCC_4T = './raw_data/Primary_Tumor/HCC-4T'\n",
    "\n",
    "visium_paths = [HCC_1N, HCC_2N, HCC_3N, HCC_4N, HCC_1L, HCC_2L, HCC_3L, HCC_4L, HCC_1T, HCC_2T, HCC_3T, HCC_4T]\n",
    "visium_names = ['HCC-'+ str(i + 1) + 'N-Adjacent'for i in range(4)] + \\\n",
    "               ['HCC-'+ str(i + 1) + 'L-Leading_Edge'for i in range(4)] + \\\n",
    "               ['HCC-'+ str(i + 1) + 'T-Primary_Tumor'for i in range(4)]"
   ]
  },
  {
   "cell_type": "code",
   "execution_count": null,
   "id": "e56f31ad",
   "metadata": {
    "scrolled": true
   },
   "outputs": [],
   "source": [
    "adata_l = []\n",
    "for i in range(12):\n",
    "    adata = sc.read_visium(visium_paths[i])\n",
    "    adata_l.append(adata)"
   ]
  },
  {
   "cell_type": "code",
   "execution_count": null,
   "id": "6416f26f",
   "metadata": {
    "scrolled": true
   },
   "outputs": [],
   "source": [
    "adata_T = adata_l[9]\n",
    "adata_L = adata_l[5]\n",
    "adata_N = adata_l[1]"
   ]
  },
  {
   "cell_type": "code",
   "execution_count": null,
   "id": "e7f8ca81",
   "metadata": {
    "scrolled": true
   },
   "outputs": [],
   "source": [
    "cluster_res = list(adata_combined.obs[\"clusters\"])"
   ]
  },
  {
   "cell_type": "code",
   "execution_count": null,
   "id": "ae400a42",
   "metadata": {
    "scrolled": true
   },
   "outputs": [],
   "source": [
    "adata_T.obs['cluster'] = cluster_res[0 : spot_n_T]\n",
    "adata_L.obs['cluster'] = cluster_res[spot_n_T : spot_n_T + spot_n_L] \n",
    "adata_N.obs['cluster'] = cluster_res[spot_n_T + spot_n_L : ]"
   ]
  },
  {
   "cell_type": "code",
   "execution_count": null,
   "id": "0046322f",
   "metadata": {
    "scrolled": false
   },
   "outputs": [],
   "source": [
    "fig, ax = plt.subplots(2,3, figsize=(20,10))\n",
    "sc.pl.spatial(adata_T, img_key=\"hires\", alpha_img = 1, ax = ax[0, 2], show = False, title = 'HCC-2T-HE-staining')\n",
    "sc.pl.spatial(adata_L, img_key=\"hires\", alpha_img = 1, ax = ax[0, 1], show = False, title = 'HCC-2L-HE-staining')\n",
    "sc.pl.spatial(adata_N, img_key=\"hires\", alpha_img = 1, ax = ax[0, 0], show = False, title = 'HCC-2N-HE-staining')\n",
    "sc.pl.spatial(adata_T, color = 'cluster', img_key=\"hires\", alpha_img = 0.3, palette = palette, ax = ax[1, 2], show = False, title = 'HCC-2T-GEM-cluster')\n",
    "sc.pl.spatial(adata_L, color = 'cluster', img_key=\"hires\", alpha_img = 0.3, palette = palette, ax = ax[1, 1], show = False, title = 'HCC-2L-GEM-cluster')\n",
    "sc.pl.spatial(adata_N, color = 'cluster', img_key=\"hires\", alpha_img = 0.3, palette = palette, ax = ax[1, 0], show = False, title = 'HCC-2N-GEM-cluster')\n",
    "plt.show()"
   ]
  },
  {
   "cell_type": "markdown",
   "id": "38a16d1d",
   "metadata": {},
   "source": [
    "# Extract Data for Further Analysis"
   ]
  },
  {
   "cell_type": "code",
   "execution_count": null,
   "id": "21296fab",
   "metadata": {},
   "outputs": [],
   "source": [
    "T_cluster = pd.DataFrame(adata_T.obs['cluster'].values, columns = ['cluster'])\n",
    "N_cluster = pd.DataFrame(adata_N.obs['cluster'].values, columns = ['cluster'])\n",
    "L_cluster = pd.DataFrame(adata_L.obs['cluster'].values, columns = ['cluster'])"
   ]
  },
  {
   "cell_type": "code",
   "execution_count": null,
   "id": "6dfd14f8",
   "metadata": {},
   "outputs": [],
   "source": [
    "T_cluster.to_csv('./ClusterMap/P2T.csv', index = None)\n",
    "N_cluster.to_csv('./ClusterMap/P2N.csv', index = None)\n",
    "L_cluster.to_csv('./ClusterMap/P2L.csv', index = None)"
   ]
  },
  {
   "cell_type": "markdown",
   "id": "2b9cbc1f",
   "metadata": {},
   "source": [
    "# Invasive Frontier Labeling"
   ]
  },
  {
   "cell_type": "code",
   "execution_count": null,
   "id": "743018b1",
   "metadata": {
    "scrolled": false
   },
   "outputs": [],
   "source": [
    "def crop_slide(adata, left, right, up, down):\n",
    "    all_corrs = adata.obsm['spatial'].copy()\n",
    "    invasive_edge_corrs = []\n",
    "\n",
    "    for corr in all_corrs:\n",
    "        if (left <= corr[0]) and (corr[0] <= right) and (up <= corr[1]) and (corr[1] <= down):\n",
    "            invasive_edge_corrs.append(corr)\n",
    "    return invasive_edge_corrs, all_corrs"
   ]
  },
  {
   "cell_type": "code",
   "execution_count": null,
   "id": "7befb21b",
   "metadata": {
    "scrolled": false
   },
   "outputs": [],
   "source": [
    "def find_rows(source, target):\n",
    "    return np.where((source == target).all(axis=1))[0][0]"
   ]
  },
  {
   "cell_type": "code",
   "execution_count": null,
   "id": "1216cacd",
   "metadata": {
    "scrolled": false
   },
   "outputs": [],
   "source": [
    "def get_distance(corr1, corr2):\n",
    "    return np.sum((corr1 - corr2)**2)"
   ]
  },
  {
   "cell_type": "code",
   "execution_count": null,
   "id": "7011c496",
   "metadata": {
    "scrolled": false
   },
   "outputs": [],
   "source": [
    "def find_neighbours(invasive_edge_corrs, all_corrs):\n",
    "#invasive_edge_dict stores the index of all the corrs of the invasive edge spots, \n",
    "# the key is its index among all the spots corrs of the slide. The values is the indices of the top 6 closest spots.\n",
    "    invasive_edge_dict = dict()\n",
    "\n",
    "    for corr in invasive_edge_corrs:\n",
    "        key = find_rows(all_corrs, corr)\n",
    "        invasive_edge_dict[key] = []\n",
    "\n",
    "\n",
    "        #calculate the distance of this corr to other corrs in the invasive_edge\n",
    "        corr_dist_to_others = []\n",
    "        for corr2 in invasive_edge_corrs:\n",
    "            corr_dist_to_others.append(get_distance(corr, corr2))\n",
    "\n",
    "\n",
    "        #nearest 6 spots, exclude itself\n",
    "        nearest_seven_spots = sorted(range(len(corr_dist_to_others)), key=lambda i: corr_dist_to_others[i])[1:7]\n",
    "\n",
    "        for neighb in nearest_seven_spots:\n",
    "            invasive_edge_dict[key].append(find_rows(all_corrs, invasive_edge_corrs[neighb]))     \n",
    "        \n",
    "    return invasive_edge_dict"
   ]
  },
  {
   "cell_type": "code",
   "execution_count": null,
   "id": "c93ce794",
   "metadata": {
    "scrolled": false
   },
   "outputs": [],
   "source": [
    "def find_invasive_frontier_idx(invasive_edge_dict, adata):\n",
    "    T_boundary_corr_idx = []\n",
    "    N_boundary_corr_idx = []\n",
    "    for corr, neighbours in invasive_edge_dict.items():\n",
    "        if (adata.obs['cluster'][corr] == '1') and \\\n",
    "           (np.any(adata.obs['cluster'][neighbours] == '0')):\n",
    "            T_boundary_corr_idx.append(corr)\n",
    "\n",
    "        if (adata.obs['cluster'][corr] == '0') and \\\n",
    "           (np.any(adata.obs['cluster'][neighbours] == '1')):\n",
    "            N_boundary_corr_idx.append(corr)\n",
    "    \n",
    "    adata.obs['invasive_frontier'] = 'Others'\n",
    "    adata.obs['invasive_frontier'][T_boundary_corr_idx] = 'Tumor Frontier'\n",
    "    adata.obs['invasive_frontier'][N_boundary_corr_idx] = 'Adjacent Frontier'\n",
    "    \n",
    "    adjacent_non_frontier = []\n",
    "    for i in range(adata.shape[0]):\n",
    "        if (adata.obs['cluster'][i] == '0') and (i not in N_boundary_corr_idx):\n",
    "            adjacent_non_frontier.append('Adjacent Non-frontier')\n",
    "        else:\n",
    "            adjacent_non_frontier.append('Others')\n",
    "    adata.obs['adjacent_non_frontier'] = np.array(adjacent_non_frontier)"
   ]
  },
  {
   "cell_type": "code",
   "execution_count": null,
   "id": "5c85a361",
   "metadata": {
    "scrolled": false
   },
   "outputs": [],
   "source": [
    "def find_invasive_frontier(adata, left, right, up, down):\n",
    "    invasive_edge_corrs, all_corrs = crop_slide(adata, left, right, up, down)\n",
    "    invasive_edge_dict = find_neighbours(invasive_edge_corrs, all_corrs)\n",
    "    find_invasive_frontier_idx(invasive_edge_dict, adata)"
   ]
  },
  {
   "cell_type": "code",
   "execution_count": null,
   "id": "3d3b9426",
   "metadata": {
    "scrolled": false
   },
   "outputs": [],
   "source": [
    "find_invasive_frontier(adata_L, 6500, 12000, 1500, 17000)"
   ]
  },
  {
   "cell_type": "code",
   "execution_count": null,
   "id": "8a078ac3",
   "metadata": {
    "scrolled": false
   },
   "outputs": [],
   "source": [
    "find_invasive_frontier(adata_T, 1000, 16500, 1000, 17000)"
   ]
  },
  {
   "cell_type": "code",
   "execution_count": null,
   "id": "1cde05cc",
   "metadata": {
    "scrolled": false
   },
   "outputs": [],
   "source": [
    "edge_palette={\n",
    "    'Others': 'grey',\n",
    "    'Tumor Frontier': 'red',\n",
    "    'Adjacent Frontier': 'blue',\n",
    "    'Adjacent Non-frontier': 'blue'\n",
    "}"
   ]
  },
  {
   "cell_type": "code",
   "execution_count": null,
   "id": "431f14aa",
   "metadata": {
    "scrolled": false
   },
   "outputs": [],
   "source": [
    "fig, ax = plt.subplots(3,2, figsize=(18,23))\n",
    "sc.pl.spatial(adata_L, img_key=\"hires\", color=\"cluster\", groups=[\"0\", \"1\"], \n",
    "              alpha=0.5, size=1.3, ax = ax[0,0], title = 'HCC-2L', show = False)\n",
    "\n",
    "sc.pl.spatial(adata_L, img_key=\"hires\", color=\"invasive_frontier\", size = 1.3, alpha = 0.7,\n",
    "              alpha_img=0.7, palette = edge_palette, title = 'HCC-2L Invasive Frontier', ax = ax[1, 0], show = False)\n",
    "\n",
    "sc.pl.spatial(adata_T, img_key=\"hires\", color=\"cluster\", groups=[\"0\", \"1\"], \n",
    "              alpha=0.5, size=1.3, ax = ax[0,1], title = 'HCC-2T', show = False)\n",
    "\n",
    "sc.pl.spatial(adata_T, img_key=\"hires\", color=\"invasive_frontier\", size = 1.3, alpha = 0.7, \n",
    "              alpha_img=0.7, palette = edge_palette, ax = ax[1,1], title = 'HCC-2T Invasive Frontier', show = False)\n",
    "\n",
    "sc.pl.spatial(adata_L, img_key=\"hires\", color=\"adjacent_non_frontier\", size = 1.3, alpha = 0.7, \n",
    "              alpha_img=0.7, palette = edge_palette, ax = ax[2,0], title = 'HCC-2T Non-frontier Adjacent', show = False)\n",
    "\n",
    "sc.pl.spatial(adata_T, img_key=\"hires\", color=\"adjacent_non_frontier\", size = 1.3, alpha = 0.7, \n",
    "              alpha_img=0.7, palette = edge_palette, ax = ax[2,1], title = 'HCC-2L Non-frontier Adjacent', show = False)\n",
    "plt.show()"
   ]
  },
  {
   "cell_type": "markdown",
   "id": "49a2d57c",
   "metadata": {},
   "source": [
    "# Compare Fronter and Non-frontier Adjacent Area GEM Level"
   ]
  },
  {
   "cell_type": "markdown",
   "id": "cde50c70",
   "metadata": {},
   "source": [
    "We want to check whether the tumor affect the GEM expression level of neighboring adjacent area"
   ]
  },
  {
   "cell_type": "code",
   "execution_count": null,
   "id": "8c1c2dec",
   "metadata": {},
   "outputs": [],
   "source": [
    "import seaborn as sns"
   ]
  },
  {
   "cell_type": "code",
   "execution_count": null,
   "id": "f7814a3e",
   "metadata": {},
   "outputs": [],
   "source": [
    "GEM_combined_T = np.concatenate([TandNK_ST_inference_T, Stroma_ST_inference_T, B_cell_ST_inference_T, \n",
    "                               Epithelial_ST_inference_T, Myeloid_ST_inference_T], axis = 1)\n",
    "GEM_combined_normed_T = normalize(GEM_combined_T, axis=0, norm='max')\n",
    "adata_T.obsm['All_GEM_inference_table'] = GEM_combined_normed_T"
   ]
  },
  {
   "cell_type": "code",
   "execution_count": null,
   "id": "0503ac6c",
   "metadata": {},
   "outputs": [],
   "source": [
    "ft_aj_T = adata_T[adata_T.obs[\"invasive_frontier\"] == 'Adjacent Frontier']\n",
    "nft_aj_T = adata_T[adata_T.obs[\"adjacent_non_frontier\"] == 'Adjacent Non-frontier']"
   ]
  },
  {
   "cell_type": "code",
   "execution_count": null,
   "id": "b121c3e2",
   "metadata": {},
   "outputs": [],
   "source": [
    "TandNK_GEM_names = ['TandNK GEM ' + str(c + 1) for c in range(85)]\n",
    "Stroma_GEM_names = ['Stroma GEM ' + str(c + 1) for c in range(85)]\n",
    "B_cell_GEM_names = ['B cell GEM ' + str(c + 1) for c in range(85)]\n",
    "Epithelial_GEM_names = ['Epithelial GEM ' + str(c + 1) for c in range(85)]\n",
    "Myeloid_GEM_names = ['Myeloid GEM ' + str(c + 1) for c in range(85)]"
   ]
  },
  {
   "cell_type": "code",
   "execution_count": null,
   "id": "ee4ad7c9",
   "metadata": {},
   "outputs": [],
   "source": [
    "GEM_names = TandNK_GEM_names + Stroma_GEM_names + B_cell_GEM_names + Epithelial_GEM_names + Myeloid_GEM_names"
   ]
  },
  {
   "cell_type": "code",
   "execution_count": null,
   "id": "4b051561",
   "metadata": {},
   "outputs": [],
   "source": [
    "ft_aj_T_df = pd.DataFrame(ft_aj_T.obsm['All_GEM_inference_table'], columns = GEM_names)\n",
    "nft_aj_T_df = pd.DataFrame(nft_aj_T.obsm['All_GEM_inference_table'], columns = GEM_names)"
   ]
  },
  {
   "cell_type": "code",
   "execution_count": null,
   "id": "4902583d",
   "metadata": {},
   "outputs": [],
   "source": [
    "df_merged_T = pd.concat([ft_aj_T_df, nft_aj_T_df], ignore_index = True)"
   ]
  },
  {
   "cell_type": "code",
   "execution_count": null,
   "id": "ae95fb70",
   "metadata": {},
   "outputs": [],
   "source": [
    "df_merged_T['cluster'] = 'Adjacent Frontier'\n",
    "df_merged_T.loc[ft_aj_T_df.shape[0] : ft_aj_T_df.shape[0] + nft_aj_T_df.shape[0], 'cluster'] = 'Adjacent Non-frontier'"
   ]
  },
  {
   "cell_type": "code",
   "execution_count": null,
   "id": "d48fdc04",
   "metadata": {},
   "outputs": [],
   "source": [
    "df_merged_TandNK = df_merged_T[TandNK_GEM_names + ['cluster']]\n",
    "df_merged_Stroma = df_merged_T[Stroma_GEM_names + ['cluster']]\n",
    "df_merged_B_cell = df_merged_T[B_cell_GEM_names + ['cluster']]\n",
    "df_merged_Epithelial = df_merged_T[Epithelial_GEM_names + ['cluster']]\n",
    "df_merged_Myeloid = df_merged_T[Myeloid_GEM_names + ['cluster']]"
   ]
  },
  {
   "cell_type": "code",
   "execution_count": null,
   "id": "58307272",
   "metadata": {},
   "outputs": [],
   "source": [
    "def compare_GEM_level(df, title_name):\n",
    "    plt.figure(figsize = (50, 15))\n",
    "    ax = (\n",
    "        df.set_index('cluster', append=True)  # set E as part of the index\n",
    "          .stack()                      # pull A - D into rows \n",
    "          .to_frame()                   # convert to a dataframe\n",
    "          .reset_index()                # make the index into reg. columns\n",
    "          .rename(columns={'level_2': 'GEM', 0: 'Expression'})  # rename columns\n",
    "          .drop('level_0', axis='columns')   # drop junk columns\n",
    "          .pipe((sns.boxplot, 'data'), x='GEM', y='Expression', hue='cluster', \n",
    "                hue_order=['Adjacent Frontier', 'Adjacent Non-frontier'], \n",
    "                palette={'Adjacent Frontier': \"blue\", 'Adjacent Non-frontier': \"Aqua\"})  \n",
    "    )\n",
    "    sns.despine(trim=True)\n",
    "    plt.legend(loc='upper right', prop={'size': 30})\n",
    "    plt.title(\"TandNK GEMs\", fontsize = 40)\n",
    "    plt.xticks(rotation='vertical', fontsize = 30)\n",
    "\n",
    "    plt.show() "
   ]
  },
  {
   "cell_type": "code",
   "execution_count": null,
   "id": "c17cfb48",
   "metadata": {},
   "outputs": [],
   "source": [
    "compare_GEM_level(df_merged_TandNK, \"TandNK GEMs\")"
   ]
  },
  {
   "cell_type": "code",
   "execution_count": null,
   "id": "e413d4b7",
   "metadata": {},
   "outputs": [],
   "source": [
    "compare_GEM_level(df_merged_Stroma, \"Stromal GEMs\")"
   ]
  },
  {
   "cell_type": "code",
   "execution_count": null,
   "id": "eb3038cd",
   "metadata": {},
   "outputs": [],
   "source": [
    "compare_GEM_level(df_merged_B_cell, \"B cell GEMs\")"
   ]
  },
  {
   "cell_type": "code",
   "execution_count": null,
   "id": "dbaf0e0f",
   "metadata": {},
   "outputs": [],
   "source": [
    "compare_GEM_level(df_merged_Epithelial, \"Epithelial GEMs\")"
   ]
  },
  {
   "cell_type": "code",
   "execution_count": null,
   "id": "f022c264",
   "metadata": {},
   "outputs": [],
   "source": [
    "compare_GEM_level(df_merged_Myeloid, \"Myeloid GEMs\")"
   ]
  }
 ],
 "metadata": {
  "kernelspec": {
   "display_name": "Scanpy(Python)",
   "language": "python",
   "name": "cello_env"
  },
  "language_info": {
   "codemirror_mode": {
    "name": "ipython",
    "version": 3
   },
   "file_extension": ".py",
   "mimetype": "text/x-python",
   "name": "python",
   "nbconvert_exporter": "python",
   "pygments_lexer": "ipython3",
   "version": "3.7.13"
  }
 },
 "nbformat": 4,
 "nbformat_minor": 5
}
