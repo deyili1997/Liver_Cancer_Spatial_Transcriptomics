{
 "cells": [
  {
   "cell_type": "markdown",
   "id": "3463298e",
   "metadata": {},
   "source": [
    "Prepare data before running nHDP, we have 2 version of inputs here, binary gene count matrix input and log-transformed UMI input."
   ]
  },
  {
   "cell_type": "code",
   "execution_count": null,
   "id": "4011e944",
   "metadata": {},
   "outputs": [],
   "source": [
    "import scanpy as sc\n",
    "import numpy as np\n",
    "import pandas as pd\n",
    "import anndata as ad\n",
    "import matplotlib.pyplot as plt\n",
    "from scipy.io import mmread\n",
    "sc.set_figure_params(figsize=(6, 6), frameon=False)\n",
    "sc.settings.n_jobs=8"
   ]
  },
  {
   "cell_type": "code",
   "execution_count": null,
   "id": "584e2272",
   "metadata": {},
   "outputs": [],
   "source": [
    "HCC_1N = './raw_data/Adjacent/HCC-1N'\n",
    "HCC_2N = './raw_data/Adjacent/HCC-2N'\n",
    "HCC_3N = './raw_data/Adjacent/HCC-3N'\n",
    "HCC_4N = './raw_data/Adjacent/HCC-4N'\n",
    "\n",
    "HCC_1L = './raw_data/Leading_Edge/HCC-1L'\n",
    "HCC_2L = './raw_data/Leading_Edge/HCC-2L'\n",
    "HCC_3L = './raw_data/Leading_Edge/HCC-3L'\n",
    "HCC_4L = './raw_data/Leading_Edge/HCC-4L'\n",
    "\n",
    "HCC_1T = './raw_data/Primary_Tumor/HCC-1T'\n",
    "HCC_2T = './raw_data/Primary_Tumor/HCC-2T'\n",
    "HCC_3T = './raw_data/Primary_Tumor/HCC-3T'\n",
    "HCC_4T = './raw_data/Primary_Tumor/HCC-4T'\n",
    "\n",
    "visium_paths = [HCC_1N, HCC_2N, HCC_3N, HCC_4N, HCC_1L, HCC_2L, HCC_3L, HCC_4L, HCC_1T, HCC_2T, HCC_3T, HCC_4T]\n",
    "visium_names = ['HCC-'+ str(i + 1) + 'N-Adjacent'for i in range(4)] + \\\n",
    "               ['HCC-'+ str(i + 1) + 'L-Leading_Edge'for i in range(4)] + \\\n",
    "               ['HCC-'+ str(i + 1) + 'T-Primary_Tumor'for i in range(4)]"
   ]
  },
  {
   "cell_type": "code",
   "execution_count": null,
   "id": "d9e30b97",
   "metadata": {},
   "outputs": [],
   "source": [
    "adata_l = []\n",
    "for i in range(12):\n",
    "    adata = sc.read_visium(visium_paths[i])\n",
    "    adata_l.append(adata)"
   ]
  },
  {
   "cell_type": "code",
   "execution_count": null,
   "id": "0d862871",
   "metadata": {},
   "outputs": [],
   "source": [
    "ST_genes = list(adata_l[0].var_names)"
   ]
  },
  {
   "cell_type": "code",
   "execution_count": null,
   "id": "b697f792",
   "metadata": {},
   "outputs": [],
   "source": [
    "Epithelial_genes = pd.read_csv('./nHDP/lastest_nHDP/gene_names/merged_Epithelial_gene.txt', header = None).values.reshape(-1)\n",
    "Myeloid_genes = pd.read_csv('./nHDP/lastest_nHDP/gene_names/merged_Myeloid_gene.txt', header = None).values.reshape(-1)\n",
    "PlasmaB_genes = pd.read_csv('./nHDP/lastest_nHDP/gene_names/merged_PlasmaB_gene.txt', header = None).values.reshape(-1)\n",
    "Stromal_genes = pd.read_csv('./nHDP/lastest_nHDP/gene_names/merged_Stromal_gene.txt', header = None).values.reshape(-1)\n",
    "TNK_genes = pd.read_csv('./nHDP/lastest_nHDP/gene_names/merged_TNK_gene.txt', header = None).values.reshape(-1)"
   ]
  },
  {
   "cell_type": "code",
   "execution_count": null,
   "id": "9c4db851",
   "metadata": {},
   "outputs": [],
   "source": [
    "def find_common_genes_and_padding_genes(ST_genes, celltype_genes):\n",
    "    common_genes = []\n",
    "    padding_genes = []\n",
    "    for gene in celltype_genes:\n",
    "        if gene in ST_genes:\n",
    "            common_genes.append(gene)\n",
    "        else:\n",
    "            padding_genes.append(gene)\n",
    "    return common_genes, padding_genes"
   ]
  },
  {
   "cell_type": "code",
   "execution_count": null,
   "id": "54e29687",
   "metadata": {},
   "outputs": [],
   "source": [
    "Epithelial_common, Epithelial_padding = find_common_genes_and_padding_genes(ST_genes, Epithelial_genes)\n",
    "Myeloid_common, Myeloid_padding = find_common_genes_and_padding_genes(ST_genes, Myeloid_genes)\n",
    "PlasmaB_common, PlasmaB_padding = find_common_genes_and_padding_genes(ST_genes, PlasmaB_genes)\n",
    "Stromal_common, Stromal_padding = find_common_genes_and_padding_genes(ST_genes, Stromal_genes)\n",
    "TNK_common, TNK_padding = find_common_genes_and_padding_genes(ST_genes, TNK_genes)"
   ]
  },
  {
   "cell_type": "code",
   "execution_count": null,
   "id": "2f947298",
   "metadata": {},
   "outputs": [],
   "source": [
    "#since all genes exist in ST_genes, we omit padding genes\n",
    "df_genes = [Epithelial_common,Myeloid_common,PlasmaB_common,Stromal_common,TNK_common]"
   ]
  },
  {
   "cell_type": "code",
   "execution_count": null,
   "id": "14786fcd",
   "metadata": {},
   "outputs": [],
   "source": [
    "celltype_names = ['Epithelial', 'Myeloid', 'PlasmaB', 'Stromal', 'TNK']"
   ]
  },
  {
   "cell_type": "markdown",
   "id": "6a1da84b",
   "metadata": {},
   "source": [
    "# UMI-Log Norm Inference"
   ]
  },
  {
   "cell_type": "code",
   "execution_count": null,
   "id": "4a6900b4",
   "metadata": {},
   "outputs": [],
   "source": [
    "def log_normalize(arr):\n",
    "    total_UMI = np.sum(arr, axis = 1).reshape(-1, 1)\n",
    "    arr_transformed = np.log((10000 * arr / total_UMI) + 1)\n",
    "    return np.ceil(arr_transformed)"
   ]
  },
  {
   "cell_type": "code",
   "execution_count": null,
   "id": "6a7377dc",
   "metadata": {},
   "outputs": [],
   "source": [
    "for i, adata in enumerate(adata_l):\n",
    "    print('Progress: ', i + 1)\n",
    "    for k, common in enumerate(df_genes):\n",
    "        adata.var_names_make_unique()\n",
    "        adata_union = adata[:, common]\n",
    "        adata_arr = adata_union.X.toarray()\n",
    "        adata_arr = log_normalize(adata_arr)\n",
    "        adata_df = pd.DataFrame(adata_arr, index = adata_union.obs_names, columns = common)\n",
    "        adata_df.to_csv('./nHDP/lastest_nHDP/ST_counts/' + visium_names[i] + '_' + celltype_names[k] + '_final.csv')"
   ]
  },
  {
   "cell_type": "markdown",
   "id": "ef695659",
   "metadata": {},
   "source": [
    "# Binary Inference"
   ]
  },
  {
   "cell_type": "code",
   "execution_count": null,
   "id": "415ab35f",
   "metadata": {},
   "outputs": [],
   "source": [
    "def binarize_arr(arr):\n",
    "    arr[arr > 0] = 1\n",
    "    return arr"
   ]
  },
  {
   "cell_type": "code",
   "execution_count": null,
   "id": "95fca070",
   "metadata": {},
   "outputs": [],
   "source": [
    "for i, adata in enumerate(adata_l):\n",
    "    print('Progress: ', i + 1)\n",
    "    for k, common in enumerate(df_genes):\n",
    "        adata.var_names_make_unique()\n",
    "        adata_union = adata[:, common]\n",
    "        adata_arr = adata_union.X.toarray()\n",
    "        adata_arr = binarize_arr(adata_arr)\n",
    "        adata_df = pd.DataFrame(adata_arr, index = adata_union.obs_names, columns = common)\n",
    "        adata_df.to_csv('./nHDP/lastest_nHDP/ST_counts/binary_' + visium_names[i] + '_' + celltype_names[k] + '_final.csv')"
   ]
  }
 ],
 "metadata": {
  "kernelspec": {
   "display_name": "Scanpy(Python)",
   "language": "python",
   "name": "cello_env"
  },
  "language_info": {
   "codemirror_mode": {
    "name": "ipython",
    "version": 3
   },
   "file_extension": ".py",
   "mimetype": "text/x-python",
   "name": "python",
   "nbconvert_exporter": "python",
   "pygments_lexer": "ipython3",
   "version": "3.7.13"
  }
 },
 "nbformat": 4,
 "nbformat_minor": 5
}
