{
 "cells": [
  {
   "cell_type": "code",
   "execution_count": null,
   "id": "e10719e6",
   "metadata": {},
   "outputs": [],
   "source": [
    "import numpy as np\n",
    "import matplotlib.pyplot as plt\n",
    "import pingouin as pg\n",
    "import scanpy as sc\n",
    "import pandas as pd\n",
    "import anndata as ad\n",
    "from tqdm import tqdm"
   ]
  },
  {
   "cell_type": "markdown",
   "id": "c1152335",
   "metadata": {},
   "source": [
    "# Read in All GEMs"
   ]
  },
  {
   "cell_type": "code",
   "execution_count": null,
   "id": "b65318af",
   "metadata": {},
   "outputs": [],
   "source": [
    "TandNK_ST_inference_1T = pd.read_csv('./nHDP/binary_nHDP_count_TNK_1T_final.csv', header = None).transpose().values\n",
    "Stroma_ST_inference_1T = pd.read_csv('./nHDP/binary_nHDP_count_Stromal_1T_final.csv', header = None).transpose().values\n",
    "B_cell_ST_inference_1T = pd.read_csv('./nHDP/binary_nHDP_count_PlasmaB_1T_final.csv', header = None).transpose().values\n",
    "Epithelial_ST_inference_1T = pd.read_csv('./nHDP/binary_nHDP_count_Epithelial_1T_final.csv', header = None).transpose().values\n",
    "Myeloid_ST_inference_1T = pd.read_csv('./nHDP/binary_nHDP_count_Myeloid_1T_final.csv', header = None).transpose().values\n",
    "TandNK_ST_inference_1L = pd.read_csv('./nHDP/binary_nHDP_count_TNK_1L_final.csv', header = None).transpose().values\n",
    "Stroma_ST_inference_1L = pd.read_csv('./nHDP/binary_nHDP_count_Stromal_1L_final.csv', header = None).transpose().values\n",
    "B_cell_ST_inference_1L = pd.read_csv('./nHDP/binary_nHDP_count_PlasmaB_1L_final.csv', header = None).transpose().values\n",
    "Epithelial_ST_inference_1L = pd.read_csv('./nHDP/binary_nHDP_count_Epithelial_1L_final.csv', header = None).transpose().values\n",
    "Myeloid_ST_inference_1L = pd.read_csv('./nHDP/binary_nHDP_count_Myeloid_1L_final.csv', header = None).transpose().values\n",
    "TandNK_ST_inference_1N = pd.read_csv('./nHDP/binary_nHDP_count_TNK_1N_final.csv', header = None).transpose().values\n",
    "Stroma_ST_inference_1N = pd.read_csv('./nHDP/binary_nHDP_count_Stromal_1N_final.csv', header = None).transpose().values\n",
    "B_cell_ST_inference_1N = pd.read_csv('./nHDP/binary_nHDP_count_PlasmaB_1N_final.csv', header = None).transpose().values\n",
    "Epithelial_ST_inference_1N = pd.read_csv('./nHDP/binary_nHDP_count_Epithelial_1N_final.csv', header = None).transpose().values\n",
    "Myeloid_ST_inference_1N = pd.read_csv('./nHDP/binary_nHDP_count_Myeloid_1N_final.csv', header = None).transpose().values"
   ]
  },
  {
   "cell_type": "code",
   "execution_count": null,
   "id": "bdf435f8",
   "metadata": {},
   "outputs": [],
   "source": [
    "TandNK_ST_inference_2T = pd.read_csv('./nHDP/binary_nHDP_count_TNK_2T_final.csv', header = None).transpose().values\n",
    "Stroma_ST_inference_2T = pd.read_csv('./nHDP/binary_nHDP_count_Stromal_2T_final.csv', header = None).transpose().values\n",
    "B_cell_ST_inference_2T = pd.read_csv('./nHDP/binary_nHDP_count_PlasmaB_2T_final.csv', header = None).transpose().values\n",
    "Epithelial_ST_inference_2T = pd.read_csv('./nHDP/binary_nHDP_count_Epithelial_2T_final.csv', header = None).transpose().values\n",
    "Myeloid_ST_inference_2T = pd.read_csv('./nHDP/binary_nHDP_count_Myeloid_2T_final.csv', header = None).transpose().values\n",
    "TandNK_ST_inference_2L = pd.read_csv('./nHDP/binary_nHDP_count_TNK_2L_final.csv', header = None).transpose().values\n",
    "Stroma_ST_inference_2L = pd.read_csv('./nHDP/binary_nHDP_count_Stromal_2L_final.csv', header = None).transpose().values\n",
    "B_cell_ST_inference_2L = pd.read_csv('./nHDP/binary_nHDP_count_PlasmaB_2L_final.csv', header = None).transpose().values\n",
    "Epithelial_ST_inference_2L = pd.read_csv('./nHDP/binary_nHDP_count_Epithelial_2L_final.csv', header = None).transpose().values\n",
    "Myeloid_ST_inference_2L = pd.read_csv('./nHDP/binary_nHDP_count_Myeloid_2L_final.csv', header = None).transpose().values\n",
    "TandNK_ST_inference_2N = pd.read_csv('./nHDP/binary_nHDP_count_TNK_2N_final.csv', header = None).transpose().values\n",
    "Stroma_ST_inference_2N = pd.read_csv('./nHDP/binary_nHDP_count_Stromal_2N_final.csv', header = None).transpose().values\n",
    "B_cell_ST_inference_2N = pd.read_csv('./nHDP/binary_nHDP_count_PlasmaB_2N_final.csv', header = None).transpose().values\n",
    "Epithelial_ST_inference_2N = pd.read_csv('./nHDP/binary_nHDP_count_Epithelial_2N_final.csv', header = None).transpose().values\n",
    "Myeloid_ST_inference_2N = pd.read_csv('./nHDP/binary_nHDP_count_Myeloid_2N_final.csv', header = None).transpose().values"
   ]
  },
  {
   "cell_type": "code",
   "execution_count": null,
   "id": "bd5df55d",
   "metadata": {},
   "outputs": [],
   "source": [
    "TandNK_ST_inference_3T = pd.read_csv('./nHDP/binary_nHDP_count_TNK_3T_final.csv', header = None).transpose().values\n",
    "Stroma_ST_inference_3T = pd.read_csv('./nHDP/binary_nHDP_count_Stromal_3T_final.csv', header = None).transpose().values\n",
    "B_cell_ST_inference_3T = pd.read_csv('./nHDP/binary_nHDP_count_PlasmaB_3T_final.csv', header = None).transpose().values\n",
    "Epithelial_ST_inference_3T = pd.read_csv('./nHDP/binary_nHDP_count_Epithelial_3T_final.csv', header = None).transpose().values\n",
    "Myeloid_ST_inference_3T = pd.read_csv('./nHDP/binary_nHDP_count_Myeloid_3T_final.csv', header = None).transpose().values\n",
    "TandNK_ST_inference_3L = pd.read_csv('./nHDP/binary_nHDP_count_TNK_3L_final.csv', header = None).transpose().values\n",
    "Stroma_ST_inference_3L = pd.read_csv('./nHDP/binary_nHDP_count_Stromal_3L_final.csv', header = None).transpose().values\n",
    "B_cell_ST_inference_3L = pd.read_csv('./nHDP/binary_nHDP_count_PlasmaB_3L_final.csv', header = None).transpose().values\n",
    "Epithelial_ST_inference_3L = pd.read_csv('./nHDP/binary_nHDP_count_Epithelial_3L_final.csv', header = None).transpose().values\n",
    "Myeloid_ST_inference_3L = pd.read_csv('./nHDP/binary_nHDP_count_Myeloid_3L_final.csv', header = None).transpose().values\n",
    "TandNK_ST_inference_3N = pd.read_csv('./nHDP/binary_nHDP_count_TNK_3N_final.csv', header = None).transpose().values\n",
    "Stroma_ST_inference_3N = pd.read_csv('./nHDP/binary_nHDP_count_Stromal_3N_final.csv', header = None).transpose().values\n",
    "B_cell_ST_inference_3N = pd.read_csv('./nHDP/binary_nHDP_count_PlasmaB_3N_final.csv', header = None).transpose().values\n",
    "Epithelial_ST_inference_3N = pd.read_csv('./nHDP/binary_nHDP_count_Epithelial_3N_final.csv', header = None).transpose().values\n",
    "Myeloid_ST_inference_3N = pd.read_csv('./nHDP/binary_nHDP_count_Myeloid_3N_final.csv', header = None).transpose().values"
   ]
  },
  {
   "cell_type": "code",
   "execution_count": null,
   "id": "8025e5d6",
   "metadata": {},
   "outputs": [],
   "source": [
    "TandNK_ST_inference_4T = pd.read_csv('./nHDP/binary_nHDP_count_TNK_4T_final.csv', header = None).transpose().values\n",
    "Stroma_ST_inference_4T = pd.read_csv('./nHDP/binary_nHDP_count_Stromal_4T_final.csv', header = None).transpose().values\n",
    "B_cell_ST_inference_4T = pd.read_csv('./nHDP/binary_nHDP_count_PlasmaB_4T_final.csv', header = None).transpose().values\n",
    "Epithelial_ST_inference_4T = pd.read_csv('./nHDP/binary_nHDP_count_Epithelial_4T_final.csv', header = None).transpose().values\n",
    "Myeloid_ST_inference_4T = pd.read_csv('./nHDP/binary_nHDP_count_Myeloid_4T_final.csv', header = None).transpose().values\n",
    "TandNK_ST_inference_4L = pd.read_csv('./nHDP/binary_nHDP_count_TNK_4L_final.csv', header = None).transpose().values\n",
    "Stroma_ST_inference_4L = pd.read_csv('./nHDP/binary_nHDP_count_Stromal_4L_final.csv', header = None).transpose().values\n",
    "B_cell_ST_inference_4L = pd.read_csv('./nHDP/binary_nHDP_count_PlasmaB_4L_final.csv', header = None).transpose().values\n",
    "Epithelial_ST_inference_4L = pd.read_csv('./nHDP/binary_nHDP_count_Epithelial_4L_final.csv', header = None).transpose().values\n",
    "Myeloid_ST_inference_4L = pd.read_csv('./nHDP/binary_nHDP_count_Myeloid_4L_final.csv', header = None).transpose().values\n",
    "TandNK_ST_inference_4N = pd.read_csv('./nHDP/binary_nHDP_count_TNK_4N_final.csv', header = None).transpose().values\n",
    "Stroma_ST_inference_4N = pd.read_csv('./nHDP/binary_nHDP_count_Stromal_4N_final.csv', header = None).transpose().values\n",
    "B_cell_ST_inference_4N = pd.read_csv('./nHDP/binary_nHDP_count_PlasmaB_4N_final.csv', header = None).transpose().values\n",
    "Epithelial_ST_inference_4N = pd.read_csv('./nHDP/binary_nHDP_count_Epithelial_4N_final.csv', header = None).transpose().values\n",
    "Myeloid_ST_inference_4N = pd.read_csv('./nHDP/binary_nHDP_count_Myeloid_4N_final.csv', header = None).transpose().values"
   ]
  },
  {
   "cell_type": "code",
   "execution_count": null,
   "id": "842ced17",
   "metadata": {},
   "outputs": [],
   "source": [
    "GEM_combined_1T = np.concatenate([TandNK_ST_inference_1T, Stroma_ST_inference_1T, B_cell_ST_inference_1T, \n",
    "                               Epithelial_ST_inference_1T, Myeloid_ST_inference_1T], axis = 1)\n",
    "GEM_combined_1L = np.concatenate([TandNK_ST_inference_1L, Stroma_ST_inference_1L, B_cell_ST_inference_1L, \n",
    "                               Epithelial_ST_inference_1L, Myeloid_ST_inference_1L], axis = 1)\n",
    "GEM_combined_1N = np.concatenate([TandNK_ST_inference_1N, Stroma_ST_inference_1N, B_cell_ST_inference_1N, \n",
    "                               Epithelial_ST_inference_1N, Myeloid_ST_inference_1N], axis = 1)\n",
    "GEM_combined_2T = np.concatenate([TandNK_ST_inference_2T, Stroma_ST_inference_2T, B_cell_ST_inference_2T, \n",
    "                               Epithelial_ST_inference_2T, Myeloid_ST_inference_2T], axis = 1)\n",
    "GEM_combined_2L = np.concatenate([TandNK_ST_inference_2L, Stroma_ST_inference_2L, B_cell_ST_inference_2L, \n",
    "                               Epithelial_ST_inference_2L, Myeloid_ST_inference_2L], axis = 1)\n",
    "GEM_combined_2N = np.concatenate([TandNK_ST_inference_2N, Stroma_ST_inference_2N, B_cell_ST_inference_2N, \n",
    "                               Epithelial_ST_inference_2N, Myeloid_ST_inference_2N], axis = 1)\n",
    "GEM_combined_3T = np.concatenate([TandNK_ST_inference_3T, Stroma_ST_inference_3T, B_cell_ST_inference_3T, \n",
    "                               Epithelial_ST_inference_3T, Myeloid_ST_inference_3T], axis = 1)\n",
    "GEM_combined_3L = np.concatenate([TandNK_ST_inference_3L, Stroma_ST_inference_3L, B_cell_ST_inference_3L, \n",
    "                               Epithelial_ST_inference_3L, Myeloid_ST_inference_3L], axis = 1)\n",
    "GEM_combined_3N = np.concatenate([TandNK_ST_inference_3N, Stroma_ST_inference_3N, B_cell_ST_inference_3N, \n",
    "                               Epithelial_ST_inference_3N, Myeloid_ST_inference_3N], axis = 1)\n",
    "GEM_combined_4T = np.concatenate([TandNK_ST_inference_4T, Stroma_ST_inference_4T, B_cell_ST_inference_4T, \n",
    "                               Epithelial_ST_inference_4T, Myeloid_ST_inference_4T], axis = 1)\n",
    "GEM_combined_4L = np.concatenate([TandNK_ST_inference_4L, Stroma_ST_inference_4L, B_cell_ST_inference_4L, \n",
    "                               Epithelial_ST_inference_4L, Myeloid_ST_inference_4L], axis = 1)\n",
    "GEM_combined_4N = np.concatenate([TandNK_ST_inference_4N, Stroma_ST_inference_4N, B_cell_ST_inference_4N, \n",
    "                               Epithelial_ST_inference_4N, Myeloid_ST_inference_4N], axis = 1)"
   ]
  },
  {
   "cell_type": "code",
   "execution_count": null,
   "id": "eb9054c8",
   "metadata": {},
   "outputs": [],
   "source": [
    "GEM_all_patients_list = [GEM_combined_1T, GEM_combined_1L, GEM_combined_1N, \n",
    "                                   GEM_combined_2T, GEM_combined_2L, GEM_combined_2N,\n",
    "                                  GEM_combined_3T, GEM_combined_3L, GEM_combined_3N,\n",
    "                                  GEM_combined_4T, GEM_combined_4L, GEM_combined_4N]\n",
    "GEM_all_patients = np.concatenate(GEM_all_patients_list, axis = 0)"
   ]
  },
  {
   "cell_type": "code",
   "execution_count": null,
   "id": "22f372d2",
   "metadata": {},
   "outputs": [],
   "source": [
    "TandNK_GEM_names = ['TandNK GEM ' + str(c + 1) for c in range(85)]\n",
    "Stroma_GEM_names = ['Stroma GEM ' + str(c + 1) for c in range(85)]\n",
    "B_cell_GEM_names = ['B cell GEM ' + str(c + 1) for c in range(85)]\n",
    "Epithelial_GEM_names = ['Epithelial GEM ' + str(c + 1) for c in range(85)]\n",
    "Myeloid_GEM_names = ['Myeloid GEM ' + str(c + 1) for c in range(85)]\n",
    "GEM_names = TandNK_GEM_names + Stroma_GEM_names + B_cell_GEM_names \\\n",
    "            + Epithelial_GEM_names + Myeloid_GEM_names"
   ]
  },
  {
   "cell_type": "code",
   "execution_count": null,
   "id": "c3b51b92",
   "metadata": {},
   "outputs": [],
   "source": [
    "GEM_all_patients = pd.DataFrame(GEM_all_patients, columns = GEM_names)"
   ]
  },
  {
   "cell_type": "markdown",
   "id": "ea0a1501",
   "metadata": {},
   "source": [
    "# Read in ST"
   ]
  },
  {
   "cell_type": "code",
   "execution_count": null,
   "id": "783870e8",
   "metadata": {},
   "outputs": [],
   "source": [
    "HCC_1T = './raw_data/Primary_Tumor/HCC-1T'\n",
    "HCC_1L = './raw_data/Leading_Edge/HCC-1L'\n",
    "HCC_1N = './raw_data/Adjacent/HCC-1N'\n",
    "\n",
    "HCC_2T = './raw_data/Primary_Tumor/HCC-2T'\n",
    "HCC_2L = './raw_data/Leading_Edge/HCC-2L'\n",
    "HCC_2N = './raw_data/Adjacent/HCC-2N'\n",
    "\n",
    "HCC_3T = './raw_data/Primary_Tumor/HCC-3T'\n",
    "HCC_3L = './raw_data/Leading_Edge/HCC-3L'\n",
    "HCC_3N = './raw_data/Adjacent/HCC-3N'\n",
    "\n",
    "HCC_4T = './raw_data/Primary_Tumor/HCC-4T'\n",
    "HCC_4L = './raw_data/Leading_Edge/HCC-4L'\n",
    "HCC_4N = './raw_data/Adjacent/HCC-4N'\n",
    "\n",
    "visium_paths = [HCC_1T, HCC_1L, HCC_1N, HCC_2T, HCC_2L, HCC_2N,\n",
    "                HCC_3T, HCC_3L, HCC_3N, HCC_4T, HCC_4L, HCC_4N]\n",
    "tissue_names_unique = ['Patient 1 Primary Tumor', 'Patient 1 Leading Edge', \n",
    "                       'Patient 1 Ajacent Area', 'Patient 2 Primary Tumor', \n",
    "                       'Patient 2 Leading Edge', 'Patient 2 Ajacent Area', \n",
    "                       'Patient 3 Primary Tumor', 'Patient 3 Leading Edge', \n",
    "                       'Patient 3 Ajacent Area','Patient 4 Primary Tumor', \n",
    "                       'Patient 4 Leading Edge', 'Patient 4 Ajacent Area']"
   ]
  },
  {
   "cell_type": "code",
   "execution_count": null,
   "id": "e5c16972",
   "metadata": {},
   "outputs": [],
   "source": [
    "adata_l = []\n",
    "for i in range(12):\n",
    "    adata = sc.read_visium(visium_paths[i])\n",
    "    adata_l.append(adata)"
   ]
  },
  {
   "cell_type": "code",
   "execution_count": null,
   "id": "b0ee5e21",
   "metadata": {},
   "outputs": [],
   "source": [
    "for i in range(12):\n",
    "    adata = adata_l[i]\n",
    "    this_GEM = GEM_all_patients_list[i]\n",
    "    for j, name in enumerate(GEM_names):\n",
    "        adata.obs[name] = this_GEM[:, j]"
   ]
  },
  {
   "cell_type": "markdown",
   "id": "01143902",
   "metadata": {},
   "source": [
    "# Plot GEM B 22, Myeloid 81"
   ]
  },
  {
   "cell_type": "code",
   "execution_count": null,
   "id": "525211ac",
   "metadata": {},
   "outputs": [],
   "source": [
    "target_ligand = \"FN1\"\n",
    "target_receptor = \"SDC1\"\n",
    "target_product = target_ligand + '-' + target_receptor + ' Product'"
   ]
  },
  {
   "cell_type": "code",
   "execution_count": null,
   "id": "02c71b56",
   "metadata": {},
   "outputs": [],
   "source": [
    "for r in range(12):\n",
    "    adata = adata_l[r]\n",
    "    adata.var_names_make_unique()\n",
    "    ligand_exp = adata[:, target_ligand].X.toarray().flatten()\n",
    "    receptor_exp = adata[:, target_receptor].X.toarray().flatten()\n",
    "    product = ligand_exp * receptor_exp\n",
    "    adata.obs[target_product] = product"
   ]
  },
  {
   "cell_type": "code",
   "execution_count": null,
   "id": "f72e38e3",
   "metadata": {},
   "outputs": [],
   "source": [
    "target_figures = [\"B cell GEM 22\", \"CD79A\", \"Myeloid GEM 81\", \"CD68\", target_ligand, target_receptor, target_product]"
   ]
  },
  {
   "cell_type": "code",
   "execution_count": null,
   "id": "5be65503",
   "metadata": {},
   "outputs": [],
   "source": [
    "# fig, ax = plt.subplots(12,len(target_figures), figsize=(len(target_figures) * 10, 120))\n",
    "# for r in range(12):\n",
    "#     adata = adata_l[r]\n",
    "#     for c in range(len(target_figures)):\n",
    "#         sc.pl.spatial(adata, color = target_figures[c], img_key=\"hires\", size = 1.2, ax = ax[r, c], show = False, \n",
    "#                       title = tissue_names_unique[r] + \"\\n\" + target_figures[c], colorbar_loc = 'bottom')\n",
    "# fig.savefig(\"B-22-M-81-FN1-SDC1.png\")"
   ]
  },
  {
   "cell_type": "markdown",
   "id": "e056ec5f",
   "metadata": {},
   "source": [
    "# Read in LRs"
   ]
  },
  {
   "cell_type": "code",
   "execution_count": null,
   "id": "16ea98e1",
   "metadata": {},
   "outputs": [],
   "source": [
    "import rdata"
   ]
  },
  {
   "cell_type": "code",
   "execution_count": null,
   "id": "287053ca",
   "metadata": {},
   "outputs": [],
   "source": [
    "parsed = rdata.parser.parse_file(\"./Ligand-Receptor/CellChatDB.human.rda\")\n",
    "converted = rdata.conversion.convert(parsed)"
   ]
  },
  {
   "cell_type": "code",
   "execution_count": null,
   "id": "02057973",
   "metadata": {},
   "outputs": [],
   "source": [
    "#filter out all overlapping genes\n",
    "LR = converted['CellChatDB.human']['interaction'].loc[:, ['ligand', 'receptor']]\n",
    "ST_genes = list(adata_l[0].var_names)\n",
    "LR_common_genes = []\n",
    "for i in range(LR.shape[0]):\n",
    "    if (LR.iloc[i,0] in ST_genes) and (LR.iloc[i,1] in ST_genes):\n",
    "        LR_common_genes.append((LR.iloc[i,0], LR.iloc[i,1]))"
   ]
  },
  {
   "cell_type": "code",
   "execution_count": null,
   "id": "b0317b4c",
   "metadata": {},
   "outputs": [],
   "source": [
    "LR_common_genes = list(set(LR_common_genes))"
   ]
  },
  {
   "cell_type": "code",
   "execution_count": null,
   "id": "275d6766",
   "metadata": {},
   "outputs": [],
   "source": [
    "len(LR_common_genes)"
   ]
  },
  {
   "cell_type": "code",
   "execution_count": null,
   "id": "15c0dbfc",
   "metadata": {},
   "outputs": [],
   "source": [
    "LR_names = []\n",
    "for LR in LR_common_genes:\n",
    "    ligand = LR[0]\n",
    "    receptor = LR[1]\n",
    "    LR_names.append(ligand + '-' + receptor)"
   ]
  },
  {
   "cell_type": "code",
   "execution_count": null,
   "id": "ed5afc22",
   "metadata": {},
   "outputs": [],
   "source": [
    "LR_product = pd.DataFrame(np.zeros((GEM_all_patients.shape[0], len(LR_names))), columns = LR_names)"
   ]
  },
  {
   "cell_type": "code",
   "execution_count": null,
   "id": "a2d7d841",
   "metadata": {},
   "outputs": [],
   "source": [
    "#get ligand-receptor product\n",
    "for LR in tqdm(LR_common_genes):\n",
    "    ligand = LR[0]\n",
    "    receptor = LR[1]\n",
    "    LR_name =ligand + '-' + receptor\n",
    "    LR_exps = []\n",
    "    \n",
    "    for i in range(12):\n",
    "        adata = adata_l[i]\n",
    "        adata.var_names_make_unique()\n",
    "        ligand_exp = adata[:, ligand].X.toarray().flatten()\n",
    "        receptor_exp = adata[:, receptor].X.toarray().flatten()\n",
    "        product = ligand_exp * receptor_exp\n",
    "        LR_exps.append(product)\n",
    "        \n",
    "    LR_exps = np.concatenate(LR_exps)\n",
    "    LR_product.loc[:, LR_name] = LR_exps"
   ]
  },
  {
   "cell_type": "markdown",
   "id": "861075a5",
   "metadata": {},
   "source": [
    "# Combine Them Together"
   ]
  },
  {
   "cell_type": "code",
   "execution_count": null,
   "id": "5b3cb05e",
   "metadata": {},
   "outputs": [],
   "source": [
    "GEM_LR_combined = pd.concat([GEM_all_patients, LR_product], axis = 1)"
   ]
  },
  {
   "cell_type": "code",
   "execution_count": null,
   "id": "4292e334",
   "metadata": {},
   "outputs": [],
   "source": [
    "GEM_LR_combined"
   ]
  },
  {
   "cell_type": "markdown",
   "id": "3329bda8",
   "metadata": {},
   "source": [
    "# Conditional Probabilities (log and lowess)"
   ]
  },
  {
   "cell_type": "markdown",
   "id": "8391cd70",
   "metadata": {},
   "source": [
    "Our hypothesis is GEM X -> Ligand * Receptor -> GEM Y. Thus, we find out correlation coefficient between GEM X and GEM Y, then we conditional on LR product, and check correlation coefficient between GEM X and GEM Y residue. The contribution of LR to GEM Y is described by lowess regression. (Before that we tried log regression)"
   ]
  },
  {
   "cell_type": "code",
   "execution_count": null,
   "id": "89c70782",
   "metadata": {},
   "outputs": [],
   "source": [
    "from scipy.optimize import curve_fit\n",
    "from scipy.stats import linregress\n",
    "import statsmodels.api as sm # to build a LOWESS model\n",
    "import copy"
   ]
  },
  {
   "cell_type": "code",
   "execution_count": null,
   "id": "3cabc355",
   "metadata": {},
   "outputs": [],
   "source": [
    "def clean_outliers(GEM1, GEM2, LR):\n",
    "    assert(len(GEM1) == len(GEM2))\n",
    "    assert(len(GEM2) == len(LR))\n",
    "    \n",
    "    LR_c = copy.deepcopy(LR)\n",
    "    GEM1_c = copy.deepcopy(GEM1)\n",
    "    GEM2_c = copy.deepcopy(GEM2)\n",
    "    \n",
    "    outlier_idx = []\n",
    "    for i in range(len(LR_c)):\n",
    "        if (LR_c[i] == 0) or (GEM1_c[i] == 0) or (GEM2_c[i] == 0):\n",
    "            outlier_idx.append(i)\n",
    "    \n",
    "    LR_c = [LR_c[i] for i in range(len(LR_c)) if i not in outlier_idx]\n",
    "    GEM1_c = [GEM1_c[i] for i in range(len(GEM1_c)) if i not in outlier_idx]\n",
    "    GEM2_c = [GEM2_c[i] for i in range(len(GEM2_c)) if i not in outlier_idx]\n",
    "                 \n",
    "    return GEM1_c, GEM2_c, LR_c"
   ]
  },
  {
   "cell_type": "code",
   "execution_count": null,
   "id": "e458275b",
   "metadata": {},
   "outputs": [],
   "source": [
    "def log_conditional_probability(GEM1, GEM2, LR):\n",
    "    GEM1_c, GEM2_c, LR_c = clean_outliers(GEM1, GEM2, LR)\n",
    "    linearity1, esti1 = try_fit_linear(GEM1_c, GEM2_c)\n",
    "    logarithmic_can_fit, esti2, residue, logarithmic_correlation_coefficient = try_fit_logarithmic(LR_c, GEM2_c)\n",
    "    if logarithmic_can_fit:\n",
    "        linearity2, esti3 = try_fit_linear(GEM1_c, residue)\n",
    "        return GEM1_c, GEM2_c, LR_c, linearity1, esti1, esti2, residue, \\\n",
    "                logarithmic_correlation_coefficient, linearity2, esti3\n",
    "    else:\n",
    "        return GEM1_c, GEM2_c, LR_c, linearity1, esti1, None, None, None, None, None"
   ]
  },
  {
   "cell_type": "code",
   "execution_count": null,
   "id": "1827be40",
   "metadata": {},
   "outputs": [],
   "source": [
    "def lowess_conditional_probability(GEM1, GEM2, LR):\n",
    "    GEM1_c, GEM2_c, LR_c = clean_outliers(GEM1, GEM2, LR)\n",
    "    linearity1, esti1 = try_fit_linear(GEM1_c, GEM2_c)\n",
    "    esti_plot, residue = try_fit_lowess(LR_c, GEM2_c)\n",
    "    linearity2, esti3 = try_fit_linear(GEM1_c, residue)\n",
    "    return GEM1_c, GEM2_c, LR_c, linearity1, esti1, esti_plot, residue, linearity2, esti3"
   ]
  },
  {
   "cell_type": "code",
   "execution_count": null,
   "id": "d95c4838",
   "metadata": {},
   "outputs": [],
   "source": [
    "def logarithmic(x, a, b, c):\n",
    "    y = a*np.log(x + b)+c\n",
    "    return y"
   ]
  },
  {
   "cell_type": "code",
   "execution_count": null,
   "id": "8f78f8c4",
   "metadata": {},
   "outputs": [],
   "source": [
    "def linear(x, p):\n",
    "    y = p * x\n",
    "    return y"
   ]
  },
  {
   "cell_type": "code",
   "execution_count": null,
   "id": "7b4c57e7",
   "metadata": {},
   "outputs": [],
   "source": [
    "def fit_logarithmic(xdata, ydata):\n",
    "    initialParameters = np.array([1.0, 1.0, 1.0])\n",
    "    popt_logarithmic, _ = curve_fit(logarithmic, xdata, ydata, initialParameters, method='dogbox', max_nfev=5000)\n",
    "    return popt_logarithmic"
   ]
  },
  {
   "cell_type": "code",
   "execution_count": null,
   "id": "5d95fcd8",
   "metadata": {},
   "outputs": [],
   "source": [
    "def try_fit_logarithmic(x, y):\n",
    "    logarithmic_can_fit = True\n",
    "    try:\n",
    "        popt_logarithmic = fit_logarithmic(x, y)\n",
    "        esti = logarithmic(x, *popt_logarithmic)\n",
    "        logarithmic_correlation_coefficient = np.corrcoef(y, esti)[0, 1] ** 2\n",
    "        residue = y - esti\n",
    "\n",
    "    except:\n",
    "        logarithmic_can_fit = False\n",
    "        \n",
    "    if logarithmic_can_fit:\n",
    "        return logarithmic_can_fit, esti, residue, logarithmic_correlation_coefficient\n",
    "    else:\n",
    "        return logarithmic_can_fit, None, None, None"
   ]
  },
  {
   "cell_type": "code",
   "execution_count": null,
   "id": "ca8ac4c4",
   "metadata": {},
   "outputs": [],
   "source": [
    "def try_fit_lowess(x, y):\n",
    "    esti= sm.nonparametric.lowess(y, x, frac=0.2, return_sorted = False)\n",
    "    residue = y - esti\n",
    "    esti_plot = sm.nonparametric.lowess(y, x, frac=0.2, return_sorted = True)\n",
    "    return esti_plot, residue"
   ]
  },
  {
   "cell_type": "code",
   "execution_count": null,
   "id": "9cafc287",
   "metadata": {},
   "outputs": [],
   "source": [
    "def try_fit_linear(x, y):\n",
    "    linear_can_fit = True\n",
    "    try:\n",
    "        slope, intercept, r_value, p_value, std_err = linregress(x, y)\n",
    "        esti = slope * np.array(x) + intercept\n",
    "        linear_correlation_coefficient = r_value**2\n",
    "        \n",
    "    except:\n",
    "        linear_can_fit = False\n",
    " \n",
    "    \n",
    "    if linear_can_fit:\n",
    "        return linear_correlation_coefficient, esti\n",
    "    else:\n",
    "        return 0, None\n"
   ]
  },
  {
   "cell_type": "code",
   "execution_count": null,
   "id": "9938acf9",
   "metadata": {},
   "outputs": [],
   "source": [
    "GEM1 = GEM_LR_combined.loc[:, 'B cell GEM 22']\n",
    "GEM2 = GEM_LR_combined.loc[:, 'Myeloid GEM 81']\n",
    "LR = GEM_LR_combined.loc[:, 'FN1-SDC1']"
   ]
  },
  {
   "cell_type": "code",
   "execution_count": null,
   "id": "cdd9e32e",
   "metadata": {},
   "outputs": [],
   "source": [
    "def sort_pair(list_a, list_b):\n",
    "    #sort according to com1\n",
    "    list_a_c = copy.deepcopy(list_a)\n",
    "    list_b_c = copy.deepcopy(list_b)\n",
    "    sorted_list_a = [a for a,_ in sorted(zip(list_a_c, list_b_c))]\n",
    "    sorted_list_b = [b for _,b in sorted(zip(list_a_c, list_b_c))]\n",
    "    return sorted_list_a, sorted_list_b"
   ]
  },
  {
   "cell_type": "code",
   "execution_count": null,
   "id": "164163af",
   "metadata": {},
   "outputs": [],
   "source": [
    "def plot_linearity(GEM1_name, GEM2_name, LR_name, GEM1_c, GEM2_c, LR_c, GEM1_c_s, esti1, esti_plot, esti3, residue, linearity1, linearity2):\n",
    "    fig, ax = plt.subplots(1,2, figsize=(20, 8))\n",
    "    ax[0].scatter(GEM1_c, GEM2_c, color = \"blue\")\n",
    "    ax[0].plot(GEM1_c_s, esti1, color = \"orange\", label = \"GEM1 vs GEM2: %.3f\" %linearity1, linestyle='dashed')\n",
    "    ax[0].scatter(GEM1_c, residue, color = \"red\", alpha = 0.1)\n",
    "    ax[0].plot(GEM1_c_s, esti3, color = \"green\", label = \"GEM1 vs GEM2 Residue: %.3f\" %linearity2, linestyle='dashed')\n",
    "    ax[0].legend(loc = 'upper left')\n",
    "    ax[0].set_title(\"GEM1: %s vs GEM2: %s\" %(GEM1_name, GEM2_name))\n",
    "    ax[0].set_xlabel(\"GEM1: %s\" %GEM1_name)\n",
    "    ax[0].set_ylabel(\"GEM2: %s\" %GEM2_name)\n",
    "\n",
    "    ax[1].scatter(LR_c, GEM2_c, color = \"blue\")\n",
    "    ax[1].plot(esti_plot[:,0], esti_plot[:,1], color = \"red\", label = \"LR vs GEM2 lowess fit\", \n",
    "               linestyle='dashed')\n",
    "    ax[1].legend(loc = 'upper left')\n",
    "    ax[1].set_title(\"LR Product: %s vs GEM2: %s\"%(LR_name, GEM2_name))\n",
    "    ax[1].set_xlabel(\"LR product: %s\" %LR_name)\n",
    "    ax[1].set_ylabel(\"GEM2: %s\" %GEM2_name)\n",
    "    \n",
    "    path = \"./GEM_vis/GEM_corr_png/cosine/Patterns_LRs/Patterns_Global_Scatter_Linearity/\"\n",
    "    file_name = \"%s-%s-%s\" %(GEM1_name, GEM2_name, LR_name)\n",
    "    fig.savefig(path+file_name)\n",
    "    plt.close(fig)   "
   ]
  },
  {
   "cell_type": "code",
   "execution_count": null,
   "id": "d57a70e0",
   "metadata": {},
   "outputs": [],
   "source": [
    "def global_plot_conditional_prob(GEM1_name, GEM2_name, LR_name):\n",
    "    GEM1 = GEM_LR_combined.loc[:, GEM1_name]\n",
    "    GEM2 = GEM_LR_combined.loc[:, GEM2_name]\n",
    "    LR = GEM_LR_combined.loc[:, LR_name]\n",
    "    \n",
    "    try:\n",
    "        GEM1_c, GEM2_c, LR_c, linearity1, esti1, esti_plot, residue, linearity2, esti3 = \\\n",
    "        lowess_conditional_probability(GEM1, GEM2, LR)\n",
    "        GEM1_c_s, esti1 = sort_pair(GEM1_c, esti1)\n",
    "        GEM1_c_s, esti3 = sort_pair(GEM1_c, esti3)\n",
    "        plot_linearity(GEM1_name, GEM2_name, LR_name, GEM1_c, GEM2_c, LR_c, GEM1_c_s, esti1, \n",
    "                       esti_plot, esti3, residue, linearity1, linearity2)\n",
    "    \n",
    "    except:\n",
    "        print(\"%s, %s, %s, cannot fit!\"%(GEM1_name, GEM2_name, LR_name))\n",
    "    "
   ]
  },
  {
   "cell_type": "code",
   "execution_count": null,
   "id": "c88289fa",
   "metadata": {},
   "outputs": [],
   "source": [
    "global_plot_conditional_prob('B cell GEM 22', 'Myeloid GEM 81', 'FN1-SDC1')"
   ]
  },
  {
   "cell_type": "markdown",
   "id": "5de29260",
   "metadata": {},
   "source": [
    "# Plot All GEM Patterns"
   ]
  },
  {
   "cell_type": "code",
   "execution_count": null,
   "id": "3b52d710",
   "metadata": {},
   "outputs": [],
   "source": [
    "import pickle\n",
    "with open(\"common_LRs_per_pair\", \"rb\") as file:\n",
    "    common_LRs_per_pair=pickle.load(file)"
   ]
  },
  {
   "cell_type": "code",
   "execution_count": null,
   "id": "62cac406",
   "metadata": {},
   "outputs": [],
   "source": [
    "pattern_candidates = []\n",
    "for GEM_pair, LRs in common_LRs_per_pair.items():\n",
    "    for LR in LRs:\n",
    "        pattern_candidates.append((GEM_pair[0], GEM_pair[1], LR))"
   ]
  },
  {
   "cell_type": "code",
   "execution_count": null,
   "id": "816bf936",
   "metadata": {},
   "outputs": [],
   "source": [
    "for pattern in tqdm(pattern_candidates):\n",
    "    global_plot_conditional_prob(pattern[0], pattern[1], pattern[2])"
   ]
  }
 ],
 "metadata": {
  "kernelspec": {
   "display_name": "Scanpy(Python)",
   "language": "python",
   "name": "cello_env"
  },
  "language_info": {
   "codemirror_mode": {
    "name": "ipython",
    "version": 3
   },
   "file_extension": ".py",
   "mimetype": "text/x-python",
   "name": "python",
   "nbconvert_exporter": "python",
   "pygments_lexer": "ipython3",
   "version": "3.7.13"
  }
 },
 "nbformat": 4,
 "nbformat_minor": 5
}
