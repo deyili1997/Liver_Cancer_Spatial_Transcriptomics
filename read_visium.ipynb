{
 "cells": [
  {
   "cell_type": "code",
   "execution_count": null,
   "id": "cb2df4d1",
   "metadata": {
    "scrolled": true
   },
   "outputs": [],
   "source": [
    "import scanpy as sc\n",
    "import matplotlib.pyplot as plt\n",
    "import numpy as np\n",
    "import anndata as ad\n",
    "import pandas as pd\n",
    "from harmony import harmonize"
   ]
  },
  {
   "cell_type": "code",
   "execution_count": null,
   "id": "cee49416",
   "metadata": {
    "scrolled": true
   },
   "outputs": [],
   "source": [
    "from IPython.display import display, HTML\n",
    "display(HTML(\"<style>.container { width:100% !important; }</style>\"))"
   ]
  },
  {
   "cell_type": "code",
   "execution_count": null,
   "id": "0b8c3cf2",
   "metadata": {},
   "outputs": [],
   "source": [
    "sc.set_figure_params(fontsize = 20, dpi=50, dpi_save=50)"
   ]
  },
  {
   "cell_type": "markdown",
   "id": "05d322bd",
   "metadata": {},
   "source": [
    "# Single Visium Analysis"
   ]
  },
  {
   "cell_type": "code",
   "execution_count": null,
   "id": "93b6ad16",
   "metadata": {
    "scrolled": true
   },
   "outputs": [],
   "source": [
    "def prepare_for_umap(adata, resolution = 0.5, n_top_genes=2000, n_comps=50, batch_effects = False, df_metadata = None):\n",
    "    sc.pp.normalize_total(adata, inplace=True)\n",
    "    print('Finish normalization!')\n",
    "    sc.pp.log1p(adata)\n",
    "    sc.pp.highly_variable_genes(adata, flavor=\"seurat\", n_top_genes=n_top_genes)\n",
    "    sc.pp.pca(adata, n_comps, use_highly_variable = True)\n",
    "    print('Finish PCA!')\n",
    "    \n",
    "    if batch_effects:\n",
    "        X_PCA = adata.obsm['X_pca'].copy()\n",
    "        print(\"Processing shape: \", X_PCA.shape)\n",
    "        corr_PCA = harmonize(X_PCA, df_metadata, batch_key = 'Sample ID')\n",
    "        print(\"Finish correction!\")\n",
    "        adata.obsm['X_pca'] = corr_PCA\n",
    "        \n",
    "    sc.pp.neighbors(adata, use_rep = 'X_pca')\n",
    "    sc.tl.umap(adata)\n",
    "    sc.tl.leiden(adata, key_added=\"clusters\", resolution = resolution)"
   ]
  },
  {
   "cell_type": "code",
   "execution_count": null,
   "id": "5bbeea6f",
   "metadata": {
    "scrolled": true
   },
   "outputs": [],
   "source": [
    "HCC_1N = './raw_data/Adjacent/HCC-1N'\n",
    "HCC_2N = './raw_data/Adjacent/HCC-2N'\n",
    "HCC_3N = './raw_data/Adjacent/HCC-3N'\n",
    "HCC_4N = './raw_data/Adjacent/HCC-4N'\n",
    "\n",
    "HCC_1L = './raw_data/Leading_Edge/HCC-1L'\n",
    "HCC_2L = './raw_data/Leading_Edge/HCC-2L'\n",
    "HCC_3L = './raw_data/Leading_Edge/HCC-3L'\n",
    "HCC_4L = './raw_data/Leading_Edge/HCC-4L'\n",
    "\n",
    "HCC_1T = './raw_data/Primary_Tumor/HCC-1T'\n",
    "HCC_2T = './raw_data/Primary_Tumor/HCC-2T'\n",
    "HCC_3T = './raw_data/Primary_Tumor/HCC-3T'\n",
    "HCC_4T = './raw_data/Primary_Tumor/HCC-4T'\n",
    "\n",
    "visium_paths = [HCC_1N, HCC_2N, HCC_3N, HCC_4N, HCC_1L, HCC_2L, HCC_3L, HCC_4L, HCC_1T, HCC_2T, HCC_3T, HCC_4T]\n",
    "visium_names = ['HCC-'+ str(i + 1) + 'N-Adjacent'for i in range(4)] + \\\n",
    "               ['HCC-'+ str(i + 1) + 'L-Leading_Edge'for i in range(4)] + \\\n",
    "               ['HCC-'+ str(i + 1) + 'T-Primary_Tumor'for i in range(4)]"
   ]
  },
  {
   "cell_type": "code",
   "execution_count": null,
   "id": "9d1e963f",
   "metadata": {
    "scrolled": true
   },
   "outputs": [],
   "source": [
    "adata_l = []\n",
    "for i in range(12):\n",
    "    adata = sc.read_visium(visium_paths[i])\n",
    "    adata_l.append(adata)"
   ]
  },
  {
   "cell_type": "code",
   "execution_count": null,
   "id": "437fdbe1",
   "metadata": {
    "scrolled": true
   },
   "outputs": [],
   "source": [
    "SC_genes = pd.read_csv('genes_for_nHDP.txt', header = None).values.reshape(-1).tolist()"
   ]
  },
  {
   "cell_type": "code",
   "execution_count": null,
   "id": "3d3ad8e7",
   "metadata": {
    "scrolled": true
   },
   "outputs": [],
   "source": [
    "len(SC_genes)"
   ]
  },
  {
   "cell_type": "code",
   "execution_count": null,
   "id": "586aca7f",
   "metadata": {
    "scrolled": true
   },
   "outputs": [],
   "source": [
    "ST_genes = adata_l[0].var_names"
   ]
  },
  {
   "cell_type": "code",
   "execution_count": null,
   "id": "97d8c355",
   "metadata": {
    "scrolled": true
   },
   "outputs": [],
   "source": [
    "len(ST_genes)"
   ]
  },
  {
   "cell_type": "code",
   "execution_count": null,
   "id": "6f262b8f",
   "metadata": {
    "scrolled": true
   },
   "outputs": [],
   "source": [
    "common_genes = []\n",
    "for g in SC_genes:\n",
    "    if g in ST_genes:\n",
    "        common_genes.append(g)"
   ]
  },
  {
   "cell_type": "code",
   "execution_count": null,
   "id": "2220d5f0",
   "metadata": {
    "scrolled": true
   },
   "outputs": [],
   "source": [
    "len(common_genes)"
   ]
  },
  {
   "cell_type": "code",
   "execution_count": null,
   "id": "a5311002",
   "metadata": {
    "scrolled": true
   },
   "outputs": [],
   "source": [
    "with open('common_genes.txt', 'w') as f:\n",
    "    for gene in common_genes:\n",
    "        f.write(f\"{gene}\\n\")"
   ]
  },
  {
   "cell_type": "code",
   "execution_count": null,
   "id": "d0410618",
   "metadata": {
    "scrolled": false
   },
   "outputs": [],
   "source": [
    "fig, ax = plt.subplots(3,4, figsize=(20,20))\n",
    "for r in range(3):\n",
    "    for c in range(4):\n",
    "        adata = adata_l[4*r + c]\n",
    "        sc.pl.spatial(adata, img_key=\"hires\", size = 0.3, ax = ax[r, c], show = False, title = visium_names[4*r + c])\n",
    "        plt.tight_layout(pad=2.0)\n",
    "plt.show()"
   ]
  },
  {
   "cell_type": "code",
   "execution_count": null,
   "id": "c60d7fc8",
   "metadata": {
    "scrolled": true
   },
   "outputs": [],
   "source": [
    "for i in range(12):\n",
    "    adata = adata_l[i]\n",
    "    adata.var[\"mt\"] = adata.var_names.str.startswith(\"MT-\")\n",
    "    sc.pp.calculate_qc_metrics(adata, qc_vars=[\"mt\"], inplace=True)"
   ]
  },
  {
   "cell_type": "code",
   "execution_count": null,
   "id": "cdabca75",
   "metadata": {},
   "outputs": [],
   "source": [
    "patient1_adata = [adata_l[8], adata_l[4], adata_l[0]]\n",
    "patient1_names = [visium_names[8], visium_names[4], visium_names[0]]"
   ]
  },
  {
   "cell_type": "code",
   "execution_count": null,
   "id": "85b57a0a",
   "metadata": {},
   "outputs": [],
   "source": [
    "fig, ax = plt.subplots(1,3, figsize=(30,10))\n",
    "for r in range(3):\n",
    "    adata = patient1_adata[r]\n",
    "    adata.var_names_make_unique()\n",
    "    sc.pl.violin(adata, 'total_counts', ax = ax[r], show = False, title = patient1_names[r])\n",
    "plt.show()"
   ]
  },
  {
   "cell_type": "code",
   "execution_count": null,
   "id": "2bff9e57",
   "metadata": {},
   "outputs": [],
   "source": [
    "fig, ax = plt.subplots(1,3, figsize=(30,10))\n",
    "for r in range(3):\n",
    "    adata = patient1_adata[r]\n",
    "    adata.var_names_make_unique()\n",
    "    sc.pl.spatial(adata, color = 'total_counts', img_key=\"hires\", colorbar_loc = 'bottom', size = 1.5, ax = ax[r], show = False, title = patient1_names[r])\n",
    "plt.show()"
   ]
  },
  {
   "cell_type": "code",
   "execution_count": null,
   "id": "9e785058",
   "metadata": {
    "scrolled": true
   },
   "outputs": [],
   "source": [
    "fig, ax = plt.subplots(3,4, figsize=(20,20))\n",
    "for r in range(3):\n",
    "    for c in range(4):\n",
    "        adata = adata_l[4*r + c]\n",
    "        adata.var_names_make_unique()\n",
    "        sc.pl.violin(adata, 'n_genes_by_counts', ax = ax[r,c], show = False, title = visium_names[4*r + c])\n",
    "plt.show()"
   ]
  },
  {
   "cell_type": "code",
   "execution_count": null,
   "id": "481099e4",
   "metadata": {
    "scrolled": true
   },
   "outputs": [],
   "source": [
    "fig, ax = plt.subplots(3,4, figsize=(25,20))\n",
    "for r in range(3):\n",
    "    for c in range(4):\n",
    "        adata = adata_l[4*r + c]\n",
    "        adata.var_names_make_unique()\n",
    "        sc.pl.violin(adata, 'total_counts', ax = ax[r,c], show = False, title = visium_names[4*r + c])\n",
    "plt.show()"
   ]
  },
  {
   "cell_type": "code",
   "execution_count": null,
   "id": "79ac8486",
   "metadata": {
    "scrolled": true
   },
   "outputs": [],
   "source": [
    "fig, ax = plt.subplots(3,4, figsize=(20,20))\n",
    "for r in range(3):\n",
    "    for c in range(4):\n",
    "        adata = adata_l[4*r + c]\n",
    "        adata.var_names_make_unique()\n",
    "        sc.pl.violin(adata, 'pct_counts_mt', ax = ax[r,c], show = False, title = visium_names[4*r + c])\n",
    "plt.show()"
   ]
  },
  {
   "cell_type": "code",
   "execution_count": null,
   "id": "a000cdf7",
   "metadata": {
    "scrolled": true
   },
   "outputs": [],
   "source": [
    "fig, ax = plt.subplots(3,4, figsize=(25,20))\n",
    "for r in range(3):\n",
    "    for c in range(4):\n",
    "        adata = adata_l[4*r + c]\n",
    "        sc.pl.spatial(adata, color = 'total_counts', img_key=\"hires\", colorbar_loc = 'bottom', size = 1.5, ax = ax[r, c], show = False, title = visium_names[4*r + c], legend_fontsize = 8)\n",
    "        plt.tight_layout(pad=2.0)\n",
    "plt.show()"
   ]
  },
  {
   "cell_type": "code",
   "execution_count": null,
   "id": "4fd530d4",
   "metadata": {
    "scrolled": true
   },
   "outputs": [],
   "source": [
    "fig, ax = plt.subplots(3,4, figsize=(20,20))\n",
    "for r in range(3):\n",
    "    for c in range(4):\n",
    "        adata = adata_l[4*r + c]\n",
    "        sc.pl.spatial(adata, color = 'n_genes_by_counts', img_key=\"hires\", size = 1.5, ax = ax[r, c], show = False, title = visium_names[4*r + c], legend_fontsize = 8)\n",
    "        plt.tight_layout(pad=2.0)\n",
    "plt.show()"
   ]
  },
  {
   "cell_type": "code",
   "execution_count": null,
   "id": "b8576471",
   "metadata": {
    "scrolled": true
   },
   "outputs": [],
   "source": [
    "for i in range(12):\n",
    "    adata = adata_l[i]\n",
    "    prepare_for_umap(adata)"
   ]
  },
  {
   "cell_type": "code",
   "execution_count": null,
   "id": "16fefff5",
   "metadata": {
    "scrolled": true
   },
   "outputs": [],
   "source": [
    "fig, ax = plt.subplots(3,4, figsize=(30,20))\n",
    "for r in range(3):\n",
    "    for c in range(4):\n",
    "        adata = adata_l[4*r + c]\n",
    "        adata.var_names_make_unique()\n",
    "        sc.pl.umap(adata, color=\"total_counts\", wspace=0.4, ax = ax[r, c], show = False, title = visium_names[4*r + c])\n",
    "plt.show()"
   ]
  },
  {
   "cell_type": "code",
   "execution_count": null,
   "id": "15cbdb3f",
   "metadata": {
    "scrolled": true
   },
   "outputs": [],
   "source": [
    "fig, ax = plt.subplots(3,4, figsize=(30,20))\n",
    "for r in range(3):\n",
    "    for c in range(4):\n",
    "        adata = adata_l[4*r + c]\n",
    "        adata.var_names_make_unique()\n",
    "        sc.pl.umap(adata, color=\"n_genes_by_counts\", wspace=0.4, ax = ax[r, c], show = False, title = visium_names[4*r + c])\n",
    "plt.show()"
   ]
  },
  {
   "cell_type": "code",
   "execution_count": null,
   "id": "235899cb",
   "metadata": {
    "scrolled": true
   },
   "outputs": [],
   "source": [
    "fig, ax = plt.subplots(3,4, figsize=(30,20))\n",
    "for r in range(3):\n",
    "    for c in range(4):\n",
    "        adata = adata_l[4*r + c]\n",
    "        adata.var_names_make_unique()\n",
    "        sc.pl.umap(adata, color=\"clusters\", wspace=0.4, ax = ax[r, c], show = False, title = visium_names[4*r + c])\n",
    "plt.show()"
   ]
  },
  {
   "cell_type": "code",
   "execution_count": null,
   "id": "ff392ce6",
   "metadata": {
    "scrolled": true
   },
   "outputs": [],
   "source": [
    "fig, ax = plt.subplots(3,4, figsize=(20,20))\n",
    "for r in range(3):\n",
    "    for c in range(4):\n",
    "        adata = adata_l[4*r + c]\n",
    "        sc.pl.spatial(adata, color = 'clusters', img_key=\"hires\", size = 1.5, ax = ax[r, c], show = False, title = visium_names[4*r + c], legend_fontsize = 8)\n",
    "        plt.tight_layout(pad=2.0)\n",
    "plt.show()"
   ]
  },
  {
   "cell_type": "markdown",
   "id": "28381136",
   "metadata": {},
   "source": [
    "# Pooling Visiums by Class"
   ]
  },
  {
   "cell_type": "code",
   "execution_count": null,
   "id": "4d6a0aed",
   "metadata": {
    "scrolled": true
   },
   "outputs": [],
   "source": [
    "#reload all the visiums and only get X\n",
    "adata_X = []\n",
    "for i in range(12):\n",
    "    adata = sc.read_visium(visium_paths[i])\n",
    "    adata_X.append(adata.X.toarray())"
   ]
  },
  {
   "cell_type": "code",
   "execution_count": null,
   "id": "438caf5d",
   "metadata": {
    "scrolled": true
   },
   "outputs": [],
   "source": [
    "Adjacent_X = np.concatenate((adata_X[0], adata_X[1], adata_X[2], adata_X[3]), axis = 0)\n",
    "Leading_Edge_X = np.concatenate((adata_X[4], adata_X[5], adata_X[6], adata_X[7]), axis = 0)\n",
    "Primary_Tumor_X = np.concatenate((adata_X[8], adata_X[9], adata_X[10], adata_X[11]), axis = 0)"
   ]
  },
  {
   "cell_type": "code",
   "execution_count": null,
   "id": "a792050b",
   "metadata": {
    "scrolled": true
   },
   "outputs": [],
   "source": [
    "Adjacent_id = []\n",
    "for i in range(4):   \n",
    "    Adjacent_id += [visium_names[i] for j in range(len(adata_X[i]))]\n",
    "\n",
    "Leading_Edge_id = []\n",
    "for i in range(4, 8):   \n",
    "    Leading_Edge_id += [visium_names[i] for j in range(len(adata_X[i]))]\n",
    "    \n",
    "Primary_Tumor_id = []\n",
    "for i in range(8, 12):   \n",
    "    Primary_Tumor_id += [visium_names[i] for j in range(len(adata_X[i]))]"
   ]
  },
  {
   "cell_type": "code",
   "execution_count": null,
   "id": "bcfb1134",
   "metadata": {
    "scrolled": true
   },
   "outputs": [],
   "source": [
    "Adjacent_adata = ad.AnnData(X = Adjacent_X, dtype=np.int32)\n",
    "Adjacent_adata.var_names = adata_l[0].var_names\n",
    "Adjacent_adata.var_names_make_unique()\n",
    "Adjacent_adata.obs['Sample ID'] = Adjacent_id\n",
    "\n",
    "Leading_Edge_adata = ad.AnnData(X = Leading_Edge_X, dtype=np.int32)\n",
    "Leading_Edge_adata.var_names = adata_l[0].var_names\n",
    "Leading_Edge_adata.var_names_make_unique()\n",
    "Leading_Edge_adata.obs['Sample ID'] = Leading_Edge_id\n",
    "\n",
    "Primary_Tumor_adata = ad.AnnData(X = Primary_Tumor_X, dtype=np.int32)\n",
    "Primary_Tumor_adata.var_names = adata_l[0].var_names\n",
    "Primary_Tumor_adata.var_names_make_unique()\n",
    "Primary_Tumor_adata.obs['Sample ID'] = Primary_Tumor_id"
   ]
  },
  {
   "cell_type": "code",
   "execution_count": null,
   "id": "06f607a4",
   "metadata": {
    "scrolled": true
   },
   "outputs": [],
   "source": [
    "Adjacent_adata.var[\"mt\"] = Adjacent_adata.var_names.str.startswith(\"MT-\")\n",
    "sc.pp.calculate_qc_metrics(Adjacent_adata, qc_vars=[\"mt\"], inplace=True)\n",
    "\n",
    "Leading_Edge_adata.var[\"mt\"] = Leading_Edge_adata.var_names.str.startswith(\"MT-\")\n",
    "sc.pp.calculate_qc_metrics(Leading_Edge_adata, qc_vars=[\"mt\"], inplace=True)\n",
    "\n",
    "Primary_Tumor_adata.var[\"mt\"] = Primary_Tumor_adata.var_names.str.startswith(\"MT-\")\n",
    "sc.pp.calculate_qc_metrics(Primary_Tumor_adata, qc_vars=[\"mt\"], inplace=True)"
   ]
  },
  {
   "cell_type": "code",
   "execution_count": null,
   "id": "a7471a4e",
   "metadata": {
    "scrolled": true
   },
   "outputs": [],
   "source": [
    "prepare_for_umap(Adjacent_adata)\n",
    "prepare_for_umap(Leading_Edge_adata)\n",
    "prepare_for_umap(Primary_Tumor_adata)"
   ]
  },
  {
   "cell_type": "code",
   "execution_count": null,
   "id": "e36d69fb",
   "metadata": {
    "scrolled": true
   },
   "outputs": [],
   "source": [
    "sc.pl.umap(Adjacent_adata, color=[\"total_counts\", \"n_genes_by_counts\", \"clusters\", \"Sample ID\"], wspace=0.4)\n",
    "sc.pl.umap(Leading_Edge_adata, color=[\"total_counts\", \"n_genes_by_counts\", \"clusters\", \"Sample ID\"], wspace=0.4)\n",
    "sc.pl.umap(Primary_Tumor_adata, color=[\"total_counts\", \"n_genes_by_counts\", \"clusters\", \"Sample ID\"], wspace=0.4)"
   ]
  },
  {
   "cell_type": "markdown",
   "id": "e65e2fd3",
   "metadata": {},
   "source": [
    "# Pool Visiums by Patients"
   ]
  },
  {
   "cell_type": "code",
   "execution_count": null,
   "id": "6e465488",
   "metadata": {
    "scrolled": true
   },
   "outputs": [],
   "source": [
    "HCC_1N = './Adjacent/HCC-1N'\n",
    "HCC_2N = './Adjacent/HCC-2N'\n",
    "HCC_3N = './Adjacent/HCC-3N'\n",
    "HCC_4N = './Adjacent/HCC-4N'\n",
    "\n",
    "HCC_1L = './Leading_Edge/HCC-1L'\n",
    "HCC_2L = './Leading_Edge/HCC-2L'\n",
    "HCC_3L = './Leading_Edge/HCC-3L'\n",
    "HCC_4L = './Leading_Edge/HCC-4L'\n",
    "\n",
    "HCC_1T = './Primary_Tumor/HCC-1T'\n",
    "HCC_2T = './Primary_Tumor/HCC-2T'\n",
    "HCC_3T = './Primary_Tumor/HCC-3T'\n",
    "HCC_4T = './Primary_Tumor/HCC-4T'\n",
    "\n",
    "visium_paths = [HCC_1N, HCC_2N, HCC_3N, HCC_4N, HCC_1L, HCC_2L, HCC_3L, HCC_4L, HCC_1T, HCC_2T, HCC_3T, HCC_4T]\n",
    "visium_names = ['HCC-'+ str(i + 1) + 'N-Adjacent'for i in range(4)] + \\\n",
    "               ['HCC-'+ str(i + 1) + 'L-Leading_Edge'for i in range(4)] + \\\n",
    "               ['HCC-'+ str(i + 1) + 'T-Primary_Tumor'for i in range(4)]"
   ]
  },
  {
   "cell_type": "code",
   "execution_count": null,
   "id": "c1064926",
   "metadata": {
    "scrolled": true
   },
   "outputs": [],
   "source": [
    "adata_l_new = []\n",
    "adata_X_new = []\n",
    "for i in range(12):\n",
    "    adata = sc.read_visium(visium_paths[i])\n",
    "    adata_l_new.append(adata)\n",
    "    adata_X_new.append(adata.X.toarray())"
   ]
  },
  {
   "cell_type": "code",
   "execution_count": null,
   "id": "5b65b3e4",
   "metadata": {
    "scrolled": true
   },
   "outputs": [],
   "source": [
    "Patient1_X = np.concatenate((adata_X_new[0], adata_X_new[4], adata_X_new[8]), axis = 0)\n",
    "Patient2_X = np.concatenate((adata_X_new[1], adata_X_new[5], adata_X_new[9]), axis = 0)\n",
    "Patient3_X = np.concatenate((adata_X_new[2], adata_X_new[6], adata_X_new[10]), axis = 0)\n",
    "Patient4_X = np.concatenate((adata_X_new[3], adata_X_new[7], adata_X_new[11]), axis = 0)"
   ]
  },
  {
   "cell_type": "code",
   "execution_count": null,
   "id": "4b00b576",
   "metadata": {
    "scrolled": true
   },
   "outputs": [],
   "source": [
    "Patient1_id = [visium_names[0] for j in range(len(adata_X_new[0]))] + [visium_names[4] for j in range(len(adata_X_new[4]))] + [visium_names[8] for j in range(len(adata_X_new[8]))]\n",
    "Patient2_id = [visium_names[1] for j in range(len(adata_X_new[1]))] + [visium_names[5] for j in range(len(adata_X_new[5]))] + [visium_names[9] for j in range(len(adata_X_new[9]))]\n",
    "Patient3_id = [visium_names[2] for j in range(len(adata_X_new[2]))] + [visium_names[6] for j in range(len(adata_X_new[6]))] + [visium_names[10] for j in range(len(adata_X_new[10]))]\n",
    "Patient4_id = [visium_names[3] for j in range(len(adata_X_new[3]))] + [visium_names[7] for j in range(len(adata_X_new[7]))] + [visium_names[11] for j in range(len(adata_X_new[11]))]"
   ]
  },
  {
   "cell_type": "code",
   "execution_count": null,
   "id": "2ac5dcd9",
   "metadata": {
    "scrolled": true
   },
   "outputs": [],
   "source": [
    "Patient1_adata = ad.AnnData(X = Patient1_X, dtype=np.int32)\n",
    "Patient1_adata.var_names = adata_l_new[0].var_names\n",
    "Patient1_adata.var_names_make_unique()\n",
    "Patient1_adata.obs['Sample ID'] = Patient1_id\n",
    "\n",
    "Patient2_adata = ad.AnnData(X = Patient2_X, dtype=np.int32)\n",
    "Patient2_adata.var_names = adata_l_new[0].var_names\n",
    "Patient2_adata.var_names_make_unique()\n",
    "Patient2_adata.obs['Sample ID'] = Patient2_id\n",
    "\n",
    "Patient3_adata = ad.AnnData(X = Patient3_X, dtype=np.int32)\n",
    "Patient3_adata.var_names = adata_l_new[0].var_names\n",
    "Patient3_adata.var_names_make_unique()\n",
    "Patient3_adata.obs['Sample ID'] = Patient3_id\n",
    "\n",
    "Patient4_adata = ad.AnnData(X = Patient4_X, dtype=np.int32)\n",
    "Patient4_adata.var_names = adata_l_new[0].var_names\n",
    "Patient4_adata.var_names_make_unique()\n",
    "Patient4_adata.obs['Sample ID'] = Patient4_id"
   ]
  },
  {
   "cell_type": "code",
   "execution_count": null,
   "id": "1b912244",
   "metadata": {
    "scrolled": true
   },
   "outputs": [],
   "source": [
    "Patient1_adata.var[\"mt\"] = Patient1_adata.var_names.str.startswith(\"MT-\")\n",
    "sc.pp.calculate_qc_metrics(Patient1_adata, qc_vars=[\"mt\"], inplace=True)\n",
    "\n",
    "Patient2_adata.var[\"mt\"] = Patient2_adata.var_names.str.startswith(\"MT-\")\n",
    "sc.pp.calculate_qc_metrics(Patient2_adata, qc_vars=[\"mt\"], inplace=True)\n",
    "\n",
    "Patient3_adata.var[\"mt\"] = Patient3_adata.var_names.str.startswith(\"MT-\")\n",
    "sc.pp.calculate_qc_metrics(Patient3_adata, qc_vars=[\"mt\"], inplace=True)\n",
    "\n",
    "Patient4_adata.var[\"mt\"] = Patient4_adata.var_names.str.startswith(\"MT-\")\n",
    "sc.pp.calculate_qc_metrics(Patient4_adata, qc_vars=[\"mt\"], inplace=True)"
   ]
  },
  {
   "cell_type": "raw",
   "id": "1f070b3e",
   "metadata": {},
   "source": [
    "In detail, we first combined the expression matrixes of each patient’s all sections and performed normalization, log-transformation, centering, and scaling on them. Next, we identified 2000 highly variable genes according to their expression means and variances. On the basis of them, principal components analysis (PCA) was performed to project the spots into a low-dimensional space, which was defined by the first 20 principal components (PCs)."
   ]
  },
  {
   "cell_type": "code",
   "execution_count": null,
   "id": "601650f7",
   "metadata": {
    "scrolled": true
   },
   "outputs": [],
   "source": [
    "prepare_for_umap(Patient1_adata, resolution = 0.3, n_top_genes=2000, n_comps=20, batch_effects = True, df_metadata = pd.DataFrame(Patient1_id, columns = ['Sample ID']))"
   ]
  },
  {
   "cell_type": "code",
   "execution_count": null,
   "id": "a59ea4a8",
   "metadata": {
    "scrolled": true
   },
   "outputs": [],
   "source": [
    "sc.pl.umap(Patient1_adata, color=[\"total_counts\", \"n_genes_by_counts\",\"clusters\", \"Sample ID\"], wspace=0.4)"
   ]
  },
  {
   "cell_type": "code",
   "execution_count": null,
   "id": "bc7520d0",
   "metadata": {
    "scrolled": true
   },
   "outputs": [],
   "source": [
    "HCC_N_cluster = Patient1_adata.obs['clusters'][0: len(adata_X_new[0])]\n",
    "adata_l_new[0].obs['cluster_corr'] = HCC_N_cluster.values"
   ]
  },
  {
   "cell_type": "code",
   "execution_count": null,
   "id": "d79f6b4d",
   "metadata": {
    "scrolled": true
   },
   "outputs": [],
   "source": [
    "HCC_L_cluster = Patient1_adata.obs['clusters'][len(adata_X_new[0]): (len(adata_X_new[0]) + len(adata_X_new[4]))]\n",
    "adata_l_new[4].obs['cluster_corr'] = HCC_L_cluster.values"
   ]
  },
  {
   "cell_type": "code",
   "execution_count": null,
   "id": "c733fdd9",
   "metadata": {
    "scrolled": true
   },
   "outputs": [],
   "source": [
    "HCC_T_cluster = Patient1_adata.obs['clusters'][(len(adata_X_new[0]) + len(adata_X_new[4])): (len(adata_X_new[0]) + len(adata_X_new[4])+ len(adata_X_new[8]))]\n",
    "adata_l_new[8].obs['cluster_corr'] = HCC_T_cluster.values"
   ]
  },
  {
   "cell_type": "code",
   "execution_count": null,
   "id": "69e14bdb",
   "metadata": {
    "scrolled": true
   },
   "outputs": [],
   "source": [
    "fig, ax = plt.subplots(1,3, figsize=(30,10))\n",
    "sc.pl.spatial(adata_l_new[8], color = 'cluster_corr', img_key=\"hires\", ax = ax[0], size = 1.5, show = False, title = visium_names[8], legend_fontsize = 10)\n",
    "sc.pl.spatial(adata_l_new[4], color = 'cluster_corr', img_key=\"hires\", ax = ax[1], size = 1.5, show = False, title = visium_names[4], legend_fontsize = 10)\n",
    "sc.pl.spatial(adata_l_new[0], color = 'cluster_corr', img_key=\"hires\", ax = ax[2], size = 1.5, show = False, title = visium_names[0], legend_fontsize = 10)\n",
    "plt.show()"
   ]
  },
  {
   "cell_type": "code",
   "execution_count": null,
   "id": "3deeab3b",
   "metadata": {
    "scrolled": true
   },
   "outputs": [],
   "source": [
    "prepare_for_umap(Patient2_adata, resolution = 0.1, n_top_genes=2000, n_comps=20, batch_effects = True, df_metadata = pd.DataFrame(Patient2_id, columns = ['Sample ID']))"
   ]
  },
  {
   "cell_type": "code",
   "execution_count": null,
   "id": "93c457e0",
   "metadata": {
    "scrolled": true
   },
   "outputs": [],
   "source": [
    "sc.pl.umap(Patient2_adata, color=[\"total_counts\", \"n_genes_by_counts\",\"clusters\", \"Sample ID\"], wspace=0.4)"
   ]
  },
  {
   "cell_type": "code",
   "execution_count": null,
   "id": "864cb556",
   "metadata": {
    "scrolled": true
   },
   "outputs": [],
   "source": [
    "HCC_N_cluster = Patient2_adata.obs['clusters'][0: len(adata_X_new[1])]\n",
    "adata_l_new[1].obs['cluster_corr'] = HCC_N_cluster.values\n",
    "HCC_L_cluster = Patient2_adata.obs['clusters'][len(adata_X_new[1]): (len(adata_X_new[1]) + len(adata_X_new[5]))]\n",
    "adata_l_new[5].obs['cluster_corr'] = HCC_L_cluster.values\n",
    "HCC_T_cluster = Patient2_adata.obs['clusters'][(len(adata_X_new[1]) + len(adata_X_new[5])): (len(adata_X_new[1]) + len(adata_X_new[5])+ len(adata_X_new[9]))]\n",
    "adata_l_new[9].obs['cluster_corr'] = HCC_T_cluster.values"
   ]
  },
  {
   "cell_type": "code",
   "execution_count": null,
   "id": "287350e1",
   "metadata": {
    "scrolled": true
   },
   "outputs": [],
   "source": [
    "fig, ax = plt.subplots(1,3, figsize=(30,10))\n",
    "sc.pl.spatial(adata_l_new[1], color = 'cluster_corr', img_key=\"hires\", ax = ax[0], size = 1.5, show = False, title = visium_names[1], legend_fontsize = 10)\n",
    "sc.pl.spatial(adata_l_new[5], color = 'cluster_corr', img_key=\"hires\", ax = ax[1], size = 1.5, show = False, title = visium_names[5], legend_fontsize = 10)\n",
    "sc.pl.spatial(adata_l_new[9], color = 'cluster_corr', img_key=\"hires\", ax = ax[2], size = 1.5, show = False, title = visium_names[9], legend_fontsize = 10)\n",
    "plt.show()"
   ]
  },
  {
   "cell_type": "code",
   "execution_count": null,
   "id": "188694e6",
   "metadata": {
    "scrolled": true
   },
   "outputs": [],
   "source": [
    "prepare_for_umap(Patient3_adata, resolution = 0.1, n_top_genes=2000, n_comps=20, batch_effects = True, df_metadata = pd.DataFrame(Patient3_id, columns = ['Sample ID']))"
   ]
  },
  {
   "cell_type": "code",
   "execution_count": null,
   "id": "35464e68",
   "metadata": {
    "scrolled": true
   },
   "outputs": [],
   "source": [
    "sc.pl.umap(Patient3_adata, color=[\"total_counts\", \"n_genes_by_counts\",\"clusters\", \"Sample ID\"], wspace=0.4)"
   ]
  },
  {
   "cell_type": "code",
   "execution_count": null,
   "id": "3ccbf9b8",
   "metadata": {
    "scrolled": true
   },
   "outputs": [],
   "source": [
    "HCC_N_cluster = Patient3_adata.obs['clusters'][0: len(adata_X_new[2])]\n",
    "adata_l_new[2].obs['cluster_corr'] = HCC_N_cluster.values\n",
    "HCC_L_cluster = Patient3_adata.obs['clusters'][len(adata_X_new[2]): (len(adata_X_new[2]) + len(adata_X_new[6]))]\n",
    "adata_l_new[6].obs['cluster_corr'] = HCC_L_cluster.values\n",
    "HCC_T_cluster = Patient3_adata.obs['clusters'][(len(adata_X_new[2]) + len(adata_X_new[6])): (len(adata_X_new[2]) + len(adata_X_new[6])+ len(adata_X_new[10]))]\n",
    "adata_l_new[10].obs['cluster_corr'] = HCC_T_cluster.values"
   ]
  },
  {
   "cell_type": "code",
   "execution_count": null,
   "id": "7fe93824",
   "metadata": {
    "scrolled": true
   },
   "outputs": [],
   "source": [
    "fig, ax = plt.subplots(1,3, figsize=(30,10))\n",
    "sc.pl.spatial(adata_l_new[2], color = 'cluster_corr', img_key=\"hires\", ax = ax[0], size = 1.5, show = False, title = visium_names[2], legend_fontsize = 10)\n",
    "sc.pl.spatial(adata_l_new[6], color = 'cluster_corr', img_key=\"hires\", ax = ax[1], size = 1.5, show = False, title = visium_names[6], legend_fontsize = 10)\n",
    "sc.pl.spatial(adata_l_new[10], color = 'cluster_corr', img_key=\"hires\", ax = ax[2], size = 1.5, show = False, title = visium_names[10], legend_fontsize = 10)\n",
    "plt.show()"
   ]
  },
  {
   "cell_type": "code",
   "execution_count": null,
   "id": "45fbebca",
   "metadata": {
    "scrolled": true
   },
   "outputs": [],
   "source": [
    "prepare_for_umap(Patient4_adata, resolution = 0.1, n_top_genes=2000, n_comps=20, batch_effects = True, df_metadata = pd.DataFrame(Patient4_id, columns = ['Sample ID']))"
   ]
  },
  {
   "cell_type": "code",
   "execution_count": null,
   "id": "76453cba",
   "metadata": {
    "scrolled": true
   },
   "outputs": [],
   "source": [
    "sc.pl.umap(Patient4_adata, color=[\"total_counts\", \"n_genes_by_counts\",\"clusters\", \"Sample ID\"], wspace=0.4)"
   ]
  },
  {
   "cell_type": "code",
   "execution_count": null,
   "id": "abf08aab",
   "metadata": {
    "scrolled": true
   },
   "outputs": [],
   "source": [
    "HCC_N_cluster = Patient4_adata.obs['clusters'][0: len(adata_X_new[3])]\n",
    "adata_l_new[3].obs['cluster_corr'] = HCC_N_cluster.values\n",
    "HCC_L_cluster = Patient4_adata.obs['clusters'][len(adata_X_new[3]): (len(adata_X_new[3]) + len(adata_X_new[7]))]\n",
    "adata_l_new[7].obs['cluster_corr'] = HCC_L_cluster.values\n",
    "HCC_T_cluster = Patient4_adata.obs['clusters'][(len(adata_X_new[3]) + len(adata_X_new[7])): (len(adata_X_new[3]) + len(adata_X_new[7])+ len(adata_X_new[11]))]\n",
    "adata_l_new[11].obs['cluster_corr'] = HCC_T_cluster.values"
   ]
  },
  {
   "cell_type": "code",
   "execution_count": null,
   "id": "13114a54",
   "metadata": {
    "scrolled": true
   },
   "outputs": [],
   "source": [
    "fig, ax = plt.subplots(1,3, figsize=(30,10))\n",
    "sc.pl.spatial(adata_l_new[3], color = 'cluster_corr', img_key=\"hires\", ax = ax[0], size = 1.5, show = False, title = visium_names[3], legend_fontsize = 10)\n",
    "sc.pl.spatial(adata_l_new[7], color = 'cluster_corr', img_key=\"hires\", ax = ax[1], size = 1.5, show = False, title = visium_names[7], legend_fontsize = 10)\n",
    "sc.pl.spatial(adata_l_new[11], color = 'cluster_corr', img_key=\"hires\", ax = ax[2], size = 1.5, show = False, title = visium_names[11], legend_fontsize = 10)\n",
    "plt.show()"
   ]
  }
 ],
 "metadata": {
  "kernelspec": {
   "display_name": "Scanpy(Python)",
   "language": "python",
   "name": "cello_env"
  },
  "language_info": {
   "codemirror_mode": {
    "name": "ipython",
    "version": 3
   },
   "file_extension": ".py",
   "mimetype": "text/x-python",
   "name": "python",
   "nbconvert_exporter": "python",
   "pygments_lexer": "ipython3",
   "version": "3.7.13"
  }
 },
 "nbformat": 4,
 "nbformat_minor": 5
}
