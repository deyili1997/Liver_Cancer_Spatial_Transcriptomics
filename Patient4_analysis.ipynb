{
 "cells": [
  {
   "cell_type": "code",
   "execution_count": null,
   "id": "045a073a",
   "metadata": {
    "scrolled": false
   },
   "outputs": [],
   "source": [
    "import scanpy as sc\n",
    "import numpy as np\n",
    "import pandas as pd\n",
    "import anndata as ad\n",
    "import matplotlib.pyplot as plt\n",
    "from scipy.io import mmread\n",
    "from sklearn.preprocessing import normalize\n",
    "import anndata as ad\n",
    "import matplotlib as mpl\n",
    "from harmony import harmonize\n",
    "sc.set_figure_params(figsize=(6, 6), frameon=False)\n",
    "sc.settings.n_jobs=8"
   ]
  },
  {
   "cell_type": "code",
   "execution_count": null,
   "id": "fd96a699",
   "metadata": {
    "scrolled": true
   },
   "outputs": [],
   "source": [
    "TandNK_ST_inference_T = pd.read_csv('./nHDP/binary_nHDP_count_TNK_4T_final.csv', header = None).transpose().values\n",
    "Stroma_ST_inference_T = pd.read_csv('./nHDP/binary_nHDP_count_Stromal_4T_final.csv', header = None).transpose().values\n",
    "B_cell_ST_inference_T = pd.read_csv('./nHDP/binary_nHDP_count_PlasmaB_4T_final.csv', header = None).transpose().values\n",
    "Epithelial_ST_inference_T = pd.read_csv('./nHDP/binary_nHDP_count_Epithelial_4T_final.csv', header = None).transpose().values\n",
    "Myeloid_ST_inference_T = pd.read_csv('./nHDP/binary_nHDP_count_Myeloid_4T_final.csv', header = None).transpose().values"
   ]
  },
  {
   "cell_type": "code",
   "execution_count": null,
   "id": "d83160ab",
   "metadata": {
    "scrolled": true
   },
   "outputs": [],
   "source": [
    "TandNK_ST_inference_L = pd.read_csv('./nHDP/binary_nHDP_count_TNK_4L_final.csv', header = None).transpose().values\n",
    "Stroma_ST_inference_L = pd.read_csv('./nHDP/binary_nHDP_count_Stromal_4L_final.csv', header = None).transpose().values\n",
    "B_cell_ST_inference_L = pd.read_csv('./nHDP/binary_nHDP_count_PlasmaB_4L_final.csv', header = None).transpose().values\n",
    "Epithelial_ST_inference_L = pd.read_csv('./nHDP/binary_nHDP_count_Epithelial_4L_final.csv', header = None).transpose().values\n",
    "Myeloid_ST_inference_L = pd.read_csv('./nHDP/binary_nHDP_count_Myeloid_4L_final.csv', header = None).transpose().values"
   ]
  },
  {
   "cell_type": "code",
   "execution_count": null,
   "id": "021b8278",
   "metadata": {
    "scrolled": true
   },
   "outputs": [],
   "source": [
    "TandNK_ST_inference_N = pd.read_csv('./nHDP/binary_nHDP_count_TNK_4N_final.csv', header = None).transpose().values\n",
    "Stroma_ST_inference_N = pd.read_csv('./nHDP/binary_nHDP_count_Stromal_4N_final.csv', header = None).transpose().values\n",
    "B_cell_ST_inference_N = pd.read_csv('./nHDP/binary_nHDP_count_PlasmaB_4N_final.csv', header = None).transpose().values\n",
    "Epithelial_ST_inference_N = pd.read_csv('./nHDP/binary_nHDP_count_Epithelial_4N_final.csv', header = None).transpose().values\n",
    "Myeloid_ST_inference_N = pd.read_csv('./nHDP/binary_nHDP_count_Myeloid_4N_final.csv', header = None).transpose().values"
   ]
  },
  {
   "cell_type": "code",
   "execution_count": null,
   "id": "2a9d4d87",
   "metadata": {
    "scrolled": true
   },
   "outputs": [],
   "source": [
    "GEM_combined_T = np.concatenate([TandNK_ST_inference_T, Stroma_ST_inference_T, B_cell_ST_inference_T, \n",
    "                               Epithelial_ST_inference_T, Myeloid_ST_inference_T], axis = 1)\n",
    "GEM_combined_L = np.concatenate([TandNK_ST_inference_L, Stroma_ST_inference_L, B_cell_ST_inference_L, \n",
    "                               Epithelial_ST_inference_L, Myeloid_ST_inference_L], axis = 1)\n",
    "GEM_combined_N = np.concatenate([TandNK_ST_inference_N, Stroma_ST_inference_N, B_cell_ST_inference_N, \n",
    "                               Epithelial_ST_inference_N, Myeloid_ST_inference_N], axis = 1)"
   ]
  },
  {
   "cell_type": "code",
   "execution_count": null,
   "id": "f62b6539",
   "metadata": {
    "scrolled": true
   },
   "outputs": [],
   "source": [
    "spot_n_T = GEM_combined_T.shape[0]\n",
    "spot_n_L = GEM_combined_L.shape[0]\n",
    "spot_n_N = GEM_combined_N.shape[0]"
   ]
  },
  {
   "cell_type": "code",
   "execution_count": null,
   "id": "41be8365",
   "metadata": {
    "scrolled": true
   },
   "outputs": [],
   "source": [
    "GEM_combined = np.concatenate([GEM_combined_T, GEM_combined_L, GEM_combined_N], axis = 0)\n",
    "GEM_combined.shape"
   ]
  },
  {
   "cell_type": "code",
   "execution_count": null,
   "id": "ddda8387",
   "metadata": {
    "scrolled": true
   },
   "outputs": [],
   "source": [
    "#do normalization vertically\n",
    "GEM_combined = normalize(GEM_combined, axis=0, norm='max')"
   ]
  },
  {
   "cell_type": "code",
   "execution_count": null,
   "id": "c510d694",
   "metadata": {
    "scrolled": true
   },
   "outputs": [],
   "source": [
    "adata_combined = ad.AnnData(X=GEM_combined, dtype=np.float64)"
   ]
  },
  {
   "cell_type": "code",
   "execution_count": null,
   "id": "3117f028",
   "metadata": {
    "scrolled": true
   },
   "outputs": [],
   "source": [
    "#remove batch effects among 4 slides of this patient\n",
    "#prepare for clustering\n",
    "def prepare_for_umap(adata, n_comps=50, batch_effects = False, df_metadata = None):\n",
    "#     sc.pp.normalize_total(adata, inplace=True)\n",
    "#     print('Finish normalization!')\n",
    "#     sc.pp.scale(adata)\n",
    "    sc.pp.pca(adata, n_comps)\n",
    "    print('Finish PCA!')\n",
    "    \n",
    "    if batch_effects:\n",
    "        X_PCA = adata.obsm['X_pca'].copy()\n",
    "        print(\"Processing shape: \", X_PCA.shape)\n",
    "        corr_PCA = harmonize(X_PCA, df_metadata, batch_key = 'Sample ID')\n",
    "        print(\"Finish correction!\")\n",
    "        adata.obsm['X_pca'] = corr_PCA\n",
    "        \n",
    "    sc.pp.neighbors(adata, use_rep = 'X_pca')\n",
    "    sc.tl.umap(adata)"
   ]
  },
  {
   "cell_type": "code",
   "execution_count": null,
   "id": "a6a9e9c8",
   "metadata": {},
   "outputs": [],
   "source": [
    "df_metadata = ['4T' for i in range(spot_n_T)] + ['4L' for i in range(spot_n_L)] + ['4N' for i in range(spot_n_N)]\n",
    "df_metadata = pd.DataFrame(df_metadata, columns = ['Sample ID'])"
   ]
  },
  {
   "cell_type": "code",
   "execution_count": null,
   "id": "8c90a2f1",
   "metadata": {
    "scrolled": true
   },
   "outputs": [],
   "source": [
    "prepare_for_umap(adata_combined, n_comps=50, batch_effects = True, df_metadata = df_metadata)"
   ]
  },
  {
   "cell_type": "code",
   "execution_count": null,
   "id": "0464bad8",
   "metadata": {},
   "outputs": [],
   "source": [
    "sc.tl.leiden(adata_combined, key_added=\"clusters\", resolution = 0.2)"
   ]
  },
  {
   "cell_type": "code",
   "execution_count": null,
   "id": "c26a27f9",
   "metadata": {
    "scrolled": true
   },
   "outputs": [],
   "source": [
    "palette={\n",
    "    \"0\": \"red\",\n",
    "    \"1\": \"pink\",\n",
    "    \"2\": \"blue\",\n",
    "    \"3\": \"yellow\",\n",
    "    \"4\": \"purple\",\n",
    "    \"5\": \"brown\",\n",
    "    \"6\": \"green\",\n",
    "    \"7\": \"orange\",\n",
    "    \"8\": \"indigo\",\n",
    "    \"9\": \"black\",\n",
    "    \"10\": \"Cyan\",\n",
    "    \"11\": \"Lime\",\n",
    "    \"12\": \"Beige\",\n",
    "    \"13\":\"white\",\n",
    "    \"14\":\"Gold\",\n",
    "    \"15\": \"Gray\",\n",
    "    \"16\": \"Aqua\",\n",
    "}"
   ]
  },
  {
   "cell_type": "code",
   "execution_count": null,
   "id": "272b5a50",
   "metadata": {
    "scrolled": true
   },
   "outputs": [],
   "source": [
    "adata_combined.obs['batch_id'] = df_metadata.values"
   ]
  },
  {
   "cell_type": "code",
   "execution_count": null,
   "id": "099530be",
   "metadata": {
    "scrolled": true
   },
   "outputs": [],
   "source": [
    "sc.tl.umap(adata_combined, min_dist = 0.3, spread = 1)\n",
    "\n",
    "# show regions in UMAP coordinates\n",
    "with mpl.rc_context({'axes.facecolor':  'white',\n",
    "                     'figure.figsize': [8, 8]}):\n",
    "    sc.pl.umap(adata_combined, color=['clusters'], size=30,\n",
    "               color_map = 'RdPu', ncols = 2, legend_loc='on data',\n",
    "               legend_fontsize=20, palette = palette)"
   ]
  },
  {
   "cell_type": "code",
   "execution_count": null,
   "id": "ee3dd581",
   "metadata": {
    "scrolled": true
   },
   "outputs": [],
   "source": [
    "HCC_1N = './raw_data/Adjacent/HCC-1N'\n",
    "HCC_2N = './raw_data/Adjacent/HCC-2N'\n",
    "HCC_3N = './raw_data/Adjacent/HCC-3N'\n",
    "HCC_4N = './raw_data/Adjacent/HCC-4N'\n",
    "\n",
    "HCC_1L = './raw_data/Leading_Edge/HCC-1L'\n",
    "HCC_2L = './raw_data/Leading_Edge/HCC-2L'\n",
    "HCC_3L = './raw_data/Leading_Edge/HCC-3L'\n",
    "HCC_4L = './raw_data/Leading_Edge/HCC-4L'\n",
    "\n",
    "HCC_1T = './raw_data/Primary_Tumor/HCC-1T'\n",
    "HCC_2T = './raw_data/Primary_Tumor/HCC-2T'\n",
    "HCC_3T = './raw_data/Primary_Tumor/HCC-3T'\n",
    "HCC_4T = './raw_data/Primary_Tumor/HCC-4T'\n",
    "\n",
    "visium_paths = [HCC_1N, HCC_2N, HCC_3N, HCC_4N, HCC_1L, HCC_2L, HCC_3L, HCC_4L, HCC_1T, HCC_2T, HCC_3T, HCC_4T]\n",
    "visium_names = ['HCC-'+ str(i + 1) + 'N-Adjacent'for i in range(4)] + \\\n",
    "               ['HCC-'+ str(i + 1) + 'L-Leading_Edge'for i in range(4)] + \\\n",
    "               ['HCC-'+ str(i + 1) + 'T-Primary_Tumor'for i in range(4)]"
   ]
  },
  {
   "cell_type": "code",
   "execution_count": null,
   "id": "e56f31ad",
   "metadata": {
    "scrolled": true
   },
   "outputs": [],
   "source": [
    "adata_l = []\n",
    "for i in range(12):\n",
    "    adata = sc.read_visium(visium_paths[i])\n",
    "    adata_l.append(adata)"
   ]
  },
  {
   "cell_type": "code",
   "execution_count": null,
   "id": "6416f26f",
   "metadata": {
    "scrolled": true
   },
   "outputs": [],
   "source": [
    "adata_T = adata_l[11]\n",
    "adata_L = adata_l[7]\n",
    "adata_N = adata_l[3]"
   ]
  },
  {
   "cell_type": "code",
   "execution_count": null,
   "id": "e7f8ca81",
   "metadata": {
    "scrolled": true
   },
   "outputs": [],
   "source": [
    "cluster_res = list(adata_combined.obs[\"clusters\"])"
   ]
  },
  {
   "cell_type": "code",
   "execution_count": null,
   "id": "ae400a42",
   "metadata": {
    "scrolled": true
   },
   "outputs": [],
   "source": [
    "adata_T.obs['cluster'] = cluster_res[0 : spot_n_T]\n",
    "adata_L.obs['cluster'] = cluster_res[spot_n_T : spot_n_T + spot_n_L] \n",
    "adata_N.obs['cluster'] = cluster_res[spot_n_T + spot_n_L : ]"
   ]
  },
  {
   "cell_type": "code",
   "execution_count": null,
   "id": "0046322f",
   "metadata": {
    "scrolled": false
   },
   "outputs": [],
   "source": [
    "#plot raw image and clustering results\n",
    "fig, ax = plt.subplots(2,3, figsize=(20,10))\n",
    "sc.pl.spatial(adata_T, img_key=\"hires\", alpha_img = 1, ax = ax[0, 2], show = False, title = 'HCC-4T-HE-staining')\n",
    "sc.pl.spatial(adata_L, img_key=\"hires\", alpha_img = 1, ax = ax[0, 1], show = False, title = 'HCC-4L-HE-staining')\n",
    "sc.pl.spatial(adata_N, img_key=\"hires\", alpha_img = 1, ax = ax[0, 0], show = False, title = 'HCC-4N-HE-staining')\n",
    "sc.pl.spatial(adata_T, color = 'cluster', img_key=\"hires\", alpha_img = 0.3, palette = palette, ax = ax[1, 2], show = False, title = 'HCC-4T-GEM-cluster')\n",
    "sc.pl.spatial(adata_L, color = 'cluster', img_key=\"hires\", alpha_img = 0.3, palette = palette, ax = ax[1, 1], show = False, title = 'HCC-4L-GEM-cluster')\n",
    "sc.pl.spatial(adata_N, color = 'cluster', img_key=\"hires\", alpha_img = 0.3, palette = palette, ax = ax[1, 0], show = False, title = 'HCC-4N-GEM-cluster')\n",
    "plt.show()"
   ]
  },
  {
   "cell_type": "markdown",
   "id": "74bac345",
   "metadata": {},
   "source": [
    "# Extract Data for Further Analysis"
   ]
  },
  {
   "cell_type": "code",
   "execution_count": null,
   "id": "7dcf3f34",
   "metadata": {},
   "outputs": [],
   "source": [
    "T_cluster = pd.DataFrame(adata_T.obs['cluster'].values, columns = ['cluster'])\n",
    "N_cluster = pd.DataFrame(adata_N.obs['cluster'].values, columns = ['cluster'])\n",
    "L_cluster = pd.DataFrame(adata_L.obs['cluster'].values, columns = ['cluster'])"
   ]
  },
  {
   "cell_type": "code",
   "execution_count": null,
   "id": "3ed8c3c4",
   "metadata": {},
   "outputs": [],
   "source": [
    "T_cluster.to_csv('./ClusterMap/P4T.csv', index = None)\n",
    "N_cluster.to_csv('./ClusterMap/P4N.csv', index = None)\n",
    "L_cluster.to_csv('./ClusterMap/P4L.csv', index = None)"
   ]
  }
 ],
 "metadata": {
  "kernelspec": {
   "display_name": "Scanpy(Python)",
   "language": "python",
   "name": "cello_env"
  },
  "language_info": {
   "codemirror_mode": {
    "name": "ipython",
    "version": 3
   },
   "file_extension": ".py",
   "mimetype": "text/x-python",
   "name": "python",
   "nbconvert_exporter": "python",
   "pygments_lexer": "ipython3",
   "version": "3.7.13"
  }
 },
 "nbformat": 4,
 "nbformat_minor": 5
}
