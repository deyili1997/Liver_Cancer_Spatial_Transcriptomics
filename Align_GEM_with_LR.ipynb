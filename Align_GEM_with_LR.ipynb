{
 "cells": [
  {
   "cell_type": "code",
   "execution_count": null,
   "id": "289fb5fb",
   "metadata": {},
   "outputs": [],
   "source": [
    "import numpy as np\n",
    "import matplotlib.pyplot as plt\n",
    "import os\n",
    "from numpy.linalg import norm\n",
    "import scanpy as sc\n",
    "import pandas as pd\n",
    "import anndata as ad\n",
    "import cv2\n",
    "import copy"
   ]
  },
  {
   "cell_type": "code",
   "execution_count": null,
   "id": "d3077711",
   "metadata": {},
   "outputs": [],
   "source": [
    "all_lr_filenames = os.listdir('./Ligand-Receptor/slide_lr_diffusion_without_normalization/')\n",
    "all_GEM_filenames = os.listdir('./Ligand-Receptor/slide_correlated_GEMs/cosine/')"
   ]
  },
  {
   "cell_type": "code",
   "execution_count": null,
   "id": "4586a42b",
   "metadata": {},
   "outputs": [],
   "source": [
    "def get_name(f, name = 'lr'):\n",
    "    dash_count = 0\n",
    "    start = 0\n",
    "    end = 0\n",
    "    for c in range(len(f)):\n",
    "        if f[c] == '-':\n",
    "            dash_count += 1\n",
    "        if name == 'lr':\n",
    "            if dash_count == 2:\n",
    "                start = c + 1\n",
    "                break\n",
    "        else:        \n",
    "            if dash_count == 4:\n",
    "                start = c + 1\n",
    "                break  \n",
    "    return f[start:-4]"
   ]
  },
  {
   "cell_type": "markdown",
   "id": "4a5326d1",
   "metadata": {},
   "source": [
    "For each slide, we have Top30 most correlated GEM pairs.\n",
    "For eahc Slide, we have LR pair and their products."
   ]
  },
  {
   "cell_type": "code",
   "execution_count": null,
   "id": "246dfe60",
   "metadata": {},
   "outputs": [],
   "source": [
    "path_lr = './Ligand-Receptor/slide_lr_diffusion/'\n",
    "slides_lr = dict()\n",
    "for i in range(12):\n",
    "    slides_lr[\"slide\" + str(i)] = dict()\n",
    "\n",
    "for f in all_lr_filenames:\n",
    "    lr_name = get_name(f, 'lr')\n",
    "    for i in range(12):\n",
    "        slide_name = \"slide-\" + str(i) + '-'\n",
    "        if f.startswith(slide_name):\n",
    "            slides_lr[\"slide\" + str(i)][lr_name] = np.loadtxt(path_lr + f)"
   ]
  },
  {
   "cell_type": "code",
   "execution_count": null,
   "id": "69a9d32a",
   "metadata": {},
   "outputs": [],
   "source": [
    "path_GEM = './Ligand-Receptor/slide_correlated_GEMs/cosine/'\n",
    "slides_GEM = dict()\n",
    "for i in range(12):\n",
    "    slides_GEM[\"slide\" + str(i)] = dict()\n",
    "\n",
    "for f in all_GEM_filenames:\n",
    "    for i in range(12):\n",
    "        for j in range(30):\n",
    "            slide_name = \"slide-\" + str(i) + \"-pair\" + '-' + str(j) + \"-\"\n",
    "            if f.startswith(slide_name):\n",
    "                GEM_name = get_name(f, 'GEM')\n",
    "                slides_GEM[\"slide\" + str(i)][GEM_name] = np.loadtxt(path_GEM + f)"
   ]
  },
  {
   "cell_type": "markdown",
   "id": "55458b30",
   "metadata": {},
   "source": [
    "# Alignment between GEM and LR"
   ]
  },
  {
   "cell_type": "markdown",
   "id": "a97085ab",
   "metadata": {},
   "source": [
    "found_patterns means that a GEM pair shows up in more than 2 slides' Top30 correlated GEM pairs"
   ]
  },
  {
   "cell_type": "code",
   "execution_count": null,
   "id": "fb06cea7",
   "metadata": {},
   "outputs": [],
   "source": [
    "found_patterns = ''\n",
    "with open(r'found_patterns.txt','r') as f:\n",
    "         for i in f.readlines():\n",
    "            found_patterns=i #string\n",
    "found_patterns = eval(found_patterns) # this is orignal dict with instace dict"
   ]
  },
  {
   "cell_type": "markdown",
   "id": "8060df68",
   "metadata": {},
   "source": [
    "For all these found_patterns GEM pairs, for each slide they showed up, use the average of this 2 GEMs to represent them(thus from 2 vector to 1 vector), then use cosine similarity to match 2 GEMs with LR products on this slide. Find out top 10 most corrected GEM pair-LR"
   ]
  },
  {
   "cell_type": "code",
   "execution_count": null,
   "id": "fa3760dc",
   "metadata": {},
   "outputs": [],
   "source": [
    "Top_10_LRs_per_slide_per_pair = dict()\n",
    "for pair, slides in found_patterns.items():\n",
    "    Top_10_LRs_per_slide_per_pair[pair] = dict()\n",
    "    for slide in slides:\n",
    "        Top_10_LRs_per_slide_per_pair[pair]['slide' + str(slide)] = []"
   ]
  },
  {
   "cell_type": "code",
   "execution_count": null,
   "id": "d0b41ed5",
   "metadata": {},
   "outputs": [],
   "source": [
    "def get_cosine_similarity(A, B):\n",
    "    return np.dot(A,B)/(norm(A)*norm(B))"
   ]
  },
  {
   "cell_type": "code",
   "execution_count": null,
   "id": "08240695",
   "metadata": {},
   "outputs": [],
   "source": [
    "for pair, slides in Top_10_LRs_per_slide_per_pair.items():\n",
    "    GEM1 = pair[0]\n",
    "    GEM2 = pair[1]\n",
    "    for slide in slides.keys():\n",
    "        GEM_pair_average = (slides_GEM[slide][GEM1] + slides_GEM[slide][GEM2]) / 2\n",
    "        cosine_score = []\n",
    "        for LR_name, val in slides_lr[slide].items():\n",
    "            cosine_score.append((LR_name, get_cosine_similarity(GEM_pair_average, val)))\n",
    "        cosine_score = sorted(cosine_score, key=lambda tup: tup[1], reverse = True)\n",
    "        for i in range(10):\n",
    "            Top_10_LRs_per_slide_per_pair[pair][slide].append(cosine_score[i][0])"
   ]
  },
  {
   "cell_type": "markdown",
   "id": "79a947e6",
   "metadata": {},
   "source": [
    "Here we try to find LR pairs that exist in all slides in a pattern."
   ]
  },
  {
   "cell_type": "code",
   "execution_count": null,
   "id": "1bac56f4",
   "metadata": {},
   "outputs": [],
   "source": [
    "def common_member(p):\n",
    "    result = set(p[0])\n",
    "    for s in p[1:]:\n",
    "        result.intersection_update(s)\n",
    "    return list(result)"
   ]
  },
  {
   "cell_type": "code",
   "execution_count": null,
   "id": "7b080848",
   "metadata": {},
   "outputs": [],
   "source": [
    "common_LRs_per_pair = dict()\n",
    "for pair, slides in Top_10_LRs_per_slide_per_pair.items():\n",
    "    LR_of_slides = []\n",
    "    for _, LRs in slides.items():\n",
    "        LR_of_slides.append(LRs)\n",
    "    common_LRs_per_pair[pair] = common_member(LR_of_slides)\n",
    "\n",
    "for k in list(common_LRs_per_pair.keys()):   \n",
    "    if len(common_LRs_per_pair[k]) == 0:\n",
    "        del common_LRs_per_pair[k]"
   ]
  },
  {
   "cell_type": "code",
   "execution_count": null,
   "id": "aec4d298",
   "metadata": {},
   "outputs": [],
   "source": [
    "common_LRs_per_pair"
   ]
  },
  {
   "cell_type": "markdown",
   "id": "ae876267",
   "metadata": {},
   "source": [
    "# Plot"
   ]
  },
  {
   "cell_type": "code",
   "execution_count": null,
   "id": "ac6a6933",
   "metadata": {},
   "outputs": [],
   "source": [
    "HCC_1T = './raw_data/Primary_Tumor/HCC-1T'\n",
    "HCC_1L = './raw_data/Leading_Edge/HCC-1L'\n",
    "HCC_1N = './raw_data/Adjacent/HCC-1N'\n",
    "\n",
    "HCC_2T = './raw_data/Primary_Tumor/HCC-2T'\n",
    "HCC_2L = './raw_data/Leading_Edge/HCC-2L'\n",
    "HCC_2N = './raw_data/Adjacent/HCC-2N'\n",
    "\n",
    "HCC_3T = './raw_data/Primary_Tumor/HCC-3T'\n",
    "HCC_3L = './raw_data/Leading_Edge/HCC-3L'\n",
    "HCC_3N = './raw_data/Adjacent/HCC-3N'\n",
    "\n",
    "HCC_4T = './raw_data/Primary_Tumor/HCC-4T'\n",
    "HCC_4L = './raw_data/Leading_Edge/HCC-4L'\n",
    "HCC_4N = './raw_data/Adjacent/HCC-4N'\n",
    "\n",
    "visium_paths = [HCC_1T, HCC_1L, HCC_1N, HCC_2T, HCC_2L, HCC_2N,\n",
    "                HCC_3T, HCC_3L, HCC_3N, HCC_4T, HCC_4L, HCC_4N]\n",
    "tissue_names_unique = ['Patient 1 Primary Tumor', \n",
    "                       'Patient 1 Leading Edge', \n",
    "                       'Patient 1 Ajacent Area',\n",
    "                       'Patient 2 Primary Tumor', \n",
    "                       'Patient 2 Leading Edge', \n",
    "                       'Patient 2 Ajacent Area', \n",
    "                       'Patient 3 Primary Tumor', \n",
    "                       'Patient 3 Leading Edge', \n",
    "                       'Patient 3 Ajacent Area',\n",
    "                       'Patient 4 Primary Tumor', \n",
    "                       'Patient 4 Leading Edge', \n",
    "                       'Patient 4 Ajacent Area']"
   ]
  },
  {
   "cell_type": "code",
   "execution_count": null,
   "id": "ec01562a",
   "metadata": {},
   "outputs": [],
   "source": [
    "adata_l = []\n",
    "for i in range(12):\n",
    "    adata = sc.read_visium(visium_paths[i])\n",
    "    adata_l.append(adata)"
   ]
  },
  {
   "cell_type": "code",
   "execution_count": null,
   "id": "ec160081",
   "metadata": {},
   "outputs": [],
   "source": [
    "# def concatenate_img(img_pathes, GEM_pair, method = 'v'):\n",
    "#     imgs = []\n",
    "#     for path in img_pathes:\n",
    "#         img = cv2.imread(path)\n",
    "#         imgs.append(img)\n",
    "#     if method == 'v':\n",
    "#         im_v = cv2.vconcat(imgs)\n",
    "#     elif method == 'h':\n",
    "#         im_v = cv2.hconcat(imgs)\n",
    "#     file_path = './GEM_vis/GEM_corr_png/cosine/Patterns_LRs_general/' + GEM_pair[0] + '-' + GEM_pair[1] + '.png'\n",
    "#     cv2.imwrite(file_path, im_v)\n",
    "#     return file_path"
   ]
  },
  {
   "cell_type": "code",
   "execution_count": null,
   "id": "58d6bcdd",
   "metadata": {},
   "outputs": [],
   "source": [
    "# sc.set_figure_params(fontsize = 40, dpi=50, dpi_save=50)\n",
    "\n",
    "# counter = 0\n",
    "# for pair, slides in Top_10_LRs_per_slide_per_pair.items():\n",
    "#     counter += 1\n",
    "#     print(\"Progress: %d / %d\" %(counter, len(Top_10_LRs_per_slide_per_pair)))\n",
    "#     file_addresses = []\n",
    "#     for slide in slides.keys():\n",
    "#         fig, ax = plt.subplots(2,5, figsize=(55, 20))\n",
    "#         for k, LR in enumerate(Top_10_LRs_per_slide_per_pair[pair][slide]):\n",
    "#             adata_idx = int(slide[5:])\n",
    "#             adata = adata_l[adata_idx]\n",
    "#             adata.obs[LR] = slides_lr[slide][LR]\n",
    "#             sc.pl.spatial(adata, img_key=\"hires\", color=LR, ax = ax[k // 5, k % 5], vmin = 0, vmax = 'p95', alpha_img = 0.2,\n",
    "#                       alpha = 1, color_map = 'Purples', colorbar_loc = 'bottom', title = 'Top' + str(k+1) + ' LR: ' + LR, show = False)\n",
    "#             ax[k // 5, k % 5].set_xlabel('')\n",
    "#             ax[k // 5, k % 5].set_ylabel('')\n",
    "#         file_address = './GEM_vis/GEM_corr_png/cosine/Patterns_LRs/' + str(pair[0]) + \\\n",
    "#         '-' + str(pair[1]) + '-' + slide + '.png'\n",
    "#         fig.savefig(file_address)\n",
    "#         plt.close(fig)\n",
    "#         file_addresses.append(file_address)\n",
    "        \n",
    "#     top10LR_path = concatenate_img(file_addresses, pair, 'v')\n",
    "#     for path in file_addresses:\n",
    "#         os.remove(path)\n",
    "#     GEM_pair_img_path = './GEM_vis/GEM_corr_png/cosine/Patterns/' + str(pair[0]) + \\\n",
    "#         '-' + str(pair[1]) + '.png'\n",
    "#     concatenate_img([GEM_pair_img_path, top10LR_path], pair, 'h')"
   ]
  },
  {
   "cell_type": "markdown",
   "id": "24d6f43d",
   "metadata": {},
   "source": [
    "Concatenated version: merge all slides in a pattern"
   ]
  },
  {
   "cell_type": "code",
   "execution_count": null,
   "id": "10707f86",
   "metadata": {},
   "outputs": [],
   "source": [
    "concat_GEM_pairs = dict()\n",
    "concat_LRs = dict()\n",
    "for pair, LRs in common_LRs_per_pair.items():\n",
    "    concat_GEM_pairs[pair] = dict()\n",
    "    concat_LRs[pair] = dict()\n",
    "    \n",
    "    GEM1 = pair[0]\n",
    "    GEM2 = pair[1]\n",
    "    \n",
    "    concat_GEM1 = []\n",
    "    concat_GEM2 = []\n",
    "    \n",
    "    \n",
    "    show_up_slides = found_patterns[pair]\n",
    "    \n",
    "    for s in show_up_slides:\n",
    "        slide = 'slide' + str(s)\n",
    "        concat_GEM1.extend(slides_GEM[slide][GEM1])\n",
    "        concat_GEM2.extend(slides_GEM[slide][GEM2])\n",
    "    \n",
    "    concat_GEM_pairs[pair][GEM1] = concat_GEM1\n",
    "    concat_GEM_pairs[pair][GEM2] = concat_GEM2\n",
    "    \n",
    "    for LR in LRs:\n",
    "        concat_LR = []\n",
    "        for s in show_up_slides:\n",
    "            slide = 'slide' + str(s)\n",
    "            concat_LR.extend(slides_lr[slide][LR])\n",
    "        concat_LRs[pair][LR] = concat_LR"
   ]
  },
  {
   "cell_type": "code",
   "execution_count": null,
   "id": "d87d80fb",
   "metadata": {},
   "outputs": [],
   "source": [
    "def clean_outliers(LR_exp, GEM1_exp, GEM2_exp):\n",
    "    assert(len(LR_exp) == len(GEM1_exp))\n",
    "    assert(len(LR_exp) == len(GEM2_exp))\n",
    "    \n",
    "    LR_exp_c = copy.deepcopy(LR_exp)\n",
    "    GEM1_exp_c = copy.deepcopy(GEM1_exp)\n",
    "    GEM2_exp_c = copy.deepcopy(GEM2_exp)\n",
    "    \n",
    "    outlier_idx = []\n",
    "    for i in range(len(LR_exp)):\n",
    "        if ((LR_exp_c[i] == 0) and (GEM1_exp_c[i] != 0 or GEM2_exp_c[i] != 0)) or \\\n",
    "            ((LR_exp_c[i] != 0) and (GEM1_exp_c[i] == 0 or GEM2_exp_c[i] == 0)) or \\\n",
    "            ((LR_exp_c[i] == 0) and (GEM1_exp_c[i] == 0 and GEM2_exp_c[i] == 0)):\n",
    "            outlier_idx.append(i)\n",
    "    \n",
    "    LR_exp_c = [LR_exp_c[i] for i in range(len(LR_exp_c)) if i not in outlier_idx]\n",
    "    GEM1_exp_c = [GEM1_exp_c[i] for i in range(len(GEM1_exp_c)) if i not in outlier_idx]\n",
    "    GEM2_exp_c = [GEM2_exp_c[i] for i in range(len(GEM2_exp_c)) if i not in outlier_idx]\n",
    "    return LR_exp_c, GEM1_exp_c, GEM2_exp_c"
   ]
  },
  {
   "cell_type": "code",
   "execution_count": null,
   "id": "d268f1d9",
   "metadata": {},
   "outputs": [],
   "source": [
    "plt.rcParams['font.size'] = 50\n",
    "for pair, LRs in concat_LRs.items():\n",
    "    fig, ax = plt.subplots(1,len(LRs), figsize=(len(LRs) * 20, 20))\n",
    "    \n",
    "    for i, (LR, LR_exp) in enumerate(LRs.items()):\n",
    "        GEM1_exp = concat_GEM_pairs[pair][pair[0]]\n",
    "        GEM2_exp = concat_GEM_pairs[pair][pair[1]]\n",
    "        LR_exp_c, GEM1_exp_c, GEM2_exp_c = clean_outliers(LR_exp, GEM1_exp, GEM2_exp)\n",
    "        if len(LRs) > 1:\n",
    "            ax[i].scatter(LR_exp_c, GEM1_exp_c, label = pair[0], alpha = 0.5, s = 80)\n",
    "            ax[i].scatter(LR_exp_c, GEM2_exp_c, label = pair[1], alpha = 0.5, s = 80)\n",
    "            ax[i].legend(loc = 'upper right')\n",
    "            ax[i].set_title(\"GEM Pair: %s-%s \\n Ligand-Receptor: %s \" %(pair[0], pair[1], LR))\n",
    "            ax[i].set_xlabel(\"LR expression\")\n",
    "            ax[i].set_ylabel(\"GEM expression\")\n",
    "        else:\n",
    "            ax.scatter(LR_exp_c, GEM1_exp_c, label = pair[0], alpha = 0.5, s = 80)\n",
    "            ax.scatter(LR_exp_c, GEM2_exp_c, label = pair[1], alpha = 0.5, s = 80)\n",
    "            ax.legend(loc = 'upper right')\n",
    "            ax.set_title(\"GEM Pair: %s-%s \\n Ligand-Receptor: %s \" %(pair[0], pair[1], LR))\n",
    "            ax.set_xlabel(\"LR expression\")\n",
    "            ax.set_ylabel(\"GEM expression\")\n",
    "    plt.tight_layout()\n",
    "    path = \"./GEM_vis/GEM_corr_png/cosine/Patterns_LRs/concat_GEM_LR_corr/\"\n",
    "    file_name = \"%s-%s-%s\" %(pair[0], pair[1], LR)\n",
    "    fig.savefig(path+file_name)\n",
    "    plt.close(fig)"
   ]
  },
  {
   "cell_type": "markdown",
   "id": "2bb887ac",
   "metadata": {},
   "source": [
    "Unconcatenated version, that is plot slides in a pattern separately"
   ]
  },
  {
   "cell_type": "code",
   "execution_count": null,
   "id": "7c993b13",
   "metadata": {},
   "outputs": [],
   "source": [
    "plt.rcParams['font.size'] = 50\n",
    "for pair, LRs in common_LRs_per_pair.items():\n",
    "    show_up_slides = found_patterns[pair]\n",
    "    fig, ax = plt.subplots(len(show_up_slides),len(LRs), figsize=(len(LRs) * 20, len(show_up_slides) * 20))\n",
    "    \n",
    "    for i, s in enumerate(show_up_slides):\n",
    "        slide = 'slide' + str(s)\n",
    "        GEM1_exp = slides_GEM[slide][pair[0]]\n",
    "        GEM2_exp = slides_GEM[slide][pair[1]]\n",
    "        for j, LR in enumerate(LRs):\n",
    "            LR_exp = slides_lr[slide][LR]\n",
    "            LR_exp_c, GEM1_exp_c, GEM2_exp_c = clean_outliers(LR_exp, GEM1_exp, GEM2_exp)\n",
    "            if len(LRs) > 1:\n",
    "                ax[i,j].scatter(LR_exp_c, GEM1_exp_c, label = pair[0], alpha = 0.5, s = 80)\n",
    "                ax[i,j].scatter(LR_exp_c, GEM2_exp_c, label = pair[1], alpha = 0.5, s = 80)\n",
    "                ax[i,j].legend(loc = 'upper right')\n",
    "                ax[i,j].set_title(\"Slide: %s \\n GEM Pair: %s-%s \\n Ligand-Receptor: %s \" %(tissue_names_unique[s], pair[0], pair[1], LR))\n",
    "                ax[i,j].set_xlabel(\"LR expression\")\n",
    "                ax[i,j].set_ylabel(\"GEM expression\")\n",
    "            else:\n",
    "                ax[i].scatter(LR_exp_c, GEM1_exp_c, label = pair[0], alpha = 0.5, s = 80)\n",
    "                ax[i].scatter(LR_exp_c, GEM2_exp_c, label = pair[1], alpha = 0.5, s = 80)\n",
    "                ax[i].legend(loc = 'upper right')\n",
    "                ax[i].set_title(\"Slide: %s \\n GEM Pair: %s-%s \\n Ligand-Receptor: %s \" %(tissue_names_unique[s], pair[0], pair[1], LR))\n",
    "                ax[i].set_xlabel(\"LR expression\")\n",
    "                ax[i].set_ylabel(\"GEM expression\")\n",
    "    \n",
    "    plt.tight_layout()\n",
    "    path = \"./GEM_vis/GEM_corr_png/cosine/Patterns_LRs/inconcat_GEM_LR_corr/\"\n",
    "    file_name = \"%s-%s-%s\" %(pair[0], pair[1], LR)\n",
    "    fig.savefig(path+file_name)\n",
    "    plt.close(fig)   \n",
    "        "
   ]
  }
 ],
 "metadata": {
  "kernelspec": {
   "display_name": "Scanpy(Python)",
   "language": "python",
   "name": "cello_env"
  },
  "language_info": {
   "codemirror_mode": {
    "name": "ipython",
    "version": 3
   },
   "file_extension": ".py",
   "mimetype": "text/x-python",
   "name": "python",
   "nbconvert_exporter": "python",
   "pygments_lexer": "ipython3",
   "version": "3.7.13"
  }
 },
 "nbformat": 4,
 "nbformat_minor": 5
}
