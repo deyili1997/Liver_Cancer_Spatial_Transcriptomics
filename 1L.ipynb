{
 "cells": [
  {
   "cell_type": "code",
   "execution_count": null,
   "id": "94a88c2a",
   "metadata": {},
   "outputs": [],
   "source": [
    "import scanpy as sc\n",
    "import numpy as np\n",
    "import pandas as pd\n",
    "import anndata as ad\n",
    "import matplotlib.pyplot as plt\n",
    "from scipy.io import mmread\n",
    "sc.set_figure_params(figsize=(6, 6), frameon=False)\n",
    "sc.settings.n_jobs=8"
   ]
  },
  {
   "cell_type": "code",
   "execution_count": null,
   "id": "1bb1760d",
   "metadata": {},
   "outputs": [],
   "source": [
    "HCC_1N = './raw_data/Adjacent/HCC-1N'\n",
    "HCC_2N = './raw_data/Adjacent/HCC-2N'\n",
    "HCC_3N = './raw_data/Adjacent/HCC-3N'\n",
    "HCC_4N = './raw_data/Adjacent/HCC-4N'\n",
    "\n",
    "HCC_1L = './raw_data/Leading_Edge/HCC-1L'\n",
    "HCC_2L = './raw_data/Leading_Edge/HCC-2L'\n",
    "HCC_3L = './raw_data/Leading_Edge/HCC-3L'\n",
    "HCC_4L = './raw_data/Leading_Edge/HCC-4L'\n",
    "\n",
    "HCC_1T = './raw_data/Primary_Tumor/HCC-1T'\n",
    "HCC_2T = './raw_data/Primary_Tumor/HCC-2T'\n",
    "HCC_3T = './raw_data/Primary_Tumor/HCC-3T'\n",
    "HCC_4T = './raw_data/Primary_Tumor/HCC-4T'\n",
    "\n",
    "visium_paths = [HCC_1N, HCC_2N, HCC_3N, HCC_4N, HCC_1L, HCC_2L, HCC_3L, HCC_4L, HCC_1T, HCC_2T, HCC_3T, HCC_4T]\n",
    "visium_names = ['HCC-'+ str(i + 1) + 'N-Adjacent'for i in range(4)] + \\\n",
    "               ['HCC-'+ str(i + 1) + 'L-Leading_Edge'for i in range(4)] + \\\n",
    "               ['HCC-'+ str(i + 1) + 'T-Primary_Tumor'for i in range(4)]"
   ]
  },
  {
   "cell_type": "code",
   "execution_count": null,
   "id": "67ceb1b5",
   "metadata": {},
   "outputs": [],
   "source": [
    "adata_l = []\n",
    "for i in range(12):\n",
    "    adata = sc.read_visium(visium_paths[i])\n",
    "    adata_l.append(adata)"
   ]
  },
  {
   "cell_type": "code",
   "execution_count": null,
   "id": "58b87a1b",
   "metadata": {},
   "outputs": [],
   "source": [
    "plt.rcParams['figure.dpi'] = 100\n",
    "plt.rcParams['savefig.dpi'] = 100"
   ]
  },
  {
   "cell_type": "code",
   "execution_count": null,
   "id": "eed11ae0",
   "metadata": {},
   "outputs": [],
   "source": [
    "slice_idx = 4\n",
    "adata = adata_l[slice_idx]"
   ]
  },
  {
   "cell_type": "code",
   "execution_count": null,
   "id": "b284bdca",
   "metadata": {},
   "outputs": [],
   "source": [
    "adata.var_names_make_unique()\n",
    "adata.var[\"mt\"] = adata.var_names.str.startswith(\"MT-\")\n",
    "sc.pp.calculate_qc_metrics(adata, qc_vars=[\"mt\"], inplace=True)"
   ]
  },
  {
   "cell_type": "code",
   "execution_count": null,
   "id": "72ed38ea",
   "metadata": {},
   "outputs": [],
   "source": [
    "sc.pl.spatial(adata, img_key=\"hires\", alpha_img = 1)"
   ]
  },
  {
   "cell_type": "code",
   "execution_count": null,
   "id": "5d719ce3",
   "metadata": {},
   "outputs": [],
   "source": [
    "sc.pl.spatial(adata, img_key=\"hires\", color=[\"total_counts\", \"n_genes_by_counts\"])"
   ]
  },
  {
   "cell_type": "code",
   "execution_count": null,
   "id": "ceea15ff",
   "metadata": {},
   "outputs": [],
   "source": [
    "TandNK_ST_inference_bin = pd.read_csv('./nHDP/binary_nHDP_count_TNK_1L_final.csv', header = None).transpose().values\n",
    "Stroma_ST_inference_bin = pd.read_csv('./nHDP/binary_nHDP_count_Stromal_1L_final.csv', header = None).transpose().values\n",
    "B_cell_ST_inference_bin = pd.read_csv('./nHDP/binary_nHDP_count_PlasmaB_1L_final.csv', header = None).transpose().values\n",
    "Epithelial_ST_inference_bin = pd.read_csv('./nHDP/binary_nHDP_count_Epithelial_1L_final.csv', header = None).transpose().values\n",
    "Myeloid_ST_inference_bin = pd.read_csv('./nHDP/binary_nHDP_count_Myeloid_1L_final.csv', header = None).transpose().values"
   ]
  },
  {
   "cell_type": "code",
   "execution_count": null,
   "id": "fc349559",
   "metadata": {},
   "outputs": [],
   "source": [
    "#remove empty GEMs or globally-expressed(non-uniqueness) GEMs\n",
    "#return pruned GEM count matrix and deleted GEM index\n",
    "def delete_empty_or_full_GEM(count_matrix):\n",
    "    \n",
    "    GEM_to_delete = []\n",
    "    \n",
    "    for c in range(count_matrix.shape[1]):\n",
    "        this_GEM = count_matrix[:, c]\n",
    "        \n",
    "        #if non-zero mean less than 5 or GEM expressed in less than 5% spots, remove\n",
    "        if ((np.sum(this_GEM)/(np.sum(this_GEM != 0)+1) < 5) or \n",
    "        (np.count_nonzero(this_GEM) < int(0.05 * len(this_GEM)))):\n",
    "            GEM_to_delete.append(c)\n",
    "            \n",
    "#         #if globally-expressed GEM, remove\n",
    "        if ((np.sum(this_GEM)/(np.sum(this_GEM != 0)+1) > 500) and \n",
    "        (np.count_nonzero(this_GEM) > int(0.99 * len(this_GEM)))):\n",
    "            GEM_to_delete.append(c)\n",
    "    \n",
    "    count_matrix_pruned = np.delete(count_matrix, GEM_to_delete, axis = 1)\n",
    "    return count_matrix_pruned, GEM_to_delete\n",
    "        "
   ]
  },
  {
   "cell_type": "code",
   "execution_count": null,
   "id": "8ac22ece",
   "metadata": {},
   "outputs": [],
   "source": [
    "TandNK_ST_inference_bin, TandNK_drop_GEM_bin = delete_empty_or_full_GEM(TandNK_ST_inference_bin)\n",
    "Stroma_ST_inference_bin, Stroma_drop_GEM_bin = delete_empty_or_full_GEM(Stroma_ST_inference_bin)\n",
    "B_cell_ST_inference_bin, B_drop_GEM_bin = delete_empty_or_full_GEM(B_cell_ST_inference_bin)\n",
    "Epithelial_ST_inference_bin, Epithelial_drop_GEM_bin = delete_empty_or_full_GEM(Epithelial_ST_inference_bin)\n",
    "Myeloid_ST_inference_bin, Myeloid_drop_GEM_bin = delete_empty_or_full_GEM(Myeloid_ST_inference_bin)"
   ]
  },
  {
   "cell_type": "code",
   "execution_count": null,
   "id": "7f26e3b0",
   "metadata": {},
   "outputs": [],
   "source": [
    "TandNK_GEM_names_bin = ['1L TandNK GEM binary ' + str(c + 1) for c in range(85) if c not in TandNK_drop_GEM_bin]\n",
    "Stroma_GEM_names_bin = ['1L Stroma GEM binary ' + str(c + 1) for c in range(85) if c not in Stroma_drop_GEM_bin]\n",
    "B_cell_GEM_names_bin = ['1L B cell GEM binary ' + str(c + 1) for c in range(85) if c not in B_drop_GEM_bin]\n",
    "Epithelial_GEM_names_bin = ['1L Epithelial GEM binary ' + str(c + 1) for c in range(85) if c not in Epithelial_drop_GEM_bin]\n",
    "Myeloid_GEM_names_bin = ['1L Myeloid GEM binary ' + str(c + 1) for c in range(85) if c not in Myeloid_drop_GEM_bin]"
   ]
  },
  {
   "cell_type": "code",
   "execution_count": null,
   "id": "5e22b333",
   "metadata": {},
   "outputs": [],
   "source": [
    "for c in range(TandNK_ST_inference_bin.shape[1]):\n",
    "    adata.obs[TandNK_GEM_names_bin[c]] = TandNK_ST_inference_bin[:, c]\n",
    "sc.pl.spatial(adata, img_key=\"hires\", color=TandNK_GEM_names_bin, vmin=0, cmap = 'Purples', \n",
    "                      alpha_img = 0.3, colorbar_loc = 'bottom', vmax = 300)"
   ]
  },
  {
   "cell_type": "code",
   "execution_count": null,
   "id": "b45e60cd",
   "metadata": {},
   "outputs": [],
   "source": [
    "for c in range(Stroma_ST_inference_bin.shape[1]):\n",
    "    adata.obs[Stroma_GEM_names_bin[c]] = Stroma_ST_inference_bin[:, c]\n",
    "sc.pl.spatial(adata, img_key=\"hires\", color=Stroma_GEM_names_bin, vmin=0, cmap = 'Purples', \n",
    "                      alpha_img = 0.3, colorbar_loc = 'bottom', vmax = 300)"
   ]
  },
  {
   "cell_type": "code",
   "execution_count": null,
   "id": "2e43d055",
   "metadata": {},
   "outputs": [],
   "source": [
    "for c in range(B_cell_ST_inference_bin.shape[1]):\n",
    "    adata.obs[B_cell_GEM_names_bin[c]] = B_cell_ST_inference_bin[:, c]\n",
    "sc.pl.spatial(adata, img_key=\"hires\", color=B_cell_GEM_names_bin, vmin=0, cmap = 'Purples', \n",
    "                      alpha_img = 0.3, colorbar_loc = 'bottom', vmax = 300)"
   ]
  },
  {
   "cell_type": "code",
   "execution_count": null,
   "id": "14003930",
   "metadata": {
    "scrolled": false
   },
   "outputs": [],
   "source": [
    "for c in range(Epithelial_ST_inference_bin.shape[1]):\n",
    "    adata.obs[Epithelial_GEM_names_bin[c]] = Epithelial_ST_inference_bin[:, c]\n",
    "sc.pl.spatial(adata, img_key=\"hires\", color=Epithelial_GEM_names_bin, vmin=0, cmap = 'Purples', \n",
    "                      alpha_img = 0.3, colorbar_loc = 'bottom', vmax = 300)"
   ]
  },
  {
   "cell_type": "code",
   "execution_count": null,
   "id": "0060e8b9",
   "metadata": {},
   "outputs": [],
   "source": [
    "for c in range(Myeloid_ST_inference_bin.shape[1]):\n",
    "    adata.obs[Myeloid_GEM_names_bin[c]] = Myeloid_ST_inference_bin[:, c]\n",
    "sc.pl.spatial(adata, img_key=\"hires\", color=Myeloid_GEM_names_bin, vmin=0, cmap = 'Purples', \n",
    "                      alpha_img = 0.3, colorbar_loc = 'bottom', vmax = 300)"
   ]
  }
 ],
 "metadata": {
  "kernelspec": {
   "display_name": "Scanpy(Python)",
   "language": "python",
   "name": "cello_env"
  },
  "language_info": {
   "codemirror_mode": {
    "name": "ipython",
    "version": 3
   },
   "file_extension": ".py",
   "mimetype": "text/x-python",
   "name": "python",
   "nbconvert_exporter": "python",
   "pygments_lexer": "ipython3",
   "version": "3.7.13"
  }
 },
 "nbformat": 4,
 "nbformat_minor": 5
}
